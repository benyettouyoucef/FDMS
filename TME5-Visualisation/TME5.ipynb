{
 "metadata": {
  "name": "",
  "signature": "sha256:192ed475d7a428f7305e8cae7e9e67174330ec575cde001d121f76210548417d"
 },
 "nbformat": 3,
 "nbformat_minor": 0,
 "worksheets": [
  {
   "cells": [
    {
     "cell_type": "heading",
     "level": 1,
     "metadata": {},
     "source": [
      "TME4 - FDMS"
     ]
    },
    {
     "cell_type": "raw",
     "metadata": {},
     "source": [
      "\u2022\tUniversit\u00e9 Pierre et Marie Curie (UPMC)\n",
      "\u2022\tMaster Donn\u00e9es, Apprentissage, Connaissances (DAC)\n",
      "\u2022\tProfesseur Ludovic Denoyer\n",
      "\u2022\t\u00c9tudiant Benyettou Youcef"
     ]
    },
    {
     "cell_type": "heading",
     "level": 3,
     "metadata": {},
     "source": [
      "- Locally Linear Embedding (LLE)"
     ]
    },
    {
     "cell_type": "code",
     "collapsed": false,
     "input": [
      "import numpy as np\n",
      "from sklearn.linear_model import LinearRegression\n",
      "from sklearn import datasets\n",
      "import matplotlib.pyplot as plt\n",
      "\n",
      "\n",
      "mnist = datasets.load_digits()\n",
      "X = mnist.data\n",
      "Y = mnist.target\n",
      "\n",
      "K = 3 #le nombre de voisins \n",
      "N = len(X) #nombre d'exemples \n",
      "\n",
      "voisins = []\n",
      "\n",
      "def PlusProcheVoisins(X,K):\n",
      "    for i in xrange(N):\n",
      "        dist = np.linalg.norm(X[i]-X, axis =1) # N x 1\n",
      "        idx = dist.argsort() # index tri\u00e9 par ordre d\u00e9croissant selon la distance    \n",
      "        voisins.append(idx[:K+1]) #garde les indexe des plus proches voisins \n",
      "    return np.array(voisins)\n",
      "\n",
      "V = PlusProcheVoisins(X,3)\n",
      "# np.shape(V) = (1797, 3)\n"
     ],
     "language": "python",
     "metadata": {},
     "outputs": [],
     "prompt_number": 7
    },
    {
     "cell_type": "code",
     "collapsed": false,
     "input": [
      "#print np.shape(X[V][0].T)\n",
      "#print X[V][0]\n",
      "#print V[0]\n",
      "\n",
      "\"\"\" Recherche des Poids optimaux\"\"\"\n",
      "W = np.zeros((N,N)) #matrice de poids\n",
      "for i in  range(N):\n",
      "    reg_lin = LinearRegression()    \n",
      "    reg_lin.fit(X[V][i].T, X[i]) #faire une regression lin\u00e9aire pour trouver les poids optimeaux fit(les voisins de X avec X)\n",
      "    w = reg_lin.coef_ #r\u00e9cup\u00e9r\u00e9 les poids\n",
      "    #print w.shape\n",
      "    #print w\n",
      "    alpha = np.zeros((N))\n",
      "    \"\"\"il faut avoir une dimension de alpha(N) pour les affecter a la matrice des poids W(NxN)\n",
      "    tel que Wij = 0 s'il ne sont pas voisin et alpha sinon \"\"\"\n",
      "    alpha[V[i]] = w   \n",
      "    #print alpha\n",
      "    W[V[i]] = alpha\n",
      "    #print np.sum(W[19]) ----- pour v\u00e9rifier que chaque ligne somme a 1\n",
      " \n",
      "\"\"\"Calcule du cout\"\"\"\n",
      "def cout(W,Y):\n",
      "    c=0    \n",
      "    for i in range(N):\n",
      "        Yv = W[i]*Y[i]\n",
      "        idx = np.where(W[i]!=0) #je r\u00e9cupere les indexe\n",
      "        Yv = Yv[idx] \n",
      "        t = W[i][idx]\n",
      "        c += (Y[i]- np.sum(Yv*t))**2\n",
      "    #print c\n",
      "    return c\n",
      "\n",
      "cout(W,Y)\n",
      "\n",
      "\"\"\"contruction des Y en utilisant les poids trouver pr\u00e9cedement\"\"\"\n",
      "\n",
      "esp = 0.001\n",
      "maxiter = 5000  \n",
      "y = np.random.rand(N , 2)\n",
      "print y\n",
      "\n",
      "for i in range(maxiter):\n",
      "    ind = np.random.choice(N)\n",
      "    Yv = W[ind]*Y[ind]\n",
      "    idx = np.where(W[ind]!=0) #je r\u00e9cupere les indexe\n",
      "    Yv = Yv[idx]\n",
      "    t = W[ind][idx]\n",
      "    y[ind] -= esp*2*(Y[ind]-np.sum(Yv*t))\n",
      "    #cout(W,Y)\n",
      "print y  "
     ],
     "language": "python",
     "metadata": {},
     "outputs": [
      {
       "output_type": "stream",
       "stream": "stdout",
       "text": [
        "[[ 0.96284171  0.73299364]\n",
        " [ 0.21781873  0.59747882]\n",
        " [ 0.64028983  0.33487869]\n",
        " ..., \n",
        " [ 0.99649967  0.10710285]\n",
        " [ 0.94281697  0.12110402]\n",
        " [ 0.39611233  0.88542261]]\n",
        "[[ 0.96284171  0.73299364]\n",
        " [ 0.21781873  0.59747882]\n",
        " [ 0.64028983  0.33487869]\n",
        " ..., \n",
        " [ 0.99649967  0.10710285]\n",
        " [ 0.94281697  0.12110402]\n",
        " [ 0.39611233  0.88542261]]"
       ]
      },
      {
       "output_type": "stream",
       "stream": "stdout",
       "text": [
        "\n"
       ]
      }
     ],
     "prompt_number": 8
    },
    {
     "cell_type": "code",
     "collapsed": false,
     "input": [
      "print Yv.shape\n",
      "print X.shape\n",
      "print Y.shape\n",
      "print W.shape\n",
      "print w.shape\n",
      "print W[0].shape"
     ],
     "language": "python",
     "metadata": {},
     "outputs": [
      {
       "output_type": "stream",
       "stream": "stdout",
       "text": [
        " (4,)\n",
        "(1797, 64)\n",
        "(1797,)\n",
        "(1797, 1797)\n",
        "(4,)\n",
        "(1797,)\n"
       ]
      }
     ],
     "prompt_number": 171
    }
   ],
   "metadata": {}
  }
 ]
}