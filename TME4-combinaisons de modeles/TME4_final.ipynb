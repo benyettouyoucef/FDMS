{
 "metadata": {
  "name": "",
  "signature": "sha256:e630d98cd40de8f5bce4f2354ff9034edf418a23515f8aa960c0f0a5b1ab2921"
 },
 "nbformat": 3,
 "nbformat_minor": 0,
 "worksheets": [
  {
   "cells": [
    {
     "cell_type": "heading",
     "level": 1,
     "metadata": {},
     "source": [
      "TME3 - AS"
     ]
    },
    {
     "cell_type": "raw",
     "metadata": {},
     "source": [
      "\u2022\tUniversit\u00e9 Pierre et Marie Curie (UPMC)\n",
      "\u2022\tMaster Donn\u00e9es, Apprentissage, Connaissances (DAC)\n",
      "\u2022\tProfesseur Ludovic Denoyer\n",
      "\u2022\t\u00c9tudiant Benyettou Youcef\n"
     ]
    },
    {
     "cell_type": "heading",
     "level": 2,
     "metadata": {},
     "source": [
      "1- Bagging"
     ]
    },
    {
     "cell_type": "code",
     "collapsed": false,
     "input": [
      "%matplotlib inline \n",
      "import numpy as np\n",
      "from sklearn import datasets\n",
      "from sklearn import metrics\n",
      "from sklearn import tree\n",
      "from sklearn import cross_validation\n",
      "from sklearn.grid_search import GridSearchCV\n",
      "import matplotlib.pyplot as plt\n",
      "\n",
      "\n",
      "class bagging():\n",
      "\n",
      "    def __init__(self,B=5):\n",
      "        self.B = B #nombre de classifieurs    \n",
      "   \n",
      "    def fit(self, X,Y):\n",
      "        n = X.shape[0] #nombre d'exemple\n",
      "        n_class = n/self.B #sous ensemble pour mes classifieurs\n",
      "        self.clf = [tree.DecisionTreeClassifier(max_depth=1) for i in range(self.B)] #initialisation des classifeur (stump) \n",
      "        for i in xrange(self.B): #train\n",
      "            ids = np.random.choice(n,n_class) #on tire des point depuis {} d'exemple pour apprendre\n",
      "            self.clf[i]= self.clf[i].fit(X[ids],Y[ids]) #on entraine chaque classifieur sur cet ensemble\n",
      "        \n",
      "    def prediction(self, X):\n",
      "        out = []\n",
      "        for i in xrange(len(X)): #pour chaque exemple on va le test\u00e9 sur nos classiffieurs d\u00e9ja apris\n",
      "            result = []\n",
      "            for j in xrange(self.B): #prediction\n",
      "                result.append(self.clf[j].predict(X[i].reshape(1, X.shape[1]))) \n",
      "            out.append(np.sign(np.sum(result))) #on prend le vote majoritaire des clf\n",
      "        return np.array(out)\n",
      "\n",
      "    def accuracy(self, pred , Y):\n",
      "        acc = pred - Y\n",
      "        return 100.0*len(np.where(acc == 0)[0])/len(pred)*1.0  \n",
      "\n",
      "\n",
      "\n",
      "breast_cancer_scale = datasets.fetch_mldata('breast-cancer_scale')\n",
      "X=breast_cancer_scale.data\n",
      "Y=breast_cancer_scale.target\n",
      "Y[np.where(Y == 4)] = 1\n",
      "Y[np.where(Y == 2)] = -1\n",
      "xtrain, xtest, ytrain, ytest = cross_validation.train_test_split(X, Y, test_size=0.2, random_state=0)\n",
      "\n",
      "maxc=50\n",
      "acc=np.zeros(maxc)\n",
      "training_error=np.zeros(maxc)\n",
      "for B in xrange(0,maxc):\n",
      "    bag = bagging(B+1)\n",
      "    train = bag.fit(xtrain,ytrain)\n",
      "\n",
      "    pred = bag.prediction(xtrain)                      #Estimation de l'erreur sur la base d'apprentissage\n",
      "    training_error[B]= 100-bag.accuracy(pred,ytrain)\n",
      "    \n",
      "    pred = bag.prediction(xtest)                       #Estimation du taux de reconnaissance sur la base de test\n",
      "    acc[B]= bag.accuracy(pred,ytest)\n",
      "    print('%2d classifiers =>    Accuracy:%.2f%%      Training Error Rate:%.2f%%' % (B+1,acc[B],training_error[B]))\n",
      "\n",
      "    \n",
      "plt.plot(np.linspace(1,maxc,maxc),training_error)\n",
      "plt.xlabel('Classifier number')\n",
      "plt.ylabel('Training Error Rate')\n",
      "plt.title('Bagging - Decision Tree')\n",
      "plt.show()\n",
      "    \n",
      "plt.plot(np.linspace(1,maxc,maxc),acc)\n",
      "plt.xlabel('Classifier number')\n",
      "plt.ylabel('Accuracy')\n",
      "plt.title('Bagging - Decision Tree')\n",
      "plt.show()\n",
      "    \n",
      "\n",
      "    "
     ],
     "language": "python",
     "metadata": {},
     "outputs": [
      {
       "output_type": "stream",
       "stream": "stdout",
       "text": [
        " 1 classifiers =>    Accuracy:92.70%      Training Error Rate:7.33%\n",
        " 2 classifiers =>    Accuracy:81.75%      Training Error Rate:12.45%"
       ]
      },
      {
       "output_type": "stream",
       "stream": "stdout",
       "text": [
        "\n",
        " 3 classifiers =>    Accuracy:95.62%      Training Error Rate:5.49%"
       ]
      },
      {
       "output_type": "stream",
       "stream": "stdout",
       "text": [
        "\n",
        " 4 classifiers =>    Accuracy:91.24%      Training Error Rate:9.89%"
       ]
      },
      {
       "output_type": "stream",
       "stream": "stdout",
       "text": [
        "\n",
        " 5 classifiers =>    Accuracy:95.62%      Training Error Rate:6.04%"
       ]
      },
      {
       "output_type": "stream",
       "stream": "stdout",
       "text": [
        "\n",
        " 6 classifiers =>    Accuracy:94.89%      Training Error Rate:5.86%"
       ]
      },
      {
       "output_type": "stream",
       "stream": "stdout",
       "text": [
        "\n",
        " 7 classifiers =>    Accuracy:94.89%      Training Error Rate:3.48%"
       ]
      },
      {
       "output_type": "stream",
       "stream": "stdout",
       "text": [
        "\n",
        " 8 classifiers =>    Accuracy:96.35%      Training Error Rate:5.13%"
       ]
      },
      {
       "output_type": "stream",
       "stream": "stdout",
       "text": [
        "\n",
        " 9 classifiers =>    Accuracy:94.89%      Training Error Rate:3.11%"
       ]
      },
      {
       "output_type": "stream",
       "stream": "stdout",
       "text": [
        "\n",
        "10 classifiers =>    Accuracy:92.70%      Training Error Rate:4.58%"
       ]
      },
      {
       "output_type": "stream",
       "stream": "stdout",
       "text": [
        "\n",
        "11 classifiers =>    Accuracy:96.35%      Training Error Rate:3.30%"
       ]
      },
      {
       "output_type": "stream",
       "stream": "stdout",
       "text": [
        "\n",
        "12 classifiers =>    Accuracy:94.16%      Training Error Rate:7.88%"
       ]
      },
      {
       "output_type": "stream",
       "stream": "stdout",
       "text": [
        "\n",
        "13 classifiers =>    Accuracy:95.62%      Training Error Rate:2.93%"
       ]
      },
      {
       "output_type": "stream",
       "stream": "stdout",
       "text": [
        "\n",
        "14 classifiers =>    Accuracy:92.70%      Training Error Rate:4.58%"
       ]
      },
      {
       "output_type": "stream",
       "stream": "stdout",
       "text": [
        "\n",
        "15 classifiers =>    Accuracy:96.35%      Training Error Rate:3.30%"
       ]
      },
      {
       "output_type": "stream",
       "stream": "stdout",
       "text": [
        "\n",
        "16 classifiers =>    Accuracy:95.62%      Training Error Rate:3.66%"
       ]
      },
      {
       "output_type": "stream",
       "stream": "stdout",
       "text": [
        "\n",
        "17 classifiers =>    Accuracy:96.35%      Training Error Rate:2.75%"
       ]
      },
      {
       "output_type": "stream",
       "stream": "stdout",
       "text": [
        "\n",
        "18 classifiers =>    Accuracy:96.35%      Training Error Rate:5.13%"
       ]
      },
      {
       "output_type": "stream",
       "stream": "stdout",
       "text": [
        "\n",
        "19 classifiers =>    Accuracy:94.89%      Training Error Rate:3.11%"
       ]
      },
      {
       "output_type": "stream",
       "stream": "stdout",
       "text": [
        "\n",
        "20 classifiers =>    Accuracy:94.89%      Training Error Rate:3.66%"
       ]
      },
      {
       "output_type": "stream",
       "stream": "stdout",
       "text": [
        "\n",
        "21 classifiers =>    Accuracy:96.35%      Training Error Rate:3.66%"
       ]
      },
      {
       "output_type": "stream",
       "stream": "stdout",
       "text": [
        "\n",
        "22 classifiers =>    Accuracy:94.89%      Training Error Rate:3.48%"
       ]
      },
      {
       "output_type": "stream",
       "stream": "stdout",
       "text": [
        "\n",
        "23 classifiers =>    Accuracy:96.35%      Training Error Rate:2.38%"
       ]
      },
      {
       "output_type": "stream",
       "stream": "stdout",
       "text": [
        "\n",
        "24 classifiers =>    Accuracy:96.35%      Training Error Rate:4.03%"
       ]
      },
      {
       "output_type": "stream",
       "stream": "stdout",
       "text": [
        "\n",
        "25 classifiers =>    Accuracy:95.62%      Training Error Rate:3.11%"
       ]
      },
      {
       "output_type": "stream",
       "stream": "stdout",
       "text": [
        "\n",
        "26 classifiers =>    Accuracy:95.62%      Training Error Rate:2.93%"
       ]
      },
      {
       "output_type": "stream",
       "stream": "stdout",
       "text": [
        "\n",
        "27 classifiers =>    Accuracy:96.35%      Training Error Rate:3.85%"
       ]
      },
      {
       "output_type": "stream",
       "stream": "stdout",
       "text": [
        "\n",
        "28 classifiers =>    Accuracy:95.62%      Training Error Rate:3.66%"
       ]
      },
      {
       "output_type": "stream",
       "stream": "stdout",
       "text": [
        "\n",
        "29 classifiers =>    Accuracy:96.35%      Training Error Rate:3.48%"
       ]
      },
      {
       "output_type": "stream",
       "stream": "stdout",
       "text": [
        "\n",
        "30 classifiers =>    Accuracy:94.16%      Training Error Rate:3.85%"
       ]
      },
      {
       "output_type": "stream",
       "stream": "stdout",
       "text": [
        "\n",
        "31 classifiers =>    Accuracy:95.62%      Training Error Rate:2.75%"
       ]
      },
      {
       "output_type": "stream",
       "stream": "stdout",
       "text": [
        "\n",
        "32 classifiers =>    Accuracy:93.43%      Training Error Rate:3.85%"
       ]
      },
      {
       "output_type": "stream",
       "stream": "stdout",
       "text": [
        "\n",
        "33 classifiers =>    Accuracy:96.35%      Training Error Rate:2.93%"
       ]
      },
      {
       "output_type": "stream",
       "stream": "stdout",
       "text": [
        "\n",
        "34 classifiers =>    Accuracy:94.89%      Training Error Rate:3.48%"
       ]
      },
      {
       "output_type": "stream",
       "stream": "stdout",
       "text": [
        "\n",
        "35 classifiers =>    Accuracy:97.08%      Training Error Rate:2.93%"
       ]
      },
      {
       "output_type": "stream",
       "stream": "stdout",
       "text": [
        "\n",
        "36 classifiers =>    Accuracy:94.89%      Training Error Rate:4.40%"
       ]
      },
      {
       "output_type": "stream",
       "stream": "stdout",
       "text": [
        "\n",
        "37 classifiers =>    Accuracy:94.89%      Training Error Rate:4.58%"
       ]
      },
      {
       "output_type": "stream",
       "stream": "stdout",
       "text": [
        "\n",
        "38 classifiers =>    Accuracy:93.43%      Training Error Rate:4.40%"
       ]
      },
      {
       "output_type": "stream",
       "stream": "stdout",
       "text": [
        "\n",
        "39 classifiers =>    Accuracy:94.89%      Training Error Rate:4.58%"
       ]
      },
      {
       "output_type": "stream",
       "stream": "stdout",
       "text": [
        "\n",
        "40 classifiers =>    Accuracy:93.43%      Training Error Rate:3.85%"
       ]
      },
      {
       "output_type": "stream",
       "stream": "stdout",
       "text": [
        "\n",
        "41 classifiers =>    Accuracy:95.62%      Training Error Rate:3.48%"
       ]
      },
      {
       "output_type": "stream",
       "stream": "stdout",
       "text": [
        "\n",
        "42 classifiers =>    Accuracy:93.43%      Training Error Rate:4.03%"
       ]
      },
      {
       "output_type": "stream",
       "stream": "stdout",
       "text": [
        "\n",
        "43 classifiers =>    Accuracy:95.62%      Training Error Rate:3.48%"
       ]
      },
      {
       "output_type": "stream",
       "stream": "stdout",
       "text": [
        "\n",
        "44 classifiers =>    Accuracy:92.70%      Training Error Rate:4.03%"
       ]
      },
      {
       "output_type": "stream",
       "stream": "stdout",
       "text": [
        "\n",
        "45 classifiers =>    Accuracy:94.89%      Training Error Rate:3.11%"
       ]
      },
      {
       "output_type": "stream",
       "stream": "stdout",
       "text": [
        "\n",
        "46 classifiers =>    Accuracy:93.43%      Training Error Rate:4.95%"
       ]
      },
      {
       "output_type": "stream",
       "stream": "stdout",
       "text": [
        "\n",
        "47 classifiers =>    Accuracy:94.89%      Training Error Rate:3.66%"
       ]
      },
      {
       "output_type": "stream",
       "stream": "stdout",
       "text": [
        "\n",
        "48 classifiers =>    Accuracy:94.89%      Training Error Rate:4.21%"
       ]
      },
      {
       "output_type": "stream",
       "stream": "stdout",
       "text": [
        "\n",
        "49 classifiers =>    Accuracy:96.35%      Training Error Rate:3.66%"
       ]
      },
      {
       "output_type": "stream",
       "stream": "stdout",
       "text": [
        "\n",
        "50 classifiers =>    Accuracy:93.43%      Training Error Rate:4.40%"
       ]
      },
      {
       "output_type": "stream",
       "stream": "stdout",
       "text": [
        "\n"
       ]
      },
      {
       "metadata": {},
       "output_type": "display_data",
       "png": "[encoded data removed]",
       "text": [
        "<matplotlib.figure.Figure at 0xd2fc4d0>"
       ]
      },
      {
       "metadata": {},
       "output_type": "display_data",
       "png": "[encoded data removed]",
       "text": [
        "<matplotlib.figure.Figure at 0xd472f90>"
       ]
      }
     ],
     "prompt_number": 1
    },
    {
     "cell_type": "heading",
     "level": 2,
     "metadata": {},
     "source": [
      "2- Adaboost"
     ]
    },
    {
     "cell_type": "code",
     "collapsed": false,
     "input": [
      "from __future__ import division\n",
      "import math\n",
      "class Boost():\n",
      "    \n",
      "    def __init__(self, b):\n",
      "        self.b = b #nombre de clasiffieurs\n",
      "        \n",
      "    def fit(self, x, y):\n",
      "        #Poids des exemples normalis\u00e9s\n",
      "        self.w = np.zeros((len(x)))\n",
      "        for i in range(len(x)):\n",
      "            self.w[i] = 1/len(x) #distribution uniforme des poids initial\n",
      "        self.classifs = [tree.DecisionTreeClassifier(max_depth=1) for i in range(self.b)]\n",
      "        self.alphas = [[] for i in range(self.b)]\n",
      "\n",
      "        for i in range(self.b):\n",
      "            self.classifs[i].fit(x , y , sample_weight = self.w) #apprendre avec notre stump\n",
      "            pred = self.classifs[i].predict(x) #la sorti h(t)\n",
      "            idx_diff = np.where(pred != y)[0] #r\u00e9cup\u00e9r\u00e9 les indexe ou y != h(t)\n",
      "            \n",
      "            error = 0\n",
      "            for idx in idx_diff:\n",
      "                error += self.w[idx]\n",
      "            \n",
      "            #print('erreur = ',error) #si l'erreur es inf a 1/2 le classiffieur es s\u00e9l\u00e9ctionn\u00e9\n",
      "            if error < 0.5 : #si l'erreur es > a 0.5 ca nous int\u00e9resse pas\n",
      "                self.alphas[i] = float(0.5*np.log((1 - error) / error))\n",
      "                z = float(2*np.sqrt(error*(1-error)))\n",
      "                # Z facteur de normalisation\n",
      "                                    \n",
      "                for k in range(len(self.w)): #mettre a jour w\n",
      "                    self.w[k] *= (np.exp(-self.alphas[i] * y[k] * pred[k]) / (z*1.0))\n",
      "\n",
      "            else : self.alpha[i]= 0    \n",
      "        \n",
      "        \n",
      "    def predict(self, x):\n",
      "        pred = []\n",
      "        for example in x:\n",
      "            results = np.array([self.classifs[i].predict(example.reshape(1 , x.shape[1])) for i in range(self.b)])\n",
      "            final = np.sign(np.dot(np.array(self.alphas).T , results))\n",
      "            pred.append(final)\n",
      "        return np.array(pred) \n",
      "    \n",
      "    def accuracy(self, pred , Y):\n",
      "        acc = pred - Y.reshape(len(Y),1)\n",
      "        return 100.0*len(np.where(acc == 0)[0])/len(pred)*1.0  \n",
      "\n",
      "\n",
      "breast_cancer_scale = datasets.fetch_mldata('breast-cancer_scale')\n",
      "X=breast_cancer_scale.data\n",
      "Y=breast_cancer_scale.target\n",
      "Y[np.where(Y == 4)] = 1\n",
      "Y[np.where(Y == 2)] = -1\n",
      "xtrain, xtest, ytrain, ytest = cross_validation.train_test_split(X, Y, test_size=0.2, random_state=0)    \n",
      "\n",
      "maxc=50\n",
      "acc=np.zeros(maxc)\n",
      "training_error=np.zeros(maxc)\n",
      "for B in xrange(0,maxc):\n",
      "    boost = Boost(B+1)\n",
      "    boost.fit(xtrain , ytrain)\n",
      "    \n",
      "    pred = boost.predict(xtrain)                        #Estimation de l'erreur sur la base d'apprentissage  \n",
      "    training_error[B]=100-boost.accuracy(pred,ytrain)\n",
      "    \n",
      "    pred = boost.predict(xtest)                         #Estimation du taux de reconnaissance sur la base de test \n",
      "    acc[B]= boost.accuracy(pred,ytest)\n",
      "    print('%2d classifiers =>    Accuracy:%.2f%%      Training Error Rate:%.2f%%' % (B+1,acc[B],training_error[B]))\n",
      "\n",
      "plt.plot(np.linspace(1,maxc,maxc),training_error)\n",
      "plt.xlabel('Classifier number')\n",
      "plt.ylabel('Training Error Rate')\n",
      "plt.title('AdaBoost - Decision Tree')\n",
      "plt.show()\n",
      "\n",
      "plt.plot(np.linspace(1,maxc,maxc),acc)\n",
      "plt.xlabel('Classifier number')\n",
      "plt.ylabel('Accuracy')\n",
      "plt.title('AdaBoost - Decision Tree')\n",
      "plt.show()"
     ],
     "language": "python",
     "metadata": {},
     "outputs": [
      {
       "output_type": "stream",
       "stream": "stdout",
       "text": [
        " 1 classifiers =>    Accuracy:92.70%      Training Error Rate:7.33%\n",
        " 2 classifiers =>    Accuracy:92.70%      Training Error Rate:7.33%"
       ]
      },
      {
       "output_type": "stream",
       "stream": "stdout",
       "text": [
        "\n",
        " 3 classifiers =>    Accuracy:97.08%      Training Error Rate:5.31%"
       ]
      },
      {
       "output_type": "stream",
       "stream": "stdout",
       "text": [
        "\n",
        " 4 classifiers =>    Accuracy:96.35%      Training Error Rate:4.76%"
       ]
      },
      {
       "output_type": "stream",
       "stream": "stdout",
       "text": [
        "\n",
        " 5 classifiers =>    Accuracy:97.08%      Training Error Rate:4.03%"
       ]
      },
      {
       "output_type": "stream",
       "stream": "stdout",
       "text": [
        "\n",
        " 6 classifiers =>    Accuracy:96.35%      Training Error Rate:5.49%"
       ]
      },
      {
       "output_type": "stream",
       "stream": "stdout",
       "text": [
        "\n",
        " 7 classifiers =>    Accuracy:97.08%      Training Error Rate:3.48%"
       ]
      },
      {
       "output_type": "stream",
       "stream": "stdout",
       "text": [
        "\n",
        " 8 classifiers =>    Accuracy:96.35%      Training Error Rate:4.21%"
       ]
      },
      {
       "output_type": "stream",
       "stream": "stdout",
       "text": [
        "\n",
        " 9 classifiers =>    Accuracy:95.62%      Training Error Rate:4.21%"
       ]
      },
      {
       "output_type": "stream",
       "stream": "stdout",
       "text": [
        "\n",
        "10 classifiers =>    Accuracy:96.35%      Training Error Rate:4.21%"
       ]
      },
      {
       "output_type": "stream",
       "stream": "stdout",
       "text": [
        "\n",
        "11 classifiers =>    Accuracy:96.35%      Training Error Rate:4.21%"
       ]
      },
      {
       "output_type": "stream",
       "stream": "stdout",
       "text": [
        "\n",
        "12 classifiers =>    Accuracy:96.35%      Training Error Rate:4.21%"
       ]
      },
      {
       "output_type": "stream",
       "stream": "stdout",
       "text": [
        "\n",
        "13 classifiers =>    Accuracy:96.35%      Training Error Rate:4.03%"
       ]
      },
      {
       "output_type": "stream",
       "stream": "stdout",
       "text": [
        "\n",
        "14 classifiers =>    Accuracy:96.35%      Training Error Rate:4.21%"
       ]
      },
      {
       "output_type": "stream",
       "stream": "stdout",
       "text": [
        "\n",
        "15 classifiers =>    Accuracy:96.35%      Training Error Rate:4.03%"
       ]
      },
      {
       "output_type": "stream",
       "stream": "stdout",
       "text": [
        "\n",
        "16 classifiers =>    Accuracy:96.35%      Training Error Rate:3.66%"
       ]
      },
      {
       "output_type": "stream",
       "stream": "stdout",
       "text": [
        "\n",
        "17 classifiers =>    Accuracy:96.35%      Training Error Rate:3.66%"
       ]
      },
      {
       "output_type": "stream",
       "stream": "stdout",
       "text": [
        "\n",
        "18 classifiers =>    Accuracy:96.35%      Training Error Rate:3.66%"
       ]
      },
      {
       "output_type": "stream",
       "stream": "stdout",
       "text": [
        "\n",
        "19 classifiers =>    Accuracy:96.35%      Training Error Rate:3.30%"
       ]
      },
      {
       "output_type": "stream",
       "stream": "stdout",
       "text": [
        "\n",
        "20 classifiers =>    Accuracy:96.35%      Training Error Rate:3.11%"
       ]
      },
      {
       "output_type": "stream",
       "stream": "stdout",
       "text": [
        "\n",
        "21 classifiers =>    Accuracy:96.35%      Training Error Rate:3.30%"
       ]
      },
      {
       "output_type": "stream",
       "stream": "stdout",
       "text": [
        "\n",
        "22 classifiers =>    Accuracy:96.35%      Training Error Rate:3.11%"
       ]
      },
      {
       "output_type": "stream",
       "stream": "stdout",
       "text": [
        "\n",
        "23 classifiers =>    Accuracy:96.35%      Training Error Rate:3.11%"
       ]
      },
      {
       "output_type": "stream",
       "stream": "stdout",
       "text": [
        "\n",
        "24 classifiers =>    Accuracy:96.35%      Training Error Rate:3.66%"
       ]
      },
      {
       "output_type": "stream",
       "stream": "stdout",
       "text": [
        "\n",
        "25 classifiers =>    Accuracy:96.35%      Training Error Rate:3.85%"
       ]
      },
      {
       "output_type": "stream",
       "stream": "stdout",
       "text": [
        "\n",
        "26 classifiers =>    Accuracy:96.35%      Training Error Rate:3.48%"
       ]
      },
      {
       "output_type": "stream",
       "stream": "stdout",
       "text": [
        "\n",
        "27 classifiers =>    Accuracy:96.35%      Training Error Rate:3.66%"
       ]
      },
      {
       "output_type": "stream",
       "stream": "stdout",
       "text": [
        "\n",
        "28 classifiers =>    Accuracy:96.35%      Training Error Rate:3.30%"
       ]
      },
      {
       "output_type": "stream",
       "stream": "stdout",
       "text": [
        "\n",
        "29 classifiers =>    Accuracy:96.35%      Training Error Rate:3.48%"
       ]
      },
      {
       "output_type": "stream",
       "stream": "stdout",
       "text": [
        "\n",
        "30 classifiers =>    Accuracy:96.35%      Training Error Rate:3.30%"
       ]
      },
      {
       "output_type": "stream",
       "stream": "stdout",
       "text": [
        "\n",
        "31 classifiers =>    Accuracy:96.35%      Training Error Rate:3.30%"
       ]
      },
      {
       "output_type": "stream",
       "stream": "stdout",
       "text": [
        "\n",
        "32 classifiers =>    Accuracy:96.35%      Training Error Rate:3.11%"
       ]
      },
      {
       "output_type": "stream",
       "stream": "stdout",
       "text": [
        "\n",
        "33 classifiers =>    Accuracy:96.35%      Training Error Rate:3.30%"
       ]
      },
      {
       "output_type": "stream",
       "stream": "stdout",
       "text": [
        "\n",
        "34 classifiers =>    Accuracy:96.35%      Training Error Rate:3.11%"
       ]
      },
      {
       "output_type": "stream",
       "stream": "stdout",
       "text": [
        "\n",
        "35 classifiers =>    Accuracy:96.35%      Training Error Rate:3.30%"
       ]
      },
      {
       "output_type": "stream",
       "stream": "stdout",
       "text": [
        "\n",
        "36 classifiers =>    Accuracy:97.08%      Training Error Rate:2.93%"
       ]
      },
      {
       "output_type": "stream",
       "stream": "stdout",
       "text": [
        "\n",
        "37 classifiers =>    Accuracy:96.35%      Training Error Rate:2.56%"
       ]
      },
      {
       "output_type": "stream",
       "stream": "stdout",
       "text": [
        "\n",
        "38 classifiers =>    Accuracy:96.35%      Training Error Rate:2.93%"
       ]
      },
      {
       "output_type": "stream",
       "stream": "stdout",
       "text": [
        "\n",
        "39 classifiers =>    Accuracy:96.35%      Training Error Rate:2.56%"
       ]
      },
      {
       "output_type": "stream",
       "stream": "stdout",
       "text": [
        "\n",
        "40 classifiers =>    Accuracy:96.35%      Training Error Rate:2.93%"
       ]
      },
      {
       "output_type": "stream",
       "stream": "stdout",
       "text": [
        "\n",
        "41 classifiers =>    Accuracy:96.35%      Training Error Rate:2.38%"
       ]
      },
      {
       "output_type": "stream",
       "stream": "stdout",
       "text": [
        "\n",
        "42 classifiers =>    Accuracy:96.35%      Training Error Rate:2.75%"
       ]
      },
      {
       "output_type": "stream",
       "stream": "stdout",
       "text": [
        "\n",
        "43 classifiers =>    Accuracy:96.35%      Training Error Rate:2.75%"
       ]
      },
      {
       "output_type": "stream",
       "stream": "stdout",
       "text": [
        "\n",
        "44 classifiers =>    Accuracy:96.35%      Training Error Rate:2.56%"
       ]
      },
      {
       "output_type": "stream",
       "stream": "stdout",
       "text": [
        "\n",
        "45 classifiers =>    Accuracy:96.35%      Training Error Rate:2.56%"
       ]
      },
      {
       "output_type": "stream",
       "stream": "stdout",
       "text": [
        "\n",
        "46 classifiers =>    Accuracy:96.35%      Training Error Rate:2.56%"
       ]
      },
      {
       "output_type": "stream",
       "stream": "stdout",
       "text": [
        "\n",
        "47 classifiers =>    Accuracy:96.35%      Training Error Rate:2.20%"
       ]
      },
      {
       "output_type": "stream",
       "stream": "stdout",
       "text": [
        "\n",
        "48 classifiers =>    Accuracy:96.35%      Training Error Rate:2.56%"
       ]
      },
      {
       "output_type": "stream",
       "stream": "stdout",
       "text": [
        "\n",
        "49 classifiers =>    Accuracy:96.35%      Training Error Rate:2.38%"
       ]
      },
      {
       "output_type": "stream",
       "stream": "stdout",
       "text": [
        "\n",
        "50 classifiers =>    Accuracy:96.35%      Training Error Rate:2.56%"
       ]
      },
      {
       "output_type": "stream",
       "stream": "stdout",
       "text": [
        "\n"
       ]
      },
      {
       "metadata": {},
       "output_type": "display_data",
       "png": "[encoded data removed]",
       "text": [
        "<matplotlib.figure.Figure at 0x3b8ca50>"
       ]
      },
      {
       "metadata": {},
       "output_type": "display_data",
       "png": "[encoded data removed]",
       "text": [
        "<matplotlib.figure.Figure at 0xd67c810>"
       ]
      }
     ],
     "prompt_number": 2
    },
    {
     "cell_type": "code",
     "collapsed": false,
     "input": [],
     "language": "python",
     "metadata": {},
     "outputs": []
    }
   ],
   "metadata": {}
  }
 ]
}