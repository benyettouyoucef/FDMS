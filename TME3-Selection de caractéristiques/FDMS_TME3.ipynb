{
 "metadata": {
  "kernelspec": {
   "display_name": "Python 2",
   "language": "python",
   "name": "python2"
  },
  "language_info": {
   "codemirror_mode": {
    "name": "ipython",
    "version": 2
   },
   "file_extension": ".py",
   "mimetype": "text/x-python",
   "name": "python",
   "nbconvert_exporter": "python",
   "pygments_lexer": "ipython2",
   "version": "2.7.9"
  },
  "name": "",
  "signature": "sha256:acd936cd95ad13a1cb93db3f2e50c6c3a82e0b96d4be75caeb165ff67d7054b4"
 },
 "nbformat": 3,
 "nbformat_minor": 0,
 "worksheets": [
  {
   "cells": [
    {
     "cell_type": "heading",
     "level": 1,
     "metadata": {},
     "source": [
      "TME 2 - FDMS - DAC"
     ]
    },
    {
     "cell_type": "raw",
     "metadata": {},
     "source": [
      "\u2022\tUniversit\u00e9 Pierre et Marie Curie (UPMC)\n",
      "\u2022\tMaster Donn\u00e9es, Apprentissage, Connaissances (DAC)\n",
      "\u2022\tProfesseur Ludovic Denoyer\n",
      "\u2022\t\u00c9tudiant Benyettou Youcef\n"
     ]
    },
    {
     "cell_type": "heading",
     "level": 1,
     "metadata": {},
     "source": [
      "Sommaire\n"
     ]
    },
    {
     "cell_type": "markdown",
     "metadata": {},
     "source": [
      "1.\tIntroduction\n",
      "2.\tLa r\u00e9gularisation L1\n",
      "3.\tLa R\u00e9gularisation L2\n",
      "4.\tAnalyse visuelle des r\u00e9gularisations L1 et L2\n",
      "5.\tEtude du model Lasso\n"
     ]
    },
    {
     "cell_type": "heading",
     "level": 1,
     "metadata": {},
     "source": [
      "1. Introduction"
     ]
    },
    {
     "cell_type": "markdown",
     "metadata": {},
     "source": [
      "Dans ce ipython, nous avons impl\u00e9ment\u00e9 un mod\u00e8le lin\u00e9aire sous forme d\u2019une classe python et qui permet de classifier tout en s\u00e9lectionnant les caract\u00e9ristiques d\u2019entr\u00e9s les plus utiles, optimisable avec descente de gradient(clipping), et r\u00e9gularisable avec la norme L1 , L2,  L1 et L2 . Nous avons ensuite utiliser une m\u00e9thode de type cross-validation a\ufb01n de calculer la performance moyenne de ce mod\u00e8le et le test\u00e9 pour tout un ensemble de valeurs de \u03bb, ainsi nous avons pu v\u00e9rifier son bon fonctionnement,comme nous avons aussi trac\u00e9 la courbe de performance en fonction de la sparsit\u00e9 du mod\u00e8le. Et enfin nous l\u2019avons compar\u00e9 au model impl\u00e9ment\u00e9 Lasso "
     ]
    },
    {
     "cell_type": "heading",
     "level": 1,
     "metadata": {},
     "source": [
      "2. La r\u00e9gularisation L1"
     ]
    },
    {
     "cell_type": "code",
     "collapsed": false,
     "input": [
      "#Implementation de la regulatisation L1 \n",
      "%matplotlib inline\n",
      "from __future__ import division \n",
      "import numpy as np\n",
      "import sys\n",
      "from sklearn import datasets\n",
      "from sklearn import metrics\n",
      "from sklearn import cross_validation\n",
      "from sklearn.base import BaseEstimator,ClassifierMixin\n",
      "from sklearn.grid_search import GridSearchCV\n",
      "\n",
      "import matplotlib.pyplot as plt\n",
      "\n",
      "\n",
      "class regularisationL1(BaseEstimator,ClassifierMixin):\n",
      "    \n",
      "    def __init__(self, dim, lamda=0 , eps=0.01, maxiter=100):\n",
      "        np.random.seed(0) #le m\u00eame vecteur de poids initial a chaque fois\n",
      "        self.maxiter= maxiter\n",
      "        self.dim = dim\n",
      "        self.w = np.random.rand(1,dim)\n",
      "        self.lamda = lamda\n",
      "        self.eps = eps\n",
      "        \n",
      "    def MSE(self,X,Y): #notre fonction cout\n",
      "        return np.mean((np.dot(X , self.w.T) - Y)**2)/2.0 + (self.lamda*np.absolute(self.w).sum())\n",
      "    \n",
      "    def grad(self, X, Y): \n",
      "        return (np.dot(X , self.w.T) - Y) * X\n",
      "   \n",
      "    def fit(self, X,Y):\n",
      "        n = X.shape[1]        \n",
      "        self.log_cout = np.zeros((self.maxiter , 1))        \n",
      "        self.log_cout[0] = self.MSE(X , Y)\n",
      "        \n",
      "        for it in xrange(1,self.maxiter):\n",
      "            for i in xrange(1,n):\n",
      "                self.ow = self.w\n",
      "                idx = np.random.randint(n)\n",
      "                x = X[idx].reshape(1 , self.dim)\n",
      "                y = Y[idx].reshape(1 ,1)\n",
      "                self.w = self.w - self.eps*self.grad(x ,y) - self.eps*self.lamda*np.sign(self.w)\n",
      " \n",
      "                #Verification du signe du grandient (applique le prince du gradient-clipping)\n",
      "                temp = np.sign(self.ow * self.w)\n",
      "                ind = np.where(temp == -1)\n",
      "                self.w[ind] = 0\n",
      "                \n",
      "\n",
      "            self.log_cout[it]=self.MSE(X,Y)\n",
      "              \n",
      "        return self.log_cout #pour trac\u00e9 la courbe du cout et voir l'\u00e9valuation de l'erreur\n",
      "\n",
      "        \n",
      "    def predict(self, X):\n",
      "        pred = np.dot(X , self.w.T)\n",
      "        pred[np.where(pred > 0)] = 1\n",
      "        pred[np.where(pred <= 0)] = -1\n",
      "        return pred #la sortie obtenu\n",
      "    \n",
      "    def accuracy(self, pred , Y): #la pr\u00e9cision\n",
      "        acc = pred - Y\n",
      "        return 100.0*len(np.where(acc == 0)[0])/len(pred)  \n",
      "    \n",
      "    \n",
      "breast_cancer_scale = datasets.fetch_mldata('breast-cancer_scale')\n",
      "X=breast_cancer_scale.data\n",
      "y=breast_cancer_scale.target\n",
      "y[np.where(y == 4)] = 1 #les labels ont des vlaur 4 et 2 on les modifie en 1 et 0 respectivement\n",
      "y[np.where(y == 2)] = -1\n",
      "X = np.array(X)\n",
      "y = y.reshape(y.shape[0] , 1)\n",
      "\n",
      "lamda=0\n",
      "model = regularisationL1(X.shape[1],lamda)\n",
      "xtrain, xtest, ytrain, ytest = cross_validation.train_test_split(X, y, test_size=0.2, random_state=0) #cross-val avec 5 folds\n",
      "cout = model.fit(xtrain , ytrain)    \n",
      "pred = model.predict(xtest)\n",
      "acc= model.accuracy(pred,ytest)    \n",
      "print('Lamda:{0:.2f} Accuracy:{1:.2f}%'.format(lamda,acc))\n",
      "print model.w\n",
      "\n",
      "plt.plot(np.linspace(0,model.maxiter,model.maxiter),cout.reshape(model.maxiter,1))\n",
      "plt.xlabel('iterations')\n",
      "plt.ylabel('Fonction de cout')\n",
      "plt.title('Version L1 norm')\n",
      "plt.show()"
     ],
     "language": "python",
     "metadata": {},
     "outputs": [
      {
       "output_type": "stream",
       "stream": "stdout",
       "text": [
        "Lamda:0.00 Accuracy:84.67%\n",
        "[[-0.36253647  0.80071346 -0.20653798 -0.11984327 -0.01859805  0.15394963\n",
        "  -0.05445511  0.69491681  0.5130734   0.11860791]]\n"
       ]
      },
      {
       "metadata": {},
       "output_type": "display_data",
       "png": "[encoded data removed]",
       "text": [
        "<matplotlib.figure.Figure at 0x8ac7fb0>"
       ]
      }
     ],
     "prompt_number": 2
    },
    {
     "cell_type": "code",
     "collapsed": false,
     "input": [
      "#Evaluer les performances en fonction de lamda\n",
      "\n",
      "lamda_values=np.arange(0,2,0.1)\n",
      "acc=np.zeros(len(lamda_values))\n",
      "\n",
      "for i in xrange(0,len(lamda_values)):\n",
      "    model.lamda=lamda_values[i]\n",
      "    scores = cross_validation.cross_val_score(model, X, y.reshape(len(y)), cv=5, scoring='accuracy')\n",
      "    acc[i]=np.mean(scores)  \n",
      "    print('Lamda:{0:.2f} Mean Accuracy:{1:.2f}%'.format(model.lamda,acc[i]))\n",
      "\n",
      "plt.plot(lamda_values,acc)\n",
      "plt.title('Performances en  en fonction de la sparsite L1')\n",
      "plt.xlabel('Lamda')\n",
      "plt.ylabel('Accuracy')\n",
      "plt.show()"
     ],
     "language": "python",
     "metadata": {},
     "outputs": [
      {
       "output_type": "stream",
       "stream": "stdout",
       "text": [
        "Lamda:0.00 Mean Accuracy:0.85%\n",
        "Lamda:0.10 Mean Accuracy:0.85%"
       ]
      },
      {
       "output_type": "stream",
       "stream": "stdout",
       "text": [
        "\n",
        "Lamda:0.20 Mean Accuracy:0.85%"
       ]
      },
      {
       "output_type": "stream",
       "stream": "stdout",
       "text": [
        "\n",
        "Lamda:0.30 Mean Accuracy:0.86%"
       ]
      },
      {
       "output_type": "stream",
       "stream": "stdout",
       "text": [
        "\n",
        "Lamda:0.40 Mean Accuracy:0.84%"
       ]
      },
      {
       "output_type": "stream",
       "stream": "stdout",
       "text": [
        "\n",
        "Lamda:0.50 Mean Accuracy:0.82%"
       ]
      },
      {
       "output_type": "stream",
       "stream": "stdout",
       "text": [
        "\n",
        "Lamda:0.60 Mean Accuracy:0.81%"
       ]
      },
      {
       "output_type": "stream",
       "stream": "stdout",
       "text": [
        "\n",
        "Lamda:0.70 Mean Accuracy:0.80%"
       ]
      },
      {
       "output_type": "stream",
       "stream": "stdout",
       "text": [
        "\n",
        "Lamda:0.80 Mean Accuracy:0.77%"
       ]
      },
      {
       "output_type": "stream",
       "stream": "stdout",
       "text": [
        "\n",
        "Lamda:0.90 Mean Accuracy:0.83%"
       ]
      },
      {
       "output_type": "stream",
       "stream": "stdout",
       "text": [
        "\n",
        "Lamda:1.00 Mean Accuracy:0.82%"
       ]
      },
      {
       "output_type": "stream",
       "stream": "stdout",
       "text": [
        "\n",
        "Lamda:1.10 Mean Accuracy:0.87%"
       ]
      },
      {
       "output_type": "stream",
       "stream": "stdout",
       "text": [
        "\n",
        "Lamda:1.20 Mean Accuracy:0.84%"
       ]
      },
      {
       "output_type": "stream",
       "stream": "stdout",
       "text": [
        "\n",
        "Lamda:1.30 Mean Accuracy:0.73%"
       ]
      },
      {
       "output_type": "stream",
       "stream": "stdout",
       "text": [
        "\n",
        "Lamda:1.40 Mean Accuracy:0.77%"
       ]
      },
      {
       "output_type": "stream",
       "stream": "stdout",
       "text": [
        "\n",
        "Lamda:1.50 Mean Accuracy:0.83%"
       ]
      },
      {
       "output_type": "stream",
       "stream": "stdout",
       "text": [
        "\n",
        "Lamda:1.60 Mean Accuracy:0.82%"
       ]
      },
      {
       "output_type": "stream",
       "stream": "stdout",
       "text": [
        "\n",
        "Lamda:1.70 Mean Accuracy:0.82%"
       ]
      },
      {
       "output_type": "stream",
       "stream": "stdout",
       "text": [
        "\n",
        "Lamda:1.80 Mean Accuracy:0.82%"
       ]
      },
      {
       "output_type": "stream",
       "stream": "stdout",
       "text": [
        "\n",
        "Lamda:1.90 Mean Accuracy:0.77%"
       ]
      },
      {
       "output_type": "stream",
       "stream": "stdout",
       "text": [
        "\n"
       ]
      },
      {
       "metadata": {},
       "output_type": "display_data",
       "png": "[encoded data removed]",
       "text": [
        "<matplotlib.figure.Figure at 0x5aa3a50>"
       ]
      }
     ],
     "prompt_number": 3
    },
    {
     "cell_type": "code",
     "collapsed": false,
     "input": [
      "#Recherche du meilleur parametre lamda par cross validation sur le training set, puis test du param\u00e8tre sur le test set\n",
      "\n",
      "parameter_grid = {\n",
      "    'lamda': [0.0, 0.1, 0.2, 0.3, 0.4, 0.5, 0.6, 0.7, 0.8, 0.9, 1.0, 1.1, 1.2, 1.3, 1.4, 1.5, 1.6, 1.7, 1.8, 1.9]\n",
      "}\n",
      "\n",
      "grid_search = GridSearchCV(estimator=model, param_grid=parameter_grid, cv=5, verbose=3)\n",
      "grid_search.fit(xtrain, ytrain.reshape(len(ytrain)))\n",
      "\n"
     ],
     "language": "python",
     "metadata": {},
     "outputs": [
      {
       "output_type": "stream",
       "stream": "stdout",
       "text": [
        "Fitting 5 folds for each of 20 candidates, totalling 100 fits\n",
        "[CV] lamda=0.0 .......................................................\n",
        "[CV] .............................. lamda=0.0, score=0.945455 -   0.2s"
       ]
      },
      {
       "output_type": "stream",
       "stream": "stdout",
       "text": [
        "\n",
        "[CV] lamda=0.0 .......................................................\n",
        "[CV] .............................. lamda=0.0, score=0.927273 -   0.1s"
       ]
      },
      {
       "output_type": "stream",
       "stream": "stdout",
       "text": [
        "\n",
        "[CV] lamda=0.0 .......................................................\n",
        "[CV] .............................. lamda=0.0, score=0.917431 -   0.2s"
       ]
      },
      {
       "output_type": "stream",
       "stream": "stdout",
       "text": [
        "\n",
        "[CV] lamda=0.0 .......................................................\n",
        "[CV] .............................. lamda=0.0, score=0.926606 -   0.2s"
       ]
      },
      {
       "output_type": "stream",
       "stream": "stdout",
       "text": [
        "\n",
        "[CV] lamda=0.0 .......................................................\n",
        "[CV] .............................. lamda=0.0, score=0.916667 -   0.2s"
       ]
      },
      {
       "output_type": "stream",
       "stream": "stdout",
       "text": [
        "\n",
        "[CV] lamda=0.1 .......................................................\n",
        "[CV] .............................. lamda=0.1, score=0.936364 -   0.2s"
       ]
      },
      {
       "output_type": "stream",
       "stream": "stdout",
       "text": [
        "\n",
        "[CV] lamda=0.1 .......................................................\n",
        "[CV] .............................. lamda=0.1, score=0.918182 -   0.2s"
       ]
      },
      {
       "output_type": "stream",
       "stream": "stdout",
       "text": [
        "\n",
        "[CV] lamda=0.1 .......................................................\n",
        "[CV] .............................. lamda=0.1, score=0.908257 -   0.1s"
       ]
      },
      {
       "output_type": "stream",
       "stream": "stdout",
       "text": [
        "\n",
        "[CV] lamda=0.1 .......................................................\n",
        "[CV] .............................. lamda=0.1, score=0.899083 -   0.1s"
       ]
      },
      {
       "output_type": "stream",
       "stream": "stdout",
       "text": [
        "\n",
        "[CV] lamda=0.1 .......................................................\n",
        "[CV] .............................. lamda=0.1, score=0.888889 -   0.1s"
       ]
      },
      {
       "output_type": "stream",
       "stream": "stdout",
       "text": [
        "\n",
        "[CV] lamda=0.2 .......................................................\n",
        "[CV] .............................. lamda=0.2, score=0.909091 -   0.2s"
       ]
      },
      {
       "output_type": "stream",
       "stream": "stdout",
       "text": [
        "\n",
        "[CV] lamda=0.2 .......................................................\n",
        "[CV] .............................. lamda=0.2, score=0.909091 -   0.1s"
       ]
      },
      {
       "output_type": "stream",
       "stream": "stdout",
       "text": [
        "\n",
        "[CV] lamda=0.2 .......................................................\n",
        "[CV] .............................. lamda=0.2, score=0.917431 -   0.1s"
       ]
      },
      {
       "output_type": "stream",
       "stream": "stdout",
       "text": [
        "\n",
        "[CV] lamda=0.2 .......................................................\n",
        "[CV] .............................. lamda=0.2, score=0.880734 -   0.1s"
       ]
      },
      {
       "output_type": "stream",
       "stream": "stdout",
       "text": [
        "\n",
        "[CV] lamda=0.2 .......................................................\n",
        "[CV] .............................. lamda=0.2, score=0.898148 -   0.2s"
       ]
      },
      {
       "output_type": "stream",
       "stream": "stdout",
       "text": [
        "\n",
        "[CV] lamda=0.3 .......................................................\n",
        "[CV] .............................. lamda=0.3, score=0.918182 -   0.1s"
       ]
      },
      {
       "output_type": "stream",
       "stream": "stdout",
       "text": [
        "\n",
        "[CV] lamda=0.3 .......................................................\n",
        "[CV] .............................. lamda=0.3, score=0.918182 -   0.2s"
       ]
      },
      {
       "output_type": "stream",
       "stream": "stdout",
       "text": [
        "\n",
        "[CV] lamda=0.3 .......................................................\n",
        "[CV] .............................. lamda=0.3, score=0.926606 -   0.2s"
       ]
      },
      {
       "output_type": "stream",
       "stream": "stdout",
       "text": [
        "\n",
        "[CV] lamda=0.3 .......................................................\n",
        "[CV] .............................. lamda=0.3, score=0.880734 -   0.2s"
       ]
      },
      {
       "output_type": "stream",
       "stream": "stdout",
       "text": [
        "\n",
        "[CV] lamda=0.3 .......................................................\n",
        "[CV] .............................. lamda=0.3, score=0.898148 -   0.2s"
       ]
      },
      {
       "output_type": "stream",
       "stream": "stdout",
       "text": [
        "\n",
        "[CV] lamda=0.4 .......................................................\n",
        "[CV] .............................. lamda=0.4, score=0.909091 -   0.2s"
       ]
      },
      {
       "output_type": "stream",
       "stream": "stdout",
       "text": [
        "\n",
        "[CV] lamda=0.4 .......................................................\n",
        "[CV] .............................. lamda=0.4, score=0.909091 -   0.2s"
       ]
      },
      {
       "output_type": "stream",
       "stream": "stdout",
       "text": [
        "\n",
        "[CV] lamda=0.4 .......................................................\n",
        "[CV] .............................. lamda=0.4, score=0.944954 -   0.2s"
       ]
      },
      {
       "output_type": "stream",
       "stream": "stdout",
       "text": [
        "\n",
        "[CV] lamda=0.4 .......................................................\n",
        "[CV] .............................. lamda=0.4, score=0.908257 -   0.1s"
       ]
      },
      {
       "output_type": "stream",
       "stream": "stdout",
       "text": [
        "\n",
        "[CV] lamda=0.4 .......................................................\n",
        "[CV] .............................. lamda=0.4, score=0.898148 -   0.2s"
       ]
      },
      {
       "output_type": "stream",
       "stream": "stdout",
       "text": [
        "\n",
        "[CV] lamda=0.5 .......................................................\n",
        "[CV] .............................. lamda=0.5, score=0.909091 -   0.2s"
       ]
      },
      {
       "output_type": "stream",
       "stream": "stdout",
       "text": [
        "\n",
        "[CV] lamda=0.5 .......................................................\n",
        "[CV] .............................. lamda=0.5, score=0.918182 -   0.2s"
       ]
      },
      {
       "output_type": "stream",
       "stream": "stdout",
       "text": [
        "\n",
        "[CV] lamda=0.5 .......................................................\n",
        "[CV] .............................. lamda=0.5, score=0.944954 -   0.1s"
       ]
      },
      {
       "output_type": "stream",
       "stream": "stdout",
       "text": [
        "\n",
        "[CV] lamda=0.5 .......................................................\n",
        "[CV] .............................. lamda=0.5, score=0.926606 -   0.2s"
       ]
      },
      {
       "output_type": "stream",
       "stream": "stdout",
       "text": [
        "\n",
        "[CV] lamda=0.5 .......................................................\n",
        "[CV] .............................. lamda=0.5, score=0.888889 -   0.2s"
       ]
      },
      {
       "output_type": "stream",
       "stream": "stdout",
       "text": [
        "\n",
        "[CV] lamda=0.6 .......................................................\n",
        "[CV] .............................. lamda=0.6, score=0.890909 -   0.1s"
       ]
      },
      {
       "output_type": "stream",
       "stream": "stdout",
       "text": [
        "\n",
        "[CV] lamda=0.6 .......................................................\n",
        "[CV] .............................. lamda=0.6, score=0.881818 -   0.1s"
       ]
      },
      {
       "output_type": "stream",
       "stream": "stdout",
       "text": [
        "\n",
        "[CV] lamda=0.6 .......................................................\n",
        "[CV] .............................. lamda=0.6, score=0.853211 -   0.1s"
       ]
      },
      {
       "output_type": "stream",
       "stream": "stdout",
       "text": [
        "\n",
        "[CV] lamda=0.6 .......................................................\n",
        "[CV] .............................. lamda=0.6, score=0.834862 -   0.1s"
       ]
      },
      {
       "output_type": "stream",
       "stream": "stdout",
       "text": [
        "\n",
        "[CV] lamda=0.6 .......................................................\n",
        "[CV] .............................. lamda=0.6, score=0.796296 -   0.2s"
       ]
      },
      {
       "output_type": "stream",
       "stream": "stdout",
       "text": [
        "\n",
        "[CV] lamda=0.7 .......................................................\n",
        "[CV] .............................. lamda=0.7, score=0.890909 -   0.1s"
       ]
      },
      {
       "output_type": "stream",
       "stream": "stdout",
       "text": [
        "\n",
        "[CV] lamda=0.7 .......................................................\n",
        "[CV] .............................. lamda=0.7, score=0.863636 -   0.1s"
       ]
      },
      {
       "output_type": "stream",
       "stream": "stdout",
       "text": [
        "\n",
        "[CV] lamda=0.7 .......................................................\n",
        "[CV] .............................. lamda=0.7, score=0.880734 -   0.2s"
       ]
      },
      {
       "output_type": "stream",
       "stream": "stdout",
       "text": [
        "\n",
        "[CV] lamda=0.7 .......................................................\n",
        "[CV] .............................. lamda=0.7, score=0.825688 -   0.2s"
       ]
      },
      {
       "output_type": "stream",
       "stream": "stdout",
       "text": [
        "\n",
        "[CV] lamda=0.7 .......................................................\n",
        "[CV] .............................. lamda=0.7, score=0.796296 -   0.2s"
       ]
      },
      {
       "output_type": "stream",
       "stream": "stdout",
       "text": [
        "\n",
        "[CV] lamda=0.8 .......................................................\n",
        "[CV] .............................. lamda=0.8, score=0.872727 -   0.2s"
       ]
      },
      {
       "output_type": "stream",
       "stream": "stdout",
       "text": [
        "\n",
        "[CV] lamda=0.8 .......................................................\n",
        "[CV] .............................. lamda=0.8, score=0.818182 -   0.2s"
       ]
      },
      {
       "output_type": "stream",
       "stream": "stdout",
       "text": [
        "\n",
        "[CV] lamda=0.8 .......................................................\n",
        "[CV] .............................. lamda=0.8, score=0.807339 -   0.2s"
       ]
      },
      {
       "output_type": "stream",
       "stream": "stdout",
       "text": [
        "\n",
        "[CV] lamda=0.8 .......................................................\n",
        "[CV] .............................. lamda=0.8, score=0.798165 -   0.1s"
       ]
      },
      {
       "output_type": "stream",
       "stream": "stdout",
       "text": [
        "\n",
        "[CV] lamda=0.8 .......................................................\n",
        "[CV] .............................. lamda=0.8, score=0.805556 -   0.2s"
       ]
      },
      {
       "output_type": "stream",
       "stream": "stdout",
       "text": [
        "\n",
        "[CV] lamda=0.9 .......................................................\n",
        "[CV] .............................. lamda=0.9, score=0.854545 -   0.2s"
       ]
      },
      {
       "output_type": "stream",
       "stream": "stdout",
       "text": [
        "\n",
        "[CV] lamda=0.9 .......................................................\n",
        "[CV] .............................. lamda=0.9, score=0.863636 -   0.2s"
       ]
      },
      {
       "output_type": "stream",
       "stream": "stdout",
       "text": [
        "\n",
        "[CV] lamda=0.9 .......................................................\n",
        "[CV] .............................. lamda=0.9, score=0.844037 -   0.2s"
       ]
      },
      {
       "output_type": "stream",
       "stream": "stdout",
       "text": [
        "\n",
        "[CV] lamda=0.9 .......................................................\n",
        "[CV] .............................. lamda=0.9, score=0.844037 -   0.2s"
       ]
      },
      {
       "output_type": "stream",
       "stream": "stdout",
       "text": [
        "\n",
        "[CV] lamda=0.9 .......................................................\n",
        "[CV] .............................. lamda=0.9, score=0.842593 -   0.2s"
       ]
      },
      {
       "output_type": "stream",
       "stream": "stdout",
       "text": [
        "\n",
        "[CV] lamda=1.0 .......................................................\n",
        "[CV] .............................. lamda=1.0, score=0.836364 -   0.2s"
       ]
      },
      {
       "output_type": "stream",
       "stream": "stdout",
       "text": [
        "\n",
        "[CV] lamda=1.0 .......................................................\n",
        "[CV] .............................. lamda=1.0, score=0.881818 -   0.2s"
       ]
      },
      {
       "output_type": "stream",
       "stream": "stdout",
       "text": [
        "\n",
        "[CV] lamda=1.0 .......................................................\n",
        "[CV] .............................. lamda=1.0, score=0.871560 -   0.2s"
       ]
      },
      {
       "output_type": "stream",
       "stream": "stdout",
       "text": [
        "\n",
        "[CV] lamda=1.0 .......................................................\n",
        "[CV] .............................. lamda=1.0, score=0.853211 -   0.2s"
       ]
      },
      {
       "output_type": "stream",
       "stream": "stdout",
       "text": [
        "\n",
        "[CV] lamda=1.0 .......................................................\n",
        "[CV] .............................. lamda=1.0, score=0.842593 -   0.2s"
       ]
      },
      {
       "output_type": "stream",
       "stream": "stdout",
       "text": [
        "\n",
        "[CV] lamda=1.1 .......................................................\n",
        "[CV] .............................. lamda=1.1, score=0.854545 -   0.2s"
       ]
      },
      {
       "output_type": "stream",
       "stream": "stdout",
       "text": [
        "\n",
        "[CV] lamda=1.1 .......................................................\n",
        "[CV] .............................. lamda=1.1, score=0.818182 -   0.2s"
       ]
      },
      {
       "output_type": "stream",
       "stream": "stdout",
       "text": [
        "\n",
        "[CV] lamda=1.1 .......................................................\n",
        "[CV] .............................. lamda=1.1, score=0.788991 -   0.1s"
       ]
      },
      {
       "output_type": "stream",
       "stream": "stdout",
       "text": [
        "\n",
        "[CV] lamda=1.1 .......................................................\n",
        "[CV] .............................. lamda=1.1, score=0.807339 -   0.2s"
       ]
      },
      {
       "output_type": "stream",
       "stream": "stdout",
       "text": [
        "\n",
        "[CV] lamda=1.1 .......................................................\n",
        "[CV] .............................. lamda=1.1, score=0.777778 -   0.2s"
       ]
      },
      {
       "output_type": "stream",
       "stream": "stdout",
       "text": [
        "\n",
        "[CV] lamda=1.2 .......................................................\n",
        "[CV] .............................. lamda=1.2, score=0.781818 -   0.1s"
       ]
      },
      {
       "output_type": "stream",
       "stream": "stdout",
       "text": [
        "\n",
        "[CV] lamda=1.2 .......................................................\n",
        "[CV] .............................. lamda=1.2, score=0.836364 -   0.2s"
       ]
      },
      {
       "output_type": "stream",
       "stream": "stdout",
       "text": [
        "\n",
        "[CV] lamda=1.2 .......................................................\n",
        "[CV] .............................. lamda=1.2, score=0.807339 -   0.2s"
       ]
      },
      {
       "output_type": "stream",
       "stream": "stdout",
       "text": [
        "\n",
        "[CV] lamda=1.2 .......................................................\n",
        "[CV] .............................. lamda=1.2, score=0.798165 -   0.2s"
       ]
      },
      {
       "output_type": "stream",
       "stream": "stdout",
       "text": [
        "\n",
        "[CV] lamda=1.2 .......................................................\n",
        "[CV] .............................. lamda=1.2, score=0.814815 -   0.2s"
       ]
      },
      {
       "output_type": "stream",
       "stream": "stdout",
       "text": [
        "\n",
        "[CV] lamda=1.3 .......................................................\n",
        "[CV] .............................. lamda=1.3, score=0.709091 -   0.2s"
       ]
      },
      {
       "output_type": "stream",
       "stream": "stdout",
       "text": [
        "\n",
        "[CV] lamda=1.3 .......................................................\n",
        "[CV] .............................. lamda=1.3, score=0.872727 -   0.2s"
       ]
      },
      {
       "output_type": "stream",
       "stream": "stdout",
       "text": [
        "\n",
        "[CV] lamda=1.3 .......................................................\n",
        "[CV] .............................. lamda=1.3, score=0.853211 -   0.2s"
       ]
      },
      {
       "output_type": "stream",
       "stream": "stdout",
       "text": [
        "\n",
        "[CV] lamda=1.3 .......................................................\n",
        "[CV] .............................. lamda=1.3, score=0.834862 -   0.2s"
       ]
      },
      {
       "output_type": "stream",
       "stream": "stdout",
       "text": [
        "\n",
        "[CV] lamda=1.3 .......................................................\n",
        "[CV] .............................. lamda=1.3, score=0.833333 -   0.2s"
       ]
      },
      {
       "output_type": "stream",
       "stream": "stdout",
       "text": [
        "\n",
        "[CV] lamda=1.4 .......................................................\n",
        "[CV] .............................. lamda=1.4, score=0.709091 -   0.2s"
       ]
      },
      {
       "output_type": "stream",
       "stream": "stdout",
       "text": [
        "\n",
        "[CV] lamda=1.4 .......................................................\n",
        "[CV] .............................. lamda=1.4, score=0.872727 -   0.2s"
       ]
      },
      {
       "output_type": "stream",
       "stream": "stdout",
       "text": [
        "\n",
        "[CV] lamda=1.4 .......................................................\n",
        "[CV] .............................. lamda=1.4, score=0.880734 -   0.2s"
       ]
      },
      {
       "output_type": "stream",
       "stream": "stdout",
       "text": [
        "\n",
        "[CV] lamda=1.4 .......................................................\n",
        "[CV] .............................. lamda=1.4, score=0.825688 -   0.2s"
       ]
      },
      {
       "output_type": "stream",
       "stream": "stdout",
       "text": [
        "\n",
        "[CV] lamda=1.4 .......................................................\n",
        "[CV] .............................. lamda=1.4, score=0.824074 -   0.2s"
       ]
      },
      {
       "output_type": "stream",
       "stream": "stdout",
       "text": [
        "\n",
        "[CV] lamda=1.5 .......................................................\n",
        "[CV] .............................. lamda=1.5, score=0.872727 -   0.2s"
       ]
      },
      {
       "output_type": "stream",
       "stream": "stdout",
       "text": [
        "\n",
        "[CV] lamda=1.5 .......................................................\n",
        "[CV] .............................. lamda=1.5, score=0.900000 -   0.1s"
       ]
      },
      {
       "output_type": "stream",
       "stream": "stdout",
       "text": [
        "\n",
        "[CV] lamda=1.5 .......................................................\n",
        "[CV] .............................. lamda=1.5, score=0.954128 -   0.1s"
       ]
      },
      {
       "output_type": "stream",
       "stream": "stdout",
       "text": [
        "\n",
        "[CV] lamda=1.5 .......................................................\n",
        "[CV] .............................. lamda=1.5, score=0.908257 -   0.2s"
       ]
      },
      {
       "output_type": "stream",
       "stream": "stdout",
       "text": [
        "\n",
        "[CV] lamda=1.5 .......................................................\n",
        "[CV] .............................. lamda=1.5, score=0.870370 -   0.2s"
       ]
      },
      {
       "output_type": "stream",
       "stream": "stdout",
       "text": [
        "\n",
        "[CV] lamda=1.6 .......................................................\n",
        "[CV] .............................. lamda=1.6, score=0.881818 -   0.2s"
       ]
      },
      {
       "output_type": "stream",
       "stream": "stdout",
       "text": [
        "\n",
        "[CV] lamda=1.6 .......................................................\n",
        "[CV] .............................. lamda=1.6, score=0.909091 -   0.2s"
       ]
      },
      {
       "output_type": "stream",
       "stream": "stdout",
       "text": [
        "\n",
        "[CV] lamda=1.6 .......................................................\n",
        "[CV] .............................. lamda=1.6, score=0.935780 -   0.1s"
       ]
      },
      {
       "output_type": "stream",
       "stream": "stdout",
       "text": [
        "\n",
        "[CV] lamda=1.6 .......................................................\n",
        "[CV] .............................. lamda=1.6, score=0.889908 -   0.1s"
       ]
      },
      {
       "output_type": "stream",
       "stream": "stdout",
       "text": [
        "\n",
        "[CV] lamda=1.6 .......................................................\n",
        "[CV] .............................. lamda=1.6, score=0.833333 -   0.1s"
       ]
      },
      {
       "output_type": "stream",
       "stream": "stdout",
       "text": [
        "\n",
        "[CV] lamda=1.7 .......................................................\n",
        "[CV] .............................. lamda=1.7, score=0.900000 -   0.2s"
       ]
      },
      {
       "output_type": "stream",
       "stream": "stdout",
       "text": [
        "\n",
        "[CV] lamda=1.7 .......................................................\n",
        "[CV] .............................. lamda=1.7, score=0.900000 -   0.1s"
       ]
      },
      {
       "output_type": "stream",
       "stream": "stdout",
       "text": [
        "\n",
        "[CV] lamda=1.7 .......................................................\n",
        "[CV] .............................. lamda=1.7, score=0.935780 -   0.1s"
       ]
      },
      {
       "output_type": "stream",
       "stream": "stdout",
       "text": [
        "\n",
        "[CV] lamda=1.7 .......................................................\n",
        "[CV] .............................. lamda=1.7, score=0.889908 -   0.2s"
       ]
      },
      {
       "output_type": "stream",
       "stream": "stdout",
       "text": [
        "\n",
        "[CV] lamda=1.7 .......................................................\n",
        "[CV] .............................. lamda=1.7, score=0.833333 -   0.2s"
       ]
      },
      {
       "output_type": "stream",
       "stream": "stdout",
       "text": [
        "\n",
        "[CV] lamda=1.8 .......................................................\n",
        "[CV] .............................. lamda=1.8, score=0.827273 -   0.2s"
       ]
      },
      {
       "output_type": "stream",
       "stream": "stdout",
       "text": [
        "\n",
        "[CV] lamda=1.8 .......................................................\n",
        "[CV] .............................. lamda=1.8, score=0.827273 -   0.2s"
       ]
      },
      {
       "output_type": "stream",
       "stream": "stdout",
       "text": [
        "\n",
        "[CV] lamda=1.8 .......................................................\n",
        "[CV] .............................. lamda=1.8, score=0.834862 -   0.2s"
       ]
      },
      {
       "output_type": "stream",
       "stream": "stdout",
       "text": [
        "\n",
        "[CV] lamda=1.8 .......................................................\n",
        "[CV] .............................. lamda=1.8, score=0.825688 -   0.2s"
       ]
      },
      {
       "output_type": "stream",
       "stream": "stdout",
       "text": [
        "\n",
        "[CV] lamda=1.8 .......................................................\n",
        "[CV] .............................. lamda=1.8, score=0.824074 -   0.2s"
       ]
      },
      {
       "output_type": "stream",
       "stream": "stdout",
       "text": [
        "\n",
        "[CV] lamda=1.9 .......................................................\n",
        "[CV] .............................. lamda=1.9, score=0.890909 -   0.2s"
       ]
      },
      {
       "output_type": "stream",
       "stream": "stdout",
       "text": [
        "\n",
        "[CV] lamda=1.9 .......................................................\n",
        "[CV] .............................. lamda=1.9, score=0.818182 -   0.2s"
       ]
      },
      {
       "output_type": "stream",
       "stream": "stdout",
       "text": [
        "\n",
        "[CV] lamda=1.9 .......................................................\n",
        "[CV] .............................. lamda=1.9, score=0.825688 -   0.2s"
       ]
      },
      {
       "output_type": "stream",
       "stream": "stdout",
       "text": [
        "\n",
        "[CV] lamda=1.9 .......................................................\n",
        "[CV] .............................. lamda=1.9, score=0.834862 -   0.2s"
       ]
      },
      {
       "output_type": "stream",
       "stream": "stdout",
       "text": [
        "\n",
        "[CV] lamda=1.9 .......................................................\n",
        "[CV] .............................. lamda=1.9, score=0.833333 -   0.1s"
       ]
      },
      {
       "output_type": "stream",
       "stream": "stderr",
       "text": [
        "[Parallel(n_jobs=1)]: Done  31 tasks       | elapsed:    7.8s\n",
        "[Parallel(n_jobs=1)]: Done 100 out of 100 | elapsed:   25.9s finished\n"
       ]
      },
      {
       "output_type": "stream",
       "stream": "stdout",
       "text": [
        "\n",
        "Best training accuracy:0.93%"
       ]
      },
      {
       "output_type": "stream",
       "stream": "stdout",
       "text": [
        "\n",
        "{'lamda': 0.0}\n",
        "Test Accuracy:0.85%\n"
       ]
      }
     ],
     "prompt_number": 4
    },
    {
     "cell_type": "code",
     "collapsed": false,
     "input": [
      "sorted(grid_search.grid_scores_, key=lambda x: x.mean_validation_score)\n",
      "print('Best training accuracy:{0:.2f}%'.format(grid_search.best_score_));\n",
      "print grid_search.best_params_\n",
      "\n",
      "acc=grid_search.score(xtest, ytest)\n",
      "print('Test Accuracy:{0:.2f}%'.format(acc))"
     ],
     "language": "python",
     "metadata": {},
     "outputs": [
      {
       "output_type": "stream",
       "stream": "stdout",
       "text": [
        "Best training accuracy:0.93%\n",
        "{'lamda': 0.0}\n",
        "Test Accuracy:0.85%\n"
       ]
      }
     ],
     "prompt_number": 5
    },
    {
     "cell_type": "markdown",
     "metadata": {},
     "source": [
      "On remarque que la meilleur valeur de lambda es quand celle ci es nul avec une pr\u00e9cision d'apprentisage de 93%\n",
      "et une pr\u00e9cision de teste de 85%."
     ]
    },
    {
     "cell_type": "heading",
     "level": 1,
     "metadata": {},
     "source": [
      "3. R\u00e9gularisation L2"
     ]
    },
    {
     "cell_type": "code",
     "collapsed": false,
     "input": [
      "#Implementation de la regulatisation L2 \n",
      "%matplotlib inline\n",
      "from __future__ import division \n",
      "import numpy as np\n",
      "import sys\n",
      "from sklearn import datasets\n",
      "from sklearn import metrics\n",
      "from sklearn import cross_validation\n",
      "from sklearn.base import BaseEstimator,ClassifierMixin\n",
      "from sklearn.grid_search import GridSearchCV\n",
      "\n",
      "import matplotlib.pyplot as plt\n",
      "\n",
      "\n",
      "class regularisationL2(BaseEstimator,ClassifierMixin):\n",
      "    \n",
      "    def __init__(self, dim, lamda=0 , eps=0.01, maxiter=100):\n",
      "        np.random.seed(0)\n",
      "        self.maxiter= maxiter\n",
      "        self.dim = dim\n",
      "        self.w = np.random.rand(1,dim)\n",
      "        self.lamda = lamda\n",
      "        self.eps = eps\n",
      "        \n",
      "    def MSE(self,X,Y):\n",
      "        return np.mean((np.dot(X , self.w.T) - Y)**2)/2.0 + (self.lamda*(np.linalg.norm(self.w)**2))\n",
      "    \n",
      "    def grad(self, X, Y):\n",
      "        return (np.dot(X , self.w.T) - Y) * X\n",
      "   \n",
      "    def fit(self, X,Y):\n",
      "        n = X.shape[1]        \n",
      "        self.log_cout = np.zeros((self.maxiter , 1))        \n",
      "        self.log_cout[0] = self.MSE(X , Y)\n",
      "        \n",
      "        for it in xrange(1,self.maxiter):\n",
      "            for i in xrange(1,n):\n",
      "                idx = np.random.randint(n)\n",
      "                x = X[idx].reshape(1 , self.dim)\n",
      "                y = Y[idx].reshape(1 ,1)\n",
      "                self.w = self.w - self.eps*self.grad(x ,y) - self.eps*self.lamda*2*self.w\n",
      "                \n",
      "\n",
      "            self.log_cout[it]=self.MSE(X,Y)\n",
      "              \n",
      "        return self.log_cout\n",
      "\n",
      "        \n",
      "    def predict(self, X):\n",
      "        pred = np.dot(X , self.w.T)\n",
      "        pred[np.where(pred > 0)] = 1\n",
      "        pred[np.where(pred <= 0)] = -1\n",
      "        return pred\n",
      "    \n",
      "    def accuracy(self, pred , Y):\n",
      "        acc = pred - Y\n",
      "        return 100.0*len(np.where(acc == 0)[0])/len(pred)  \n",
      "    \n",
      "    \n",
      "breast_cancer_scale = datasets.fetch_mldata('breast-cancer_scale')\n",
      "X=breast_cancer_scale.data\n",
      "y=breast_cancer_scale.target\n",
      "y[np.where(y == 4)] = 1\n",
      "y[np.where(y == 2)] = -1\n",
      "X = np.array(X)\n",
      "y = y.reshape(y.shape[0] , 1)\n",
      "\n",
      "lamda=1\n",
      "model = regularisationL2(X.shape[1],lamda)\n",
      "xtrain, xtest, ytrain, ytest = cross_validation.train_test_split(X, y, test_size=0.2, random_state=0)\n",
      "cout = model.fit(xtrain , ytrain)    \n",
      "pred = model.predict(xtest)\n",
      "acc= model.accuracy(pred,ytest)    \n",
      "print('Lamda:{0:.2f} Accuracy:{1:.2f}%'.format(lamda,acc))\n",
      "print model.w\n",
      "\n",
      "plt.plot(np.linspace(0,model.maxiter,model.maxiter),cout.reshape(model.maxiter,1))\n",
      "plt.xlabel('iterations')\n",
      "plt.ylabel('Fonction de cout')\n",
      "plt.title('Version L2 norm')\n",
      "plt.show()"
     ],
     "language": "python",
     "metadata": {},
     "outputs": [
      {
       "output_type": "stream",
       "stream": "stdout",
       "text": [
        "Lamda:1.00 Accuracy:89.05%\n",
        "[[ 0.02015034  0.16305658  0.05731819  0.06768866  0.05087579  0.09374031\n",
        "   0.12615605  0.09669262  0.08024105  0.07502543]]\n"
       ]
      },
      {
       "metadata": {},
       "output_type": "display_data",
       "png": "[encoded data removed]",
       "text": [
        "<matplotlib.figure.Figure at 0x8ac7fd0>"
       ]
      }
     ],
     "prompt_number": 6
    },
    {
     "cell_type": "markdown",
     "metadata": {},
     "source": [
      "compar\u00e9 \u00e0 la r\u00e9gularisation L1, ici on a moins de sparsit\u00e9 pour une valeur de lambda >0 donc moins de valeurs nuls dans le vecteurs \" w \" \n",
      "les param\u00e8tres du mod\u00e8le qui \u00e9taient nuls pour L1 sont proches de 0 pour L2, et plus les valeurs sont grandes, plus elle sont p\u00e9nalise,cela est d\u00fb au fait que la norme L2 p\u00e9nalise \"carr\u00e9 fois\" plus les param\u00e8tres. C'est \u00e0 dire que ceux qui poss\u00e8dent des valeurs fortes."
     ]
    },
    {
     "cell_type": "code",
     "collapsed": false,
     "input": [
      "#Evaluer les performances en fonction de lamda\n",
      "lamda_values=np.arange(0,2,0.1)\n",
      "acc=np.zeros(len(lamda_values))\n",
      "\n",
      "model = regularisationL2(X.shape[1])\n",
      "for i in xrange(0,len(lamda_values)):\n",
      "    model.lamda=lamda_values[i]\n",
      "    scores = cross_validation.cross_val_score(model, X, y.reshape(len(y)), cv=5, scoring='accuracy')\n",
      "    acc[i]=np.mean(scores)  \n",
      "    print('Lamda:{0:.2f} Mean Accuracy:{1:.2f}%'.format(model.lamda,acc[i]))\n",
      "\n",
      "plt.plot(lamda_values,acc)\n",
      "plt.title('Performances en  en fonction de la sparsite L2')\n",
      "plt.xlabel('Lamda')\n",
      "plt.ylabel('Accuracy')\n",
      "plt.show()"
     ],
     "language": "python",
     "metadata": {},
     "outputs": [
      {
       "output_type": "stream",
       "stream": "stdout",
       "text": [
        "Lamda:0.00 Mean Accuracy:0.85%\n",
        "Lamda:0.10 Mean Accuracy:0.86%"
       ]
      },
      {
       "output_type": "stream",
       "stream": "stdout",
       "text": [
        "\n",
        "Lamda:0.20 Mean Accuracy:0.82%"
       ]
      },
      {
       "output_type": "stream",
       "stream": "stdout",
       "text": [
        "\n",
        "Lamda:0.30 Mean Accuracy:0.79%"
       ]
      },
      {
       "output_type": "stream",
       "stream": "stdout",
       "text": [
        "\n",
        "Lamda:0.40 Mean Accuracy:0.78%"
       ]
      },
      {
       "output_type": "stream",
       "stream": "stdout",
       "text": [
        "\n",
        "Lamda:0.50 Mean Accuracy:0.78%"
       ]
      },
      {
       "output_type": "stream",
       "stream": "stdout",
       "text": [
        "\n",
        "Lamda:0.60 Mean Accuracy:0.78%"
       ]
      },
      {
       "output_type": "stream",
       "stream": "stdout",
       "text": [
        "\n",
        "Lamda:0.70 Mean Accuracy:0.78%"
       ]
      },
      {
       "output_type": "stream",
       "stream": "stdout",
       "text": [
        "\n",
        "Lamda:0.80 Mean Accuracy:0.78%"
       ]
      },
      {
       "output_type": "stream",
       "stream": "stdout",
       "text": [
        "\n",
        "Lamda:0.90 Mean Accuracy:0.78%"
       ]
      },
      {
       "output_type": "stream",
       "stream": "stdout",
       "text": [
        "\n",
        "Lamda:1.00 Mean Accuracy:0.78%"
       ]
      },
      {
       "output_type": "stream",
       "stream": "stdout",
       "text": [
        "\n",
        "Lamda:1.10 Mean Accuracy:0.78%"
       ]
      },
      {
       "output_type": "stream",
       "stream": "stdout",
       "text": [
        "\n",
        "Lamda:1.20 Mean Accuracy:0.78%"
       ]
      },
      {
       "output_type": "stream",
       "stream": "stdout",
       "text": [
        "\n",
        "Lamda:1.30 Mean Accuracy:0.78%"
       ]
      },
      {
       "output_type": "stream",
       "stream": "stdout",
       "text": [
        "\n",
        "Lamda:1.40 Mean Accuracy:0.78%"
       ]
      },
      {
       "output_type": "stream",
       "stream": "stdout",
       "text": [
        "\n",
        "Lamda:1.50 Mean Accuracy:0.78%"
       ]
      },
      {
       "output_type": "stream",
       "stream": "stdout",
       "text": [
        "\n",
        "Lamda:1.60 Mean Accuracy:0.78%"
       ]
      },
      {
       "output_type": "stream",
       "stream": "stdout",
       "text": [
        "\n",
        "Lamda:1.70 Mean Accuracy:0.78%"
       ]
      },
      {
       "output_type": "stream",
       "stream": "stdout",
       "text": [
        "\n",
        "Lamda:1.80 Mean Accuracy:0.77%"
       ]
      },
      {
       "output_type": "stream",
       "stream": "stdout",
       "text": [
        "\n",
        "Lamda:1.90 Mean Accuracy:0.78%"
       ]
      },
      {
       "output_type": "stream",
       "stream": "stdout",
       "text": [
        "\n"
       ]
      },
      {
       "metadata": {},
       "output_type": "display_data",
       "png": "[encoded data removed]",
       "text": [
        "<matplotlib.figure.Figure at 0x8348ab0>"
       ]
      }
     ],
     "prompt_number": 7
    },
    {
     "cell_type": "markdown",
     "metadata": {},
     "source": [
      "On remarque que plus la valeur de lambda augmente plus la performance du mod\u00e8le d\u00e9croit, alors que pour la R\u00e9gularisation L1 pour des valeurs > 0 la performance du mod\u00e8le peut d\u00e9pass\u00e9 les 80% farfois."
     ]
    },
    {
     "cell_type": "heading",
     "level": 1,
     "metadata": {},
     "source": [
      "4. R\u00e9gularisation L1 et L2"
     ]
    },
    {
     "cell_type": "code",
     "collapsed": false,
     "input": [
      "#Implementation de la regulatisation L1 et L1\n",
      "%matplotlib inline\n",
      "from __future__ import division \n",
      "import numpy as np\n",
      "import sys\n",
      "from sklearn import datasets\n",
      "from sklearn import metrics\n",
      "from sklearn import cross_validation\n",
      "from sklearn.base import BaseEstimator,ClassifierMixin\n",
      "from sklearn.grid_search import GridSearchCV\n",
      "\n",
      "import matplotlib.pyplot as plt\n",
      "\n",
      "\n",
      "class regularisationL1L2(BaseEstimator,ClassifierMixin):\n",
      "    \n",
      "    def __init__(self, dim, lamda1=0 , lamda2=0 , eps=0.01, maxiter=100):\n",
      "        np.random.seed(0)\n",
      "        self.maxiter= maxiter\n",
      "        self.dim = dim\n",
      "        self.w = np.random.rand(1,dim)\n",
      "        self.lamda1 = lamda1\n",
      "        self.lamda2 = lamda2\n",
      "        self.eps = eps\n",
      "        \n",
      "    def MSE(self,X,Y):\n",
      "        return np.mean((np.dot(X , self.w.T) - Y)**2)/2.0 + (self.lamda1*np.linalg.norm(self.w,1))+ (self.lamda2*(np.linalg.norm(self.w)**2))\n",
      "    \n",
      "    def grad(self, X, Y):\n",
      "        return (np.dot(X , self.w.T) - Y) * X\n",
      "   \n",
      "    def fit(self, X,Y):\n",
      "        n = X.shape[1]        \n",
      "        self.log_cout = np.zeros((self.maxiter , 1))        \n",
      "        self.log_cout[0] = self.MSE(X , Y)\n",
      "        \n",
      "        for it in xrange(1,self.maxiter):\n",
      "            for i in xrange(1,n):\n",
      "                self.ow = self.w\n",
      "                idx = np.random.randint(n)\n",
      "                x = X[idx].reshape(1 , self.dim)\n",
      "                y = Y[idx].reshape(1 ,1)\n",
      "                self.w = self.w - self.eps*self.grad(x ,y) - self.eps*self.lamda1*np.sign(self.w)- self.eps*self.lamda2*2*self.w\n",
      " \n",
      "                #Verification du signe du grandient\n",
      "                temp = np.sign(self.ow * self.w)\n",
      "                ind = np.where(temp == -1)\n",
      "                self.w[ind] = 0\n",
      "                \n",
      "\n",
      "            self.log_cout[it]=self.MSE(X,Y)\n",
      "              \n",
      "        return self.log_cout\n",
      "\n",
      "        \n",
      "    def predict(self, X):\n",
      "        pred = np.dot(X , self.w.T)\n",
      "        pred[np.where(pred > 0)] = 1\n",
      "        pred[np.where(pred <= 0)] = -1\n",
      "        return pred\n",
      "    \n",
      "    def accuracy(self, pred , Y):\n",
      "        acc = pred - Y\n",
      "        return 100.0*len(np.where(acc == 0)[0])/len(pred)  \n",
      "    \n",
      "    \n",
      "breast_cancer_scale = datasets.fetch_mldata('breast-cancer_scale')\n",
      "X=breast_cancer_scale.data\n",
      "y=breast_cancer_scale.target\n",
      "y[np.where(y == 4)] = 1\n",
      "y[np.where(y == 2)] = -1\n",
      "X = np.array(X)\n",
      "y = y.reshape(y.shape[0] , 1)\n",
      "\n",
      "lamda1=1.0\n",
      "lamda2=1.0\n",
      "model = regularisationL1L2(X.shape[1],lamda1,lamda2)\n",
      "xtrain, xtest, ytrain, ytest = cross_validation.train_test_split(X, y, test_size=0.2, random_state=0)\n",
      "cout = model.fit(xtrain , ytrain)    \n",
      "pred = model.predict(xtest)\n",
      "acc= model.accuracy(pred,ytest)    \n",
      "print('Lamda1:{0:.2f} Lamda2:{1:.2f} Accuracy:{2:.2f}%'.format(lamda1,lamda2,acc))\n",
      "print model.w\n",
      "\n",
      "plt.plot(np.linspace(0,model.maxiter,model.maxiter),cout.reshape(model.maxiter,1))\n",
      "plt.xlabel('iterations')\n",
      "plt.ylabel('Fonction de cout')\n",
      "plt.title('Version L1 et L2 norm')\n",
      "plt.show()"
     ],
     "language": "python",
     "metadata": {},
     "outputs": [
      {
       "output_type": "stream",
       "stream": "stdout",
       "text": [
        "Lamda1:1.00 Lamda2:1.00 Accuracy:86.86%\n",
        "[[ 0.          0.00739591  0.0069469   0.00487586  0.0088287   0.00081796\n",
        "   0.0069469   0.0052828   0.0069469   0.0069469 ]]\n"
       ]
      },
      {
       "metadata": {},
       "output_type": "display_data",
       "png": "[encoded data removed]",
       "text": [
        "<matplotlib.figure.Figure at 0x8cd3070>"
       ]
      }
     ],
     "prompt_number": 8
    },
    {
     "cell_type": "markdown",
     "metadata": {},
     "source": [
      "Ici on remarque l'influence des deux r\u00e9gularisations. La norme L1 implique une certaine sparsit\u00e9 du mod\u00e8le, et la norme L2 p\u00e9nalisant \"carr\u00e9 fois\" plus les param\u00e8tres ayant de fortes valeurs (positives ou n\u00e9gatives)."
     ]
    },
    {
     "cell_type": "code",
     "collapsed": false,
     "input": [
      "#Evaluer les performances en fonction de lamda1 et lamda2\n",
      "from mpl_toolkits.mplot3d import Axes3D\n",
      "from matplotlib import cm\n",
      "from matplotlib.ticker import LinearLocator, FormatStrFormatter\n",
      "import matplotlib.pyplot as plt\n",
      "import numpy as np\n",
      "\n",
      "lamda_values=np.arange(0,2,0.1)\n",
      "acc=np.zeros((len(lamda_values),len(lamda_values)))\n",
      "\n",
      "model = regularisationL1L2(X.shape[1])\n",
      "for i in xrange(0,len(lamda_values)):\n",
      "    for j in xrange(0,len(lamda_values)):\n",
      "        model.lamda1=lamda_values[i]\n",
      "        model.lamda2=lamda_values[j]\n",
      "        scores = cross_validation.cross_val_score(model, X, y.reshape(len(y)), cv=5, scoring='accuracy')\n",
      "        acc[i][j]=np.mean(scores)  \n",
      "        print('Lamda1:{0:.2f} Lamda2:{1:.2f} Mean Accuracy:{2:.2f}%'.format(model.lamda1,model.lamda2,acc[i][j]))\n",
      "\n",
      "        \n",
      "\n",
      "fig = plt.figure()\n",
      "ax = fig.gca(projection='3d')\n",
      "lamdax, lamday = np.meshgrid(lamda_values, lamda_values)\n",
      "surf = ax.plot_surface(lamdax, lamday, acc, rstride=1, cstride=1, cmap=cm.coolwarm, linewidth=0, antialiased=False)\n",
      "\n",
      "ax.zaxis.set_major_locator(LinearLocator(10))\n",
      "ax.zaxis.set_major_formatter(FormatStrFormatter('%.01f'))\n",
      "fig.colorbar(surf, shrink=0.5, aspect=5)\n",
      "plt.title('Performances pour L1 et L2')\n",
      "ax.set_xlabel('Lamda2')\n",
      "ax.set_ylabel('Lamda1')\n",
      "ax.set_zlabel('Accuracy')\n",
      "\n",
      "plt.show()"
     ],
     "language": "python",
     "metadata": {},
     "outputs": [
      {
       "output_type": "stream",
       "stream": "stdout",
       "text": [
        "Lamda1:0.00 Lamda2:0.00 Mean Accuracy:0.85%\n",
        "Lamda1:0.00 Lamda2:0.10 Mean Accuracy:0.85%"
       ]
      },
      {
       "output_type": "stream",
       "stream": "stdout",
       "text": [
        "\n",
        "Lamda1:0.00 Lamda2:0.20 Mean Accuracy:0.82%"
       ]
      },
      {
       "output_type": "stream",
       "stream": "stdout",
       "text": [
        "\n",
        "Lamda1:0.00 Lamda2:0.30 Mean Accuracy:0.79%"
       ]
      },
      {
       "output_type": "stream",
       "stream": "stdout",
       "text": [
        "\n",
        "Lamda1:0.00 Lamda2:0.40 Mean Accuracy:0.78%"
       ]
      },
      {
       "output_type": "stream",
       "stream": "stdout",
       "text": [
        "\n",
        "Lamda1:0.00 Lamda2:0.50 Mean Accuracy:0.78%"
       ]
      },
      {
       "output_type": "stream",
       "stream": "stdout",
       "text": [
        "\n",
        "Lamda1:0.00 Lamda2:0.60 Mean Accuracy:0.78%"
       ]
      },
      {
       "output_type": "stream",
       "stream": "stdout",
       "text": [
        "\n",
        "Lamda1:0.00 Lamda2:0.70 Mean Accuracy:0.78%"
       ]
      },
      {
       "output_type": "stream",
       "stream": "stdout",
       "text": [
        "\n",
        "Lamda1:0.00 Lamda2:0.80 Mean Accuracy:0.78%"
       ]
      },
      {
       "output_type": "stream",
       "stream": "stdout",
       "text": [
        "\n",
        "Lamda1:0.00 Lamda2:0.90 Mean Accuracy:0.78%"
       ]
      },
      {
       "output_type": "stream",
       "stream": "stdout",
       "text": [
        "\n",
        "Lamda1:0.00 Lamda2:1.00 Mean Accuracy:0.78%"
       ]
      },
      {
       "output_type": "stream",
       "stream": "stdout",
       "text": [
        "\n",
        "Lamda1:0.00 Lamda2:1.10 Mean Accuracy:0.78%"
       ]
      },
      {
       "output_type": "stream",
       "stream": "stdout",
       "text": [
        "\n",
        "Lamda1:0.00 Lamda2:1.20 Mean Accuracy:0.78%"
       ]
      },
      {
       "output_type": "stream",
       "stream": "stdout",
       "text": [
        "\n",
        "Lamda1:0.00 Lamda2:1.30 Mean Accuracy:0.78%"
       ]
      },
      {
       "output_type": "stream",
       "stream": "stdout",
       "text": [
        "\n",
        "Lamda1:0.00 Lamda2:1.40 Mean Accuracy:0.78%"
       ]
      },
      {
       "output_type": "stream",
       "stream": "stdout",
       "text": [
        "\n",
        "Lamda1:0.00 Lamda2:1.50 Mean Accuracy:0.78%"
       ]
      },
      {
       "output_type": "stream",
       "stream": "stdout",
       "text": [
        "\n",
        "Lamda1:0.00 Lamda2:1.60 Mean Accuracy:0.78%"
       ]
      },
      {
       "output_type": "stream",
       "stream": "stdout",
       "text": [
        "\n",
        "Lamda1:0.00 Lamda2:1.70 Mean Accuracy:0.78%"
       ]
      },
      {
       "output_type": "stream",
       "stream": "stdout",
       "text": [
        "\n",
        "Lamda1:0.00 Lamda2:1.80 Mean Accuracy:0.77%"
       ]
      },
      {
       "output_type": "stream",
       "stream": "stdout",
       "text": [
        "\n",
        "Lamda1:0.00 Lamda2:1.90 Mean Accuracy:0.78%"
       ]
      },
      {
       "output_type": "stream",
       "stream": "stdout",
       "text": [
        "\n",
        "Lamda1:0.10 Lamda2:0.00 Mean Accuracy:0.85%"
       ]
      },
      {
       "output_type": "stream",
       "stream": "stdout",
       "text": [
        "\n",
        "Lamda1:0.10 Lamda2:0.10 Mean Accuracy:0.74%"
       ]
      },
      {
       "output_type": "stream",
       "stream": "stdout",
       "text": [
        "\n",
        "Lamda1:0.10 Lamda2:0.20 Mean Accuracy:0.73%"
       ]
      },
      {
       "output_type": "stream",
       "stream": "stdout",
       "text": [
        "\n",
        "Lamda1:0.10 Lamda2:0.30 Mean Accuracy:0.72%"
       ]
      },
      {
       "output_type": "stream",
       "stream": "stdout",
       "text": [
        "\n",
        "Lamda1:0.10 Lamda2:0.40 Mean Accuracy:0.71%"
       ]
      },
      {
       "output_type": "stream",
       "stream": "stdout",
       "text": [
        "\n",
        "Lamda1:0.10 Lamda2:0.50 Mean Accuracy:0.71%"
       ]
      },
      {
       "output_type": "stream",
       "stream": "stdout",
       "text": [
        "\n",
        "Lamda1:0.10 Lamda2:0.60 Mean Accuracy:0.70%"
       ]
      },
      {
       "output_type": "stream",
       "stream": "stdout",
       "text": [
        "\n",
        "Lamda1:0.10 Lamda2:0.70 Mean Accuracy:0.70%"
       ]
      },
      {
       "output_type": "stream",
       "stream": "stdout",
       "text": [
        "\n",
        "Lamda1:0.10 Lamda2:0.80 Mean Accuracy:0.70%"
       ]
      },
      {
       "output_type": "stream",
       "stream": "stdout",
       "text": [
        "\n",
        "Lamda1:0.10 Lamda2:0.90 Mean Accuracy:0.70%"
       ]
      },
      {
       "output_type": "stream",
       "stream": "stdout",
       "text": [
        "\n",
        "Lamda1:0.10 Lamda2:1.00 Mean Accuracy:0.70%"
       ]
      },
      {
       "output_type": "stream",
       "stream": "stdout",
       "text": [
        "\n",
        "Lamda1:0.10 Lamda2:1.10 Mean Accuracy:0.70%"
       ]
      },
      {
       "output_type": "stream",
       "stream": "stdout",
       "text": [
        "\n",
        "Lamda1:0.10 Lamda2:1.20 Mean Accuracy:0.70%"
       ]
      },
      {
       "output_type": "stream",
       "stream": "stdout",
       "text": [
        "\n",
        "Lamda1:0.10 Lamda2:1.30 Mean Accuracy:0.70%"
       ]
      },
      {
       "output_type": "stream",
       "stream": "stdout",
       "text": [
        "\n",
        "Lamda1:0.10 Lamda2:1.40 Mean Accuracy:0.70%"
       ]
      },
      {
       "output_type": "stream",
       "stream": "stdout",
       "text": [
        "\n",
        "Lamda1:0.10 Lamda2:1.50 Mean Accuracy:0.70%"
       ]
      },
      {
       "output_type": "stream",
       "stream": "stdout",
       "text": [
        "\n",
        "Lamda1:0.10 Lamda2:1.60 Mean Accuracy:0.70%"
       ]
      },
      {
       "output_type": "stream",
       "stream": "stdout",
       "text": [
        "\n",
        "Lamda1:0.10 Lamda2:1.70 Mean Accuracy:0.70%"
       ]
      },
      {
       "output_type": "stream",
       "stream": "stdout",
       "text": [
        "\n",
        "Lamda1:0.10 Lamda2:1.80 Mean Accuracy:0.70%"
       ]
      },
      {
       "output_type": "stream",
       "stream": "stdout",
       "text": [
        "\n",
        "Lamda1:0.10 Lamda2:1.90 Mean Accuracy:0.70%"
       ]
      },
      {
       "output_type": "stream",
       "stream": "stdout",
       "text": [
        "\n",
        "Lamda1:0.20 Lamda2:0.00 Mean Accuracy:0.85%"
       ]
      },
      {
       "output_type": "stream",
       "stream": "stdout",
       "text": [
        "\n",
        "Lamda1:0.20 Lamda2:0.10 Mean Accuracy:0.84%"
       ]
      },
      {
       "output_type": "stream",
       "stream": "stdout",
       "text": [
        "\n",
        "Lamda1:0.20 Lamda2:0.20 Mean Accuracy:0.74%"
       ]
      },
      {
       "output_type": "stream",
       "stream": "stdout",
       "text": [
        "\n",
        "Lamda1:0.20 Lamda2:0.30 Mean Accuracy:0.72%"
       ]
      },
      {
       "output_type": "stream",
       "stream": "stdout",
       "text": [
        "\n",
        "Lamda1:0.20 Lamda2:0.40 Mean Accuracy:0.71%"
       ]
      },
      {
       "output_type": "stream",
       "stream": "stdout",
       "text": [
        "\n",
        "Lamda1:0.20 Lamda2:0.50 Mean Accuracy:0.71%"
       ]
      },
      {
       "output_type": "stream",
       "stream": "stdout",
       "text": [
        "\n",
        "Lamda1:0.20 Lamda2:0.60 Mean Accuracy:0.70%"
       ]
      },
      {
       "output_type": "stream",
       "stream": "stdout",
       "text": [
        "\n",
        "Lamda1:0.20 Lamda2:0.70 Mean Accuracy:0.70%"
       ]
      },
      {
       "output_type": "stream",
       "stream": "stdout",
       "text": [
        "\n",
        "Lamda1:0.20 Lamda2:0.80 Mean Accuracy:0.70%"
       ]
      },
      {
       "output_type": "stream",
       "stream": "stdout",
       "text": [
        "\n",
        "Lamda1:0.20 Lamda2:0.90 Mean Accuracy:0.70%"
       ]
      },
      {
       "output_type": "stream",
       "stream": "stdout",
       "text": [
        "\n",
        "Lamda1:0.20 Lamda2:1.00 Mean Accuracy:0.70%"
       ]
      },
      {
       "output_type": "stream",
       "stream": "stdout",
       "text": [
        "\n",
        "Lamda1:0.20 Lamda2:1.10 Mean Accuracy:0.70%"
       ]
      },
      {
       "output_type": "stream",
       "stream": "stdout",
       "text": [
        "\n",
        "Lamda1:0.20 Lamda2:1.20 Mean Accuracy:0.70%"
       ]
      },
      {
       "output_type": "stream",
       "stream": "stdout",
       "text": [
        "\n",
        "Lamda1:0.20 Lamda2:1.30 Mean Accuracy:0.70%"
       ]
      },
      {
       "output_type": "stream",
       "stream": "stdout",
       "text": [
        "\n",
        "Lamda1:0.20 Lamda2:1.40 Mean Accuracy:0.70%"
       ]
      },
      {
       "output_type": "stream",
       "stream": "stdout",
       "text": [
        "\n",
        "Lamda1:0.20 Lamda2:1.50 Mean Accuracy:0.70%"
       ]
      },
      {
       "output_type": "stream",
       "stream": "stdout",
       "text": [
        "\n",
        "Lamda1:0.20 Lamda2:1.60 Mean Accuracy:0.70%"
       ]
      },
      {
       "output_type": "stream",
       "stream": "stdout",
       "text": [
        "\n",
        "Lamda1:0.20 Lamda2:1.70 Mean Accuracy:0.69%"
       ]
      },
      {
       "output_type": "stream",
       "stream": "stdout",
       "text": [
        "\n",
        "Lamda1:0.20 Lamda2:1.80 Mean Accuracy:0.69%"
       ]
      },
      {
       "output_type": "stream",
       "stream": "stdout",
       "text": [
        "\n",
        "Lamda1:0.20 Lamda2:1.90 Mean Accuracy:0.69%"
       ]
      },
      {
       "output_type": "stream",
       "stream": "stdout",
       "text": [
        "\n",
        "Lamda1:0.30 Lamda2:0.00 Mean Accuracy:0.86%"
       ]
      },
      {
       "output_type": "stream",
       "stream": "stdout",
       "text": [
        "\n",
        "Lamda1:0.30 Lamda2:0.10 Mean Accuracy:0.84%"
       ]
      },
      {
       "output_type": "stream",
       "stream": "stdout",
       "text": [
        "\n",
        "Lamda1:0.30 Lamda2:0.20 Mean Accuracy:0.74%"
       ]
      },
      {
       "output_type": "stream",
       "stream": "stdout",
       "text": [
        "\n",
        "Lamda1:0.30 Lamda2:0.30 Mean Accuracy:0.73%"
       ]
      },
      {
       "output_type": "stream",
       "stream": "stdout",
       "text": [
        "\n",
        "Lamda1:0.30 Lamda2:0.40 Mean Accuracy:0.72%"
       ]
      },
      {
       "output_type": "stream",
       "stream": "stdout",
       "text": [
        "\n",
        "Lamda1:0.30 Lamda2:0.50 Mean Accuracy:0.71%"
       ]
      },
      {
       "output_type": "stream",
       "stream": "stdout",
       "text": [
        "\n",
        "Lamda1:0.30 Lamda2:0.60 Mean Accuracy:0.71%"
       ]
      },
      {
       "output_type": "stream",
       "stream": "stdout",
       "text": [
        "\n",
        "Lamda1:0.30 Lamda2:0.70 Mean Accuracy:0.70%"
       ]
      },
      {
       "output_type": "stream",
       "stream": "stdout",
       "text": [
        "\n",
        "Lamda1:0.30 Lamda2:0.80 Mean Accuracy:0.70%"
       ]
      },
      {
       "output_type": "stream",
       "stream": "stdout",
       "text": [
        "\n",
        "Lamda1:0.30 Lamda2:0.90 Mean Accuracy:0.70%"
       ]
      },
      {
       "output_type": "stream",
       "stream": "stdout",
       "text": [
        "\n",
        "Lamda1:0.30 Lamda2:1.00 Mean Accuracy:0.70%"
       ]
      },
      {
       "output_type": "stream",
       "stream": "stdout",
       "text": [
        "\n",
        "Lamda1:0.30 Lamda2:1.10 Mean Accuracy:0.69%"
       ]
      },
      {
       "output_type": "stream",
       "stream": "stdout",
       "text": [
        "\n",
        "Lamda1:0.30 Lamda2:1.20 Mean Accuracy:0.69%"
       ]
      },
      {
       "output_type": "stream",
       "stream": "stdout",
       "text": [
        "\n",
        "Lamda1:0.30 Lamda2:1.30 Mean Accuracy:0.69%"
       ]
      },
      {
       "output_type": "stream",
       "stream": "stdout",
       "text": [
        "\n",
        "Lamda1:0.30 Lamda2:1.40 Mean Accuracy:0.69%"
       ]
      },
      {
       "output_type": "stream",
       "stream": "stdout",
       "text": [
        "\n",
        "Lamda1:0.30 Lamda2:1.50 Mean Accuracy:0.69%"
       ]
      },
      {
       "output_type": "stream",
       "stream": "stdout",
       "text": [
        "\n",
        "Lamda1:0.30 Lamda2:1.60 Mean Accuracy:0.69%"
       ]
      },
      {
       "output_type": "stream",
       "stream": "stdout",
       "text": [
        "\n",
        "Lamda1:0.30 Lamda2:1.70 Mean Accuracy:0.69%"
       ]
      },
      {
       "output_type": "stream",
       "stream": "stdout",
       "text": [
        "\n",
        "Lamda1:0.30 Lamda2:1.80 Mean Accuracy:0.69%"
       ]
      },
      {
       "output_type": "stream",
       "stream": "stdout",
       "text": [
        "\n",
        "Lamda1:0.30 Lamda2:1.90 Mean Accuracy:0.69%"
       ]
      },
      {
       "output_type": "stream",
       "stream": "stdout",
       "text": [
        "\n",
        "Lamda1:0.40 Lamda2:0.00 Mean Accuracy:0.84%"
       ]
      },
      {
       "output_type": "stream",
       "stream": "stdout",
       "text": [
        "\n",
        "Lamda1:0.40 Lamda2:0.10 Mean Accuracy:0.84%"
       ]
      },
      {
       "output_type": "stream",
       "stream": "stdout",
       "text": [
        "\n",
        "Lamda1:0.40 Lamda2:0.20 Mean Accuracy:0.83%"
       ]
      },
      {
       "output_type": "stream",
       "stream": "stdout",
       "text": [
        "\n",
        "Lamda1:0.40 Lamda2:0.30 Mean Accuracy:0.73%"
       ]
      },
      {
       "output_type": "stream",
       "stream": "stdout",
       "text": [
        "\n",
        "Lamda1:0.40 Lamda2:0.40 Mean Accuracy:0.72%"
       ]
      },
      {
       "output_type": "stream",
       "stream": "stdout",
       "text": [
        "\n",
        "Lamda1:0.40 Lamda2:0.50 Mean Accuracy:0.71%"
       ]
      },
      {
       "output_type": "stream",
       "stream": "stdout",
       "text": [
        "\n",
        "Lamda1:0.40 Lamda2:0.60 Mean Accuracy:0.70%"
       ]
      },
      {
       "output_type": "stream",
       "stream": "stdout",
       "text": [
        "\n",
        "Lamda1:0.40 Lamda2:0.70 Mean Accuracy:0.70%"
       ]
      },
      {
       "output_type": "stream",
       "stream": "stdout",
       "text": [
        "\n",
        "Lamda1:0.40 Lamda2:0.80 Mean Accuracy:0.70%"
       ]
      },
      {
       "output_type": "stream",
       "stream": "stdout",
       "text": [
        "\n",
        "Lamda1:0.40 Lamda2:0.90 Mean Accuracy:0.69%"
       ]
      },
      {
       "output_type": "stream",
       "stream": "stdout",
       "text": [
        "\n",
        "Lamda1:0.40 Lamda2:1.00 Mean Accuracy:0.69%"
       ]
      },
      {
       "output_type": "stream",
       "stream": "stdout",
       "text": [
        "\n",
        "Lamda1:0.40 Lamda2:1.10 Mean Accuracy:0.69%"
       ]
      },
      {
       "output_type": "stream",
       "stream": "stdout",
       "text": [
        "\n",
        "Lamda1:0.40 Lamda2:1.20 Mean Accuracy:0.69%"
       ]
      },
      {
       "output_type": "stream",
       "stream": "stdout",
       "text": [
        "\n",
        "Lamda1:0.40 Lamda2:1.30 Mean Accuracy:0.69%"
       ]
      },
      {
       "output_type": "stream",
       "stream": "stdout",
       "text": [
        "\n",
        "Lamda1:0.40 Lamda2:1.40 Mean Accuracy:0.68%"
       ]
      },
      {
       "output_type": "stream",
       "stream": "stdout",
       "text": [
        "\n",
        "Lamda1:0.40 Lamda2:1.50 Mean Accuracy:0.68%"
       ]
      },
      {
       "output_type": "stream",
       "stream": "stdout",
       "text": [
        "\n",
        "Lamda1:0.40 Lamda2:1.60 Mean Accuracy:0.68%"
       ]
      },
      {
       "output_type": "stream",
       "stream": "stdout",
       "text": [
        "\n",
        "Lamda1:0.40 Lamda2:1.70 Mean Accuracy:0.68%"
       ]
      },
      {
       "output_type": "stream",
       "stream": "stdout",
       "text": [
        "\n",
        "Lamda1:0.40 Lamda2:1.80 Mean Accuracy:0.68%"
       ]
      },
      {
       "output_type": "stream",
       "stream": "stdout",
       "text": [
        "\n",
        "Lamda1:0.40 Lamda2:1.90 Mean Accuracy:0.68%"
       ]
      },
      {
       "output_type": "stream",
       "stream": "stdout",
       "text": [
        "\n",
        "Lamda1:0.50 Lamda2:0.00 Mean Accuracy:0.82%"
       ]
      },
      {
       "output_type": "stream",
       "stream": "stdout",
       "text": [
        "\n",
        "Lamda1:0.50 Lamda2:0.10 Mean Accuracy:0.83%"
       ]
      },
      {
       "output_type": "stream",
       "stream": "stdout",
       "text": [
        "\n",
        "Lamda1:0.50 Lamda2:0.20 Mean Accuracy:0.82%"
       ]
      },
      {
       "output_type": "stream",
       "stream": "stdout",
       "text": [
        "\n",
        "Lamda1:0.50 Lamda2:0.30 Mean Accuracy:0.81%"
       ]
      },
      {
       "output_type": "stream",
       "stream": "stdout",
       "text": [
        "\n",
        "Lamda1:0.50 Lamda2:0.40 Mean Accuracy:0.80%"
       ]
      },
      {
       "output_type": "stream",
       "stream": "stdout",
       "text": [
        "\n",
        "Lamda1:0.50 Lamda2:0.50 Mean Accuracy:0.79%"
       ]
      },
      {
       "output_type": "stream",
       "stream": "stdout",
       "text": [
        "\n",
        "Lamda1:0.50 Lamda2:0.60 Mean Accuracy:0.78%"
       ]
      },
      {
       "output_type": "stream",
       "stream": "stdout",
       "text": [
        "\n",
        "Lamda1:0.50 Lamda2:0.70 Mean Accuracy:0.77%"
       ]
      },
      {
       "output_type": "stream",
       "stream": "stdout",
       "text": [
        "\n",
        "Lamda1:0.50 Lamda2:0.80 Mean Accuracy:0.77%"
       ]
      },
      {
       "output_type": "stream",
       "stream": "stdout",
       "text": [
        "\n",
        "Lamda1:0.50 Lamda2:0.90 Mean Accuracy:0.68%"
       ]
      },
      {
       "output_type": "stream",
       "stream": "stdout",
       "text": [
        "\n",
        "Lamda1:0.50 Lamda2:1.00 Mean Accuracy:0.68%"
       ]
      },
      {
       "output_type": "stream",
       "stream": "stdout",
       "text": [
        "\n",
        "Lamda1:0.50 Lamda2:1.10 Mean Accuracy:0.67%"
       ]
      },
      {
       "output_type": "stream",
       "stream": "stdout",
       "text": [
        "\n",
        "Lamda1:0.50 Lamda2:1.20 Mean Accuracy:0.67%"
       ]
      },
      {
       "output_type": "stream",
       "stream": "stdout",
       "text": [
        "\n",
        "Lamda1:0.50 Lamda2:1.30 Mean Accuracy:0.67%"
       ]
      },
      {
       "output_type": "stream",
       "stream": "stdout",
       "text": [
        "\n",
        "Lamda1:0.50 Lamda2:1.40 Mean Accuracy:0.66%"
       ]
      },
      {
       "output_type": "stream",
       "stream": "stdout",
       "text": [
        "\n",
        "Lamda1:0.50 Lamda2:1.50 Mean Accuracy:0.66%"
       ]
      },
      {
       "output_type": "stream",
       "stream": "stdout",
       "text": [
        "\n",
        "Lamda1:0.50 Lamda2:1.60 Mean Accuracy:0.66%"
       ]
      },
      {
       "output_type": "stream",
       "stream": "stdout",
       "text": [
        "\n",
        "Lamda1:0.50 Lamda2:1.70 Mean Accuracy:0.66%"
       ]
      },
      {
       "output_type": "stream",
       "stream": "stdout",
       "text": [
        "\n",
        "Lamda1:0.50 Lamda2:1.80 Mean Accuracy:0.66%"
       ]
      },
      {
       "output_type": "stream",
       "stream": "stdout",
       "text": [
        "\n",
        "Lamda1:0.50 Lamda2:1.90 Mean Accuracy:0.66%"
       ]
      },
      {
       "output_type": "stream",
       "stream": "stdout",
       "text": [
        "\n",
        "Lamda1:0.60 Lamda2:0.00 Mean Accuracy:0.81%"
       ]
      },
      {
       "output_type": "stream",
       "stream": "stdout",
       "text": [
        "\n",
        "Lamda1:0.60 Lamda2:0.10 Mean Accuracy:0.82%"
       ]
      },
      {
       "output_type": "stream",
       "stream": "stdout",
       "text": [
        "\n",
        "Lamda1:0.60 Lamda2:0.20 Mean Accuracy:0.80%"
       ]
      },
      {
       "output_type": "stream",
       "stream": "stdout",
       "text": [
        "\n",
        "Lamda1:0.60 Lamda2:0.30 Mean Accuracy:0.80%"
       ]
      },
      {
       "output_type": "stream",
       "stream": "stdout",
       "text": [
        "\n",
        "Lamda1:0.60 Lamda2:0.40 Mean Accuracy:0.79%"
       ]
      },
      {
       "output_type": "stream",
       "stream": "stdout",
       "text": [
        "\n",
        "Lamda1:0.60 Lamda2:0.50 Mean Accuracy:0.77%"
       ]
      },
      {
       "output_type": "stream",
       "stream": "stdout",
       "text": [
        "\n",
        "Lamda1:0.60 Lamda2:0.60 Mean Accuracy:0.76%"
       ]
      },
      {
       "output_type": "stream",
       "stream": "stdout",
       "text": [
        "\n",
        "Lamda1:0.60 Lamda2:0.70 Mean Accuracy:0.75%"
       ]
      },
      {
       "output_type": "stream",
       "stream": "stdout",
       "text": [
        "\n",
        "Lamda1:0.60 Lamda2:0.80 Mean Accuracy:0.74%"
       ]
      },
      {
       "output_type": "stream",
       "stream": "stdout",
       "text": [
        "\n",
        "Lamda1:0.60 Lamda2:0.90 Mean Accuracy:0.74%"
       ]
      },
      {
       "output_type": "stream",
       "stream": "stdout",
       "text": [
        "\n",
        "Lamda1:0.60 Lamda2:1.00 Mean Accuracy:0.74%"
       ]
      },
      {
       "output_type": "stream",
       "stream": "stdout",
       "text": [
        "\n",
        "Lamda1:0.60 Lamda2:1.10 Mean Accuracy:0.74%"
       ]
      },
      {
       "output_type": "stream",
       "stream": "stdout",
       "text": [
        "\n",
        "Lamda1:0.60 Lamda2:1.20 Mean Accuracy:0.74%"
       ]
      },
      {
       "output_type": "stream",
       "stream": "stdout",
       "text": [
        "\n",
        "Lamda1:0.60 Lamda2:1.30 Mean Accuracy:0.74%"
       ]
      },
      {
       "output_type": "stream",
       "stream": "stdout",
       "text": [
        "\n",
        "Lamda1:0.60 Lamda2:1.40 Mean Accuracy:0.74%"
       ]
      },
      {
       "output_type": "stream",
       "stream": "stdout",
       "text": [
        "\n",
        "Lamda1:0.60 Lamda2:1.50 Mean Accuracy:0.74%"
       ]
      },
      {
       "output_type": "stream",
       "stream": "stdout",
       "text": [
        "\n",
        "Lamda1:0.60 Lamda2:1.60 Mean Accuracy:0.74%"
       ]
      },
      {
       "output_type": "stream",
       "stream": "stdout",
       "text": [
        "\n",
        "Lamda1:0.60 Lamda2:1.70 Mean Accuracy:0.74%"
       ]
      },
      {
       "output_type": "stream",
       "stream": "stdout",
       "text": [
        "\n",
        "Lamda1:0.60 Lamda2:1.80 Mean Accuracy:0.74%"
       ]
      },
      {
       "output_type": "stream",
       "stream": "stdout",
       "text": [
        "\n",
        "Lamda1:0.60 Lamda2:1.90 Mean Accuracy:0.73%"
       ]
      },
      {
       "output_type": "stream",
       "stream": "stdout",
       "text": [
        "\n",
        "Lamda1:0.70 Lamda2:0.00 Mean Accuracy:0.80%"
       ]
      },
      {
       "output_type": "stream",
       "stream": "stdout",
       "text": [
        "\n",
        "Lamda1:0.70 Lamda2:0.10 Mean Accuracy:0.79%"
       ]
      },
      {
       "output_type": "stream",
       "stream": "stdout",
       "text": [
        "\n",
        "Lamda1:0.70 Lamda2:0.20 Mean Accuracy:0.77%"
       ]
      },
      {
       "output_type": "stream",
       "stream": "stdout",
       "text": [
        "\n",
        "Lamda1:0.70 Lamda2:0.30 Mean Accuracy:0.76%"
       ]
      },
      {
       "output_type": "stream",
       "stream": "stdout",
       "text": [
        "\n",
        "Lamda1:0.70 Lamda2:0.40 Mean Accuracy:0.76%"
       ]
      },
      {
       "output_type": "stream",
       "stream": "stdout",
       "text": [
        "\n",
        "Lamda1:0.70 Lamda2:0.50 Mean Accuracy:0.75%"
       ]
      },
      {
       "output_type": "stream",
       "stream": "stdout",
       "text": [
        "\n",
        "Lamda1:0.70 Lamda2:0.60 Mean Accuracy:0.76%"
       ]
      },
      {
       "output_type": "stream",
       "stream": "stdout",
       "text": [
        "\n",
        "Lamda1:0.70 Lamda2:0.70 Mean Accuracy:0.76%"
       ]
      },
      {
       "output_type": "stream",
       "stream": "stdout",
       "text": [
        "\n",
        "Lamda1:0.70 Lamda2:0.80 Mean Accuracy:0.76%"
       ]
      },
      {
       "output_type": "stream",
       "stream": "stdout",
       "text": [
        "\n",
        "Lamda1:0.70 Lamda2:0.90 Mean Accuracy:0.76%"
       ]
      },
      {
       "output_type": "stream",
       "stream": "stdout",
       "text": [
        "\n",
        "Lamda1:0.70 Lamda2:1.00 Mean Accuracy:0.77%"
       ]
      },
      {
       "output_type": "stream",
       "stream": "stdout",
       "text": [
        "\n",
        "Lamda1:0.70 Lamda2:1.10 Mean Accuracy:0.77%"
       ]
      },
      {
       "output_type": "stream",
       "stream": "stdout",
       "text": [
        "\n",
        "Lamda1:0.70 Lamda2:1.20 Mean Accuracy:0.77%"
       ]
      },
      {
       "output_type": "stream",
       "stream": "stdout",
       "text": [
        "\n",
        "Lamda1:0.70 Lamda2:1.30 Mean Accuracy:0.77%"
       ]
      },
      {
       "output_type": "stream",
       "stream": "stdout",
       "text": [
        "\n",
        "Lamda1:0.70 Lamda2:1.40 Mean Accuracy:0.77%"
       ]
      },
      {
       "output_type": "stream",
       "stream": "stdout",
       "text": [
        "\n",
        "Lamda1:0.70 Lamda2:1.50 Mean Accuracy:0.77%"
       ]
      },
      {
       "output_type": "stream",
       "stream": "stdout",
       "text": [
        "\n",
        "Lamda1:0.70 Lamda2:1.60 Mean Accuracy:0.77%"
       ]
      },
      {
       "output_type": "stream",
       "stream": "stdout",
       "text": [
        "\n",
        "Lamda1:0.70 Lamda2:1.70 Mean Accuracy:0.77%"
       ]
      },
      {
       "output_type": "stream",
       "stream": "stdout",
       "text": [
        "\n",
        "Lamda1:0.70 Lamda2:1.80 Mean Accuracy:0.77%"
       ]
      },
      {
       "output_type": "stream",
       "stream": "stdout",
       "text": [
        "\n",
        "Lamda1:0.70 Lamda2:1.90 Mean Accuracy:0.77%"
       ]
      },
      {
       "output_type": "stream",
       "stream": "stdout",
       "text": [
        "\n",
        "Lamda1:0.80 Lamda2:0.00 Mean Accuracy:0.77%"
       ]
      },
      {
       "output_type": "stream",
       "stream": "stdout",
       "text": [
        "\n",
        "Lamda1:0.80 Lamda2:0.10 Mean Accuracy:0.78%"
       ]
      },
      {
       "output_type": "stream",
       "stream": "stdout",
       "text": [
        "\n",
        "Lamda1:0.80 Lamda2:0.20 Mean Accuracy:0.77%"
       ]
      },
      {
       "output_type": "stream",
       "stream": "stdout",
       "text": [
        "\n",
        "Lamda1:0.80 Lamda2:0.30 Mean Accuracy:0.78%"
       ]
      },
      {
       "output_type": "stream",
       "stream": "stdout",
       "text": [
        "\n",
        "Lamda1:0.80 Lamda2:0.40 Mean Accuracy:0.78%"
       ]
      },
      {
       "output_type": "stream",
       "stream": "stdout",
       "text": [
        "\n",
        "Lamda1:0.80 Lamda2:0.50 Mean Accuracy:0.78%"
       ]
      },
      {
       "output_type": "stream",
       "stream": "stdout",
       "text": [
        "\n",
        "Lamda1:0.80 Lamda2:0.60 Mean Accuracy:0.78%"
       ]
      },
      {
       "output_type": "stream",
       "stream": "stdout",
       "text": [
        "\n",
        "Lamda1:0.80 Lamda2:0.70 Mean Accuracy:0.78%"
       ]
      },
      {
       "output_type": "stream",
       "stream": "stdout",
       "text": [
        "\n",
        "Lamda1:0.80 Lamda2:0.80 Mean Accuracy:0.79%"
       ]
      },
      {
       "output_type": "stream",
       "stream": "stdout",
       "text": [
        "\n",
        "Lamda1:0.80 Lamda2:0.90 Mean Accuracy:0.79%"
       ]
      },
      {
       "output_type": "stream",
       "stream": "stdout",
       "text": [
        "\n",
        "Lamda1:0.80 Lamda2:1.00 Mean Accuracy:0.78%"
       ]
      },
      {
       "output_type": "stream",
       "stream": "stdout",
       "text": [
        "\n",
        "Lamda1:0.80 Lamda2:1.10 Mean Accuracy:0.79%"
       ]
      },
      {
       "output_type": "stream",
       "stream": "stdout",
       "text": [
        "\n",
        "Lamda1:0.80 Lamda2:1.20 Mean Accuracy:0.79%"
       ]
      },
      {
       "output_type": "stream",
       "stream": "stdout",
       "text": [
        "\n",
        "Lamda1:0.80 Lamda2:1.30 Mean Accuracy:0.80%"
       ]
      },
      {
       "output_type": "stream",
       "stream": "stdout",
       "text": [
        "\n",
        "Lamda1:0.80 Lamda2:1.40 Mean Accuracy:0.80%"
       ]
      },
      {
       "output_type": "stream",
       "stream": "stdout",
       "text": [
        "\n",
        "Lamda1:0.80 Lamda2:1.50 Mean Accuracy:0.80%"
       ]
      },
      {
       "output_type": "stream",
       "stream": "stdout",
       "text": [
        "\n",
        "Lamda1:0.80 Lamda2:1.60 Mean Accuracy:0.80%"
       ]
      },
      {
       "output_type": "stream",
       "stream": "stdout",
       "text": [
        "\n",
        "Lamda1:0.80 Lamda2:1.70 Mean Accuracy:0.80%"
       ]
      },
      {
       "output_type": "stream",
       "stream": "stdout",
       "text": [
        "\n",
        "Lamda1:0.80 Lamda2:1.80 Mean Accuracy:0.80%"
       ]
      },
      {
       "output_type": "stream",
       "stream": "stdout",
       "text": [
        "\n",
        "Lamda1:0.80 Lamda2:1.90 Mean Accuracy:0.80%"
       ]
      },
      {
       "output_type": "stream",
       "stream": "stdout",
       "text": [
        "\n",
        "Lamda1:0.90 Lamda2:0.00 Mean Accuracy:0.83%"
       ]
      },
      {
       "output_type": "stream",
       "stream": "stdout",
       "text": [
        "\n",
        "Lamda1:0.90 Lamda2:0.10 Mean Accuracy:0.83%"
       ]
      },
      {
       "output_type": "stream",
       "stream": "stdout",
       "text": [
        "\n",
        "Lamda1:0.90 Lamda2:0.20 Mean Accuracy:0.82%"
       ]
      },
      {
       "output_type": "stream",
       "stream": "stdout",
       "text": [
        "\n",
        "Lamda1:0.90 Lamda2:0.30 Mean Accuracy:0.83%"
       ]
      },
      {
       "output_type": "stream",
       "stream": "stdout",
       "text": [
        "\n",
        "Lamda1:0.90 Lamda2:0.40 Mean Accuracy:0.83%"
       ]
      },
      {
       "output_type": "stream",
       "stream": "stdout",
       "text": [
        "\n",
        "Lamda1:0.90 Lamda2:0.50 Mean Accuracy:0.83%"
       ]
      },
      {
       "output_type": "stream",
       "stream": "stdout",
       "text": [
        "\n",
        "Lamda1:0.90 Lamda2:0.60 Mean Accuracy:0.83%"
       ]
      },
      {
       "output_type": "stream",
       "stream": "stdout",
       "text": [
        "\n",
        "Lamda1:0.90 Lamda2:0.70 Mean Accuracy:0.83%"
       ]
      },
      {
       "output_type": "stream",
       "stream": "stdout",
       "text": [
        "\n",
        "Lamda1:0.90 Lamda2:0.80 Mean Accuracy:0.83%"
       ]
      },
      {
       "output_type": "stream",
       "stream": "stdout",
       "text": [
        "\n",
        "Lamda1:0.90 Lamda2:0.90 Mean Accuracy:0.84%"
       ]
      },
      {
       "output_type": "stream",
       "stream": "stdout",
       "text": [
        "\n",
        "Lamda1:0.90 Lamda2:1.00 Mean Accuracy:0.83%"
       ]
      },
      {
       "output_type": "stream",
       "stream": "stdout",
       "text": [
        "\n",
        "Lamda1:0.90 Lamda2:1.10 Mean Accuracy:0.83%"
       ]
      },
      {
       "output_type": "stream",
       "stream": "stdout",
       "text": [
        "\n",
        "Lamda1:0.90 Lamda2:1.20 Mean Accuracy:0.83%"
       ]
      },
      {
       "output_type": "stream",
       "stream": "stdout",
       "text": [
        "\n",
        "Lamda1:0.90 Lamda2:1.30 Mean Accuracy:0.84%"
       ]
      },
      {
       "output_type": "stream",
       "stream": "stdout",
       "text": [
        "\n",
        "Lamda1:0.90 Lamda2:1.40 Mean Accuracy:0.83%"
       ]
      },
      {
       "output_type": "stream",
       "stream": "stdout",
       "text": [
        "\n",
        "Lamda1:0.90 Lamda2:1.50 Mean Accuracy:0.83%"
       ]
      },
      {
       "output_type": "stream",
       "stream": "stdout",
       "text": [
        "\n",
        "Lamda1:0.90 Lamda2:1.60 Mean Accuracy:0.84%"
       ]
      },
      {
       "output_type": "stream",
       "stream": "stdout",
       "text": [
        "\n",
        "Lamda1:0.90 Lamda2:1.70 Mean Accuracy:0.83%"
       ]
      },
      {
       "output_type": "stream",
       "stream": "stdout",
       "text": [
        "\n",
        "Lamda1:0.90 Lamda2:1.80 Mean Accuracy:0.84%"
       ]
      },
      {
       "output_type": "stream",
       "stream": "stdout",
       "text": [
        "\n",
        "Lamda1:0.90 Lamda2:1.90 Mean Accuracy:0.84%"
       ]
      },
      {
       "output_type": "stream",
       "stream": "stdout",
       "text": [
        "\n",
        "Lamda1:1.00 Lamda2:0.00 Mean Accuracy:0.82%"
       ]
      },
      {
       "output_type": "stream",
       "stream": "stdout",
       "text": [
        "\n",
        "Lamda1:1.00 Lamda2:0.10 Mean Accuracy:0.81%"
       ]
      },
      {
       "output_type": "stream",
       "stream": "stdout",
       "text": [
        "\n",
        "Lamda1:1.00 Lamda2:0.20 Mean Accuracy:0.82%"
       ]
      },
      {
       "output_type": "stream",
       "stream": "stdout",
       "text": [
        "\n",
        "Lamda1:1.00 Lamda2:0.30 Mean Accuracy:0.82%"
       ]
      },
      {
       "output_type": "stream",
       "stream": "stdout",
       "text": [
        "\n",
        "Lamda1:1.00 Lamda2:0.40 Mean Accuracy:0.82%"
       ]
      },
      {
       "output_type": "stream",
       "stream": "stdout",
       "text": [
        "\n",
        "Lamda1:1.00 Lamda2:0.50 Mean Accuracy:0.82%"
       ]
      },
      {
       "output_type": "stream",
       "stream": "stdout",
       "text": [
        "\n",
        "Lamda1:1.00 Lamda2:0.60 Mean Accuracy:0.82%"
       ]
      },
      {
       "output_type": "stream",
       "stream": "stdout",
       "text": [
        "\n",
        "Lamda1:1.00 Lamda2:0.70 Mean Accuracy:0.73%"
       ]
      },
      {
       "output_type": "stream",
       "stream": "stdout",
       "text": [
        "\n",
        "Lamda1:1.00 Lamda2:0.80 Mean Accuracy:0.82%"
       ]
      },
      {
       "output_type": "stream",
       "stream": "stdout",
       "text": [
        "\n",
        "Lamda1:1.00 Lamda2:0.90 Mean Accuracy:0.82%"
       ]
      },
      {
       "output_type": "stream",
       "stream": "stdout",
       "text": [
        "\n",
        "Lamda1:1.00 Lamda2:1.00 Mean Accuracy:0.83%"
       ]
      },
      {
       "output_type": "stream",
       "stream": "stdout",
       "text": [
        "\n",
        "Lamda1:1.00 Lamda2:1.10 Mean Accuracy:0.83%"
       ]
      },
      {
       "output_type": "stream",
       "stream": "stdout",
       "text": [
        "\n",
        "Lamda1:1.00 Lamda2:1.20 Mean Accuracy:0.83%"
       ]
      },
      {
       "output_type": "stream",
       "stream": "stdout",
       "text": [
        "\n",
        "Lamda1:1.00 Lamda2:1.30 Mean Accuracy:0.79%"
       ]
      },
      {
       "output_type": "stream",
       "stream": "stdout",
       "text": [
        "\n",
        "Lamda1:1.00 Lamda2:1.40 Mean Accuracy:0.83%"
       ]
      },
      {
       "output_type": "stream",
       "stream": "stdout",
       "text": [
        "\n",
        "Lamda1:1.00 Lamda2:1.50 Mean Accuracy:0.84%"
       ]
      },
      {
       "output_type": "stream",
       "stream": "stdout",
       "text": [
        "\n",
        "Lamda1:1.00 Lamda2:1.60 Mean Accuracy:0.84%"
       ]
      },
      {
       "output_type": "stream",
       "stream": "stdout",
       "text": [
        "\n",
        "Lamda1:1.00 Lamda2:1.70 Mean Accuracy:0.83%"
       ]
      },
      {
       "output_type": "stream",
       "stream": "stdout",
       "text": [
        "\n",
        "Lamda1:1.00 Lamda2:1.80 Mean Accuracy:0.84%"
       ]
      },
      {
       "output_type": "stream",
       "stream": "stdout",
       "text": [
        "\n",
        "Lamda1:1.00 Lamda2:1.90 Mean Accuracy:0.84%"
       ]
      },
      {
       "output_type": "stream",
       "stream": "stdout",
       "text": [
        "\n",
        "Lamda1:1.10 Lamda2:0.00 Mean Accuracy:0.87%"
       ]
      },
      {
       "output_type": "stream",
       "stream": "stdout",
       "text": [
        "\n",
        "Lamda1:1.10 Lamda2:0.10 Mean Accuracy:0.87%"
       ]
      },
      {
       "output_type": "stream",
       "stream": "stdout",
       "text": [
        "\n",
        "Lamda1:1.10 Lamda2:0.20 Mean Accuracy:0.86%"
       ]
      },
      {
       "output_type": "stream",
       "stream": "stdout",
       "text": [
        "\n",
        "Lamda1:1.10 Lamda2:0.30 Mean Accuracy:0.86%"
       ]
      },
      {
       "output_type": "stream",
       "stream": "stdout",
       "text": [
        "\n",
        "Lamda1:1.10 Lamda2:0.40 Mean Accuracy:0.86%"
       ]
      },
      {
       "output_type": "stream",
       "stream": "stdout",
       "text": [
        "\n",
        "Lamda1:1.10 Lamda2:0.50 Mean Accuracy:0.86%"
       ]
      },
      {
       "output_type": "stream",
       "stream": "stdout",
       "text": [
        "\n",
        "Lamda1:1.10 Lamda2:0.60 Mean Accuracy:0.86%"
       ]
      },
      {
       "output_type": "stream",
       "stream": "stdout",
       "text": [
        "\n",
        "Lamda1:1.10 Lamda2:0.70 Mean Accuracy:0.86%"
       ]
      },
      {
       "output_type": "stream",
       "stream": "stdout",
       "text": [
        "\n",
        "Lamda1:1.10 Lamda2:0.80 Mean Accuracy:0.87%"
       ]
      },
      {
       "output_type": "stream",
       "stream": "stdout",
       "text": [
        "\n",
        "Lamda1:1.10 Lamda2:0.90 Mean Accuracy:0.88%"
       ]
      },
      {
       "output_type": "stream",
       "stream": "stdout",
       "text": [
        "\n",
        "Lamda1:1.10 Lamda2:1.00 Mean Accuracy:0.84%"
       ]
      },
      {
       "output_type": "stream",
       "stream": "stdout",
       "text": [
        "\n",
        "Lamda1:1.10 Lamda2:1.10 Mean Accuracy:0.85%"
       ]
      },
      {
       "output_type": "stream",
       "stream": "stdout",
       "text": [
        "\n",
        "Lamda1:1.10 Lamda2:1.20 Mean Accuracy:0.85%"
       ]
      },
      {
       "output_type": "stream",
       "stream": "stdout",
       "text": [
        "\n",
        "Lamda1:1.10 Lamda2:1.30 Mean Accuracy:0.84%"
       ]
      },
      {
       "output_type": "stream",
       "stream": "stdout",
       "text": [
        "\n",
        "Lamda1:1.10 Lamda2:1.40 Mean Accuracy:0.84%"
       ]
      },
      {
       "output_type": "stream",
       "stream": "stdout",
       "text": [
        "\n",
        "Lamda1:1.10 Lamda2:1.50 Mean Accuracy:0.80%"
       ]
      },
      {
       "output_type": "stream",
       "stream": "stdout",
       "text": [
        "\n",
        "Lamda1:1.10 Lamda2:1.60 Mean Accuracy:0.81%"
       ]
      },
      {
       "output_type": "stream",
       "stream": "stdout",
       "text": [
        "\n",
        "Lamda1:1.10 Lamda2:1.70 Mean Accuracy:0.82%"
       ]
      },
      {
       "output_type": "stream",
       "stream": "stdout",
       "text": [
        "\n",
        "Lamda1:1.10 Lamda2:1.80 Mean Accuracy:0.81%"
       ]
      },
      {
       "output_type": "stream",
       "stream": "stdout",
       "text": [
        "\n",
        "Lamda1:1.10 Lamda2:1.90 Mean Accuracy:0.80%"
       ]
      },
      {
       "output_type": "stream",
       "stream": "stdout",
       "text": [
        "\n",
        "Lamda1:1.20 Lamda2:0.00 Mean Accuracy:0.84%"
       ]
      },
      {
       "output_type": "stream",
       "stream": "stdout",
       "text": [
        "\n",
        "Lamda1:1.20 Lamda2:0.10 Mean Accuracy:0.83%"
       ]
      },
      {
       "output_type": "stream",
       "stream": "stdout",
       "text": [
        "\n",
        "Lamda1:1.20 Lamda2:0.20 Mean Accuracy:0.84%"
       ]
      },
      {
       "output_type": "stream",
       "stream": "stdout",
       "text": [
        "\n",
        "Lamda1:1.20 Lamda2:0.30 Mean Accuracy:0.84%"
       ]
      },
      {
       "output_type": "stream",
       "stream": "stdout",
       "text": [
        "\n",
        "Lamda1:1.20 Lamda2:0.40 Mean Accuracy:0.84%"
       ]
      },
      {
       "output_type": "stream",
       "stream": "stdout",
       "text": [
        "\n",
        "Lamda1:1.20 Lamda2:0.50 Mean Accuracy:0.83%"
       ]
      },
      {
       "output_type": "stream",
       "stream": "stdout",
       "text": [
        "\n",
        "Lamda1:1.20 Lamda2:0.60 Mean Accuracy:0.83%"
       ]
      },
      {
       "output_type": "stream",
       "stream": "stdout",
       "text": [
        "\n",
        "Lamda1:1.20 Lamda2:0.70 Mean Accuracy:0.83%"
       ]
      },
      {
       "output_type": "stream",
       "stream": "stdout",
       "text": [
        "\n",
        "Lamda1:1.20 Lamda2:0.80 Mean Accuracy:0.83%"
       ]
      },
      {
       "output_type": "stream",
       "stream": "stdout",
       "text": [
        "\n",
        "Lamda1:1.20 Lamda2:0.90 Mean Accuracy:0.84%"
       ]
      },
      {
       "output_type": "stream",
       "stream": "stdout",
       "text": [
        "\n",
        "Lamda1:1.20 Lamda2:1.00 Mean Accuracy:0.84%"
       ]
      },
      {
       "output_type": "stream",
       "stream": "stdout",
       "text": [
        "\n",
        "Lamda1:1.20 Lamda2:1.10 Mean Accuracy:0.84%"
       ]
      },
      {
       "output_type": "stream",
       "stream": "stdout",
       "text": [
        "\n",
        "Lamda1:1.20 Lamda2:1.20 Mean Accuracy:0.85%"
       ]
      },
      {
       "output_type": "stream",
       "stream": "stdout",
       "text": [
        "\n",
        "Lamda1:1.20 Lamda2:1.30 Mean Accuracy:0.86%"
       ]
      },
      {
       "output_type": "stream",
       "stream": "stdout",
       "text": [
        "\n",
        "Lamda1:1.20 Lamda2:1.40 Mean Accuracy:0.85%"
       ]
      },
      {
       "output_type": "stream",
       "stream": "stdout",
       "text": [
        "\n",
        "Lamda1:1.20 Lamda2:1.50 Mean Accuracy:0.85%"
       ]
      },
      {
       "output_type": "stream",
       "stream": "stdout",
       "text": [
        "\n",
        "Lamda1:1.20 Lamda2:1.60 Mean Accuracy:0.85%"
       ]
      },
      {
       "output_type": "stream",
       "stream": "stdout",
       "text": [
        "\n",
        "Lamda1:1.20 Lamda2:1.70 Mean Accuracy:0.85%"
       ]
      },
      {
       "output_type": "stream",
       "stream": "stdout",
       "text": [
        "\n",
        "Lamda1:1.20 Lamda2:1.80 Mean Accuracy:0.86%"
       ]
      },
      {
       "output_type": "stream",
       "stream": "stdout",
       "text": [
        "\n",
        "Lamda1:1.20 Lamda2:1.90 Mean Accuracy:0.85%"
       ]
      },
      {
       "output_type": "stream",
       "stream": "stdout",
       "text": [
        "\n",
        "Lamda1:1.30 Lamda2:0.00 Mean Accuracy:0.73%"
       ]
      },
      {
       "output_type": "stream",
       "stream": "stdout",
       "text": [
        "\n",
        "Lamda1:1.30 Lamda2:0.10 Mean Accuracy:0.65%"
       ]
      },
      {
       "output_type": "stream",
       "stream": "stdout",
       "text": [
        "\n",
        "Lamda1:1.30 Lamda2:0.20 Mean Accuracy:0.65%"
       ]
      },
      {
       "output_type": "stream",
       "stream": "stdout",
       "text": [
        "\n",
        "Lamda1:1.30 Lamda2:0.30 Mean Accuracy:0.69%"
       ]
      },
      {
       "output_type": "stream",
       "stream": "stdout",
       "text": [
        "\n",
        "Lamda1:1.30 Lamda2:0.40 Mean Accuracy:0.76%"
       ]
      },
      {
       "output_type": "stream",
       "stream": "stdout",
       "text": [
        "\n",
        "Lamda1:1.30 Lamda2:0.50 Mean Accuracy:0.73%"
       ]
      },
      {
       "output_type": "stream",
       "stream": "stdout",
       "text": [
        "\n",
        "Lamda1:1.30 Lamda2:0.60 Mean Accuracy:0.69%"
       ]
      },
      {
       "output_type": "stream",
       "stream": "stdout",
       "text": [
        "\n",
        "Lamda1:1.30 Lamda2:0.70 Mean Accuracy:0.69%"
       ]
      },
      {
       "output_type": "stream",
       "stream": "stdout",
       "text": [
        "\n",
        "Lamda1:1.30 Lamda2:0.80 Mean Accuracy:0.65%"
       ]
      },
      {
       "output_type": "stream",
       "stream": "stdout",
       "text": [
        "\n",
        "Lamda1:1.30 Lamda2:0.90 Mean Accuracy:0.70%"
       ]
      },
      {
       "output_type": "stream",
       "stream": "stdout",
       "text": [
        "\n",
        "Lamda1:1.30 Lamda2:1.00 Mean Accuracy:0.71%"
       ]
      },
      {
       "output_type": "stream",
       "stream": "stdout",
       "text": [
        "\n",
        "Lamda1:1.30 Lamda2:1.10 Mean Accuracy:0.81%"
       ]
      },
      {
       "output_type": "stream",
       "stream": "stdout",
       "text": [
        "\n",
        "Lamda1:1.30 Lamda2:1.20 Mean Accuracy:0.82%"
       ]
      },
      {
       "output_type": "stream",
       "stream": "stdout",
       "text": [
        "\n",
        "Lamda1:1.30 Lamda2:1.30 Mean Accuracy:0.82%"
       ]
      },
      {
       "output_type": "stream",
       "stream": "stdout",
       "text": [
        "\n",
        "Lamda1:1.30 Lamda2:1.40 Mean Accuracy:0.83%"
       ]
      },
      {
       "output_type": "stream",
       "stream": "stdout",
       "text": [
        "\n",
        "Lamda1:1.30 Lamda2:1.50 Mean Accuracy:0.82%"
       ]
      },
      {
       "output_type": "stream",
       "stream": "stdout",
       "text": [
        "\n",
        "Lamda1:1.30 Lamda2:1.60 Mean Accuracy:0.83%"
       ]
      },
      {
       "output_type": "stream",
       "stream": "stdout",
       "text": [
        "\n",
        "Lamda1:1.30 Lamda2:1.70 Mean Accuracy:0.74%"
       ]
      },
      {
       "output_type": "stream",
       "stream": "stdout",
       "text": [
        "\n",
        "Lamda1:1.30 Lamda2:1.80 Mean Accuracy:0.74%"
       ]
      },
      {
       "output_type": "stream",
       "stream": "stdout",
       "text": [
        "\n",
        "Lamda1:1.30 Lamda2:1.90 Mean Accuracy:0.83%"
       ]
      },
      {
       "output_type": "stream",
       "stream": "stdout",
       "text": [
        "\n",
        "Lamda1:1.40 Lamda2:0.00 Mean Accuracy:0.77%"
       ]
      },
      {
       "output_type": "stream",
       "stream": "stdout",
       "text": [
        "\n",
        "Lamda1:1.40 Lamda2:0.10 Mean Accuracy:0.75%"
       ]
      },
      {
       "output_type": "stream",
       "stream": "stdout",
       "text": [
        "\n",
        "Lamda1:1.40 Lamda2:0.20 Mean Accuracy:0.75%"
       ]
      },
      {
       "output_type": "stream",
       "stream": "stdout",
       "text": [
        "\n",
        "Lamda1:1.40 Lamda2:0.30 Mean Accuracy:0.75%"
       ]
      },
      {
       "output_type": "stream",
       "stream": "stdout",
       "text": [
        "\n",
        "Lamda1:1.40 Lamda2:0.40 Mean Accuracy:0.75%"
       ]
      },
      {
       "output_type": "stream",
       "stream": "stdout",
       "text": [
        "\n",
        "Lamda1:1.40 Lamda2:0.50 Mean Accuracy:0.75%"
       ]
      },
      {
       "output_type": "stream",
       "stream": "stdout",
       "text": [
        "\n",
        "Lamda1:1.40 Lamda2:0.60 Mean Accuracy:0.75%"
       ]
      },
      {
       "output_type": "stream",
       "stream": "stdout",
       "text": [
        "\n",
        "Lamda1:1.40 Lamda2:0.70 Mean Accuracy:0.77%"
       ]
      },
      {
       "output_type": "stream",
       "stream": "stdout",
       "text": [
        "\n",
        "Lamda1:1.40 Lamda2:0.80 Mean Accuracy:0.77%"
       ]
      },
      {
       "output_type": "stream",
       "stream": "stdout",
       "text": [
        "\n",
        "Lamda1:1.40 Lamda2:0.90 Mean Accuracy:0.75%"
       ]
      },
      {
       "output_type": "stream",
       "stream": "stdout",
       "text": [
        "\n",
        "Lamda1:1.40 Lamda2:1.00 Mean Accuracy:0.75%"
       ]
      },
      {
       "output_type": "stream",
       "stream": "stdout",
       "text": [
        "\n",
        "Lamda1:1.40 Lamda2:1.10 Mean Accuracy:0.75%"
       ]
      },
      {
       "output_type": "stream",
       "stream": "stdout",
       "text": [
        "\n",
        "Lamda1:1.40 Lamda2:1.20 Mean Accuracy:0.75%"
       ]
      },
      {
       "output_type": "stream",
       "stream": "stdout",
       "text": [
        "\n",
        "Lamda1:1.40 Lamda2:1.30 Mean Accuracy:0.76%"
       ]
      },
      {
       "output_type": "stream",
       "stream": "stdout",
       "text": [
        "\n",
        "Lamda1:1.40 Lamda2:1.40 Mean Accuracy:0.77%"
       ]
      },
      {
       "output_type": "stream",
       "stream": "stdout",
       "text": [
        "\n",
        "Lamda1:1.40 Lamda2:1.50 Mean Accuracy:0.77%"
       ]
      },
      {
       "output_type": "stream",
       "stream": "stdout",
       "text": [
        "\n",
        "Lamda1:1.40 Lamda2:1.60 Mean Accuracy:0.75%"
       ]
      },
      {
       "output_type": "stream",
       "stream": "stdout",
       "text": [
        "\n",
        "Lamda1:1.40 Lamda2:1.70 Mean Accuracy:0.75%"
       ]
      },
      {
       "output_type": "stream",
       "stream": "stdout",
       "text": [
        "\n",
        "Lamda1:1.40 Lamda2:1.80 Mean Accuracy:0.75%"
       ]
      },
      {
       "output_type": "stream",
       "stream": "stdout",
       "text": [
        "\n",
        "Lamda1:1.40 Lamda2:1.90 Mean Accuracy:0.75%"
       ]
      },
      {
       "output_type": "stream",
       "stream": "stdout",
       "text": [
        "\n",
        "Lamda1:1.50 Lamda2:0.00 Mean Accuracy:0.83%"
       ]
      },
      {
       "output_type": "stream",
       "stream": "stdout",
       "text": [
        "\n",
        "Lamda1:1.50 Lamda2:0.10 Mean Accuracy:0.83%"
       ]
      },
      {
       "output_type": "stream",
       "stream": "stdout",
       "text": [
        "\n",
        "Lamda1:1.50 Lamda2:0.20 Mean Accuracy:0.83%"
       ]
      },
      {
       "output_type": "stream",
       "stream": "stdout",
       "text": [
        "\n",
        "Lamda1:1.50 Lamda2:0.30 Mean Accuracy:0.83%"
       ]
      },
      {
       "output_type": "stream",
       "stream": "stdout",
       "text": [
        "\n",
        "Lamda1:1.50 Lamda2:0.40 Mean Accuracy:0.83%"
       ]
      },
      {
       "output_type": "stream",
       "stream": "stdout",
       "text": [
        "\n",
        "Lamda1:1.50 Lamda2:0.50 Mean Accuracy:0.83%"
       ]
      },
      {
       "output_type": "stream",
       "stream": "stdout",
       "text": [
        "\n",
        "Lamda1:1.50 Lamda2:0.60 Mean Accuracy:0.83%"
       ]
      },
      {
       "output_type": "stream",
       "stream": "stdout",
       "text": [
        "\n",
        "Lamda1:1.50 Lamda2:0.70 Mean Accuracy:0.83%"
       ]
      },
      {
       "output_type": "stream",
       "stream": "stdout",
       "text": [
        "\n",
        "Lamda1:1.50 Lamda2:0.80 Mean Accuracy:0.83%"
       ]
      },
      {
       "output_type": "stream",
       "stream": "stdout",
       "text": [
        "\n",
        "Lamda1:1.50 Lamda2:0.90 Mean Accuracy:0.83%"
       ]
      },
      {
       "output_type": "stream",
       "stream": "stdout",
       "text": [
        "\n",
        "Lamda1:1.50 Lamda2:1.00 Mean Accuracy:0.83%"
       ]
      },
      {
       "output_type": "stream",
       "stream": "stdout",
       "text": [
        "\n",
        "Lamda1:1.50 Lamda2:1.10 Mean Accuracy:0.83%"
       ]
      },
      {
       "output_type": "stream",
       "stream": "stdout",
       "text": [
        "\n",
        "Lamda1:1.50 Lamda2:1.20 Mean Accuracy:0.83%"
       ]
      },
      {
       "output_type": "stream",
       "stream": "stdout",
       "text": [
        "\n",
        "Lamda1:1.50 Lamda2:1.30 Mean Accuracy:0.82%"
       ]
      },
      {
       "output_type": "stream",
       "stream": "stdout",
       "text": [
        "\n",
        "Lamda1:1.50 Lamda2:1.40 Mean Accuracy:0.82%"
       ]
      },
      {
       "output_type": "stream",
       "stream": "stdout",
       "text": [
        "\n",
        "Lamda1:1.50 Lamda2:1.50 Mean Accuracy:0.82%"
       ]
      },
      {
       "output_type": "stream",
       "stream": "stdout",
       "text": [
        "\n",
        "Lamda1:1.50 Lamda2:1.60 Mean Accuracy:0.83%"
       ]
      },
      {
       "output_type": "stream",
       "stream": "stdout",
       "text": [
        "\n",
        "Lamda1:1.50 Lamda2:1.70 Mean Accuracy:0.84%"
       ]
      },
      {
       "output_type": "stream",
       "stream": "stdout",
       "text": [
        "\n",
        "Lamda1:1.50 Lamda2:1.80 Mean Accuracy:0.83%"
       ]
      },
      {
       "output_type": "stream",
       "stream": "stdout",
       "text": [
        "\n",
        "Lamda1:1.50 Lamda2:1.90 Mean Accuracy:0.83%"
       ]
      },
      {
       "output_type": "stream",
       "stream": "stdout",
       "text": [
        "\n",
        "Lamda1:1.60 Lamda2:0.00 Mean Accuracy:0.82%"
       ]
      },
      {
       "output_type": "stream",
       "stream": "stdout",
       "text": [
        "\n",
        "Lamda1:1.60 Lamda2:0.10 Mean Accuracy:0.82%"
       ]
      },
      {
       "output_type": "stream",
       "stream": "stdout",
       "text": [
        "\n",
        "Lamda1:1.60 Lamda2:0.20 Mean Accuracy:0.82%"
       ]
      },
      {
       "output_type": "stream",
       "stream": "stdout",
       "text": [
        "\n",
        "Lamda1:1.60 Lamda2:0.30 Mean Accuracy:0.83%"
       ]
      },
      {
       "output_type": "stream",
       "stream": "stdout",
       "text": [
        "\n",
        "Lamda1:1.60 Lamda2:0.40 Mean Accuracy:0.82%"
       ]
      },
      {
       "output_type": "stream",
       "stream": "stdout",
       "text": [
        "\n",
        "Lamda1:1.60 Lamda2:0.50 Mean Accuracy:0.82%"
       ]
      },
      {
       "output_type": "stream",
       "stream": "stdout",
       "text": [
        "\n",
        "Lamda1:1.60 Lamda2:0.60 Mean Accuracy:0.82%"
       ]
      },
      {
       "output_type": "stream",
       "stream": "stdout",
       "text": [
        "\n",
        "Lamda1:1.60 Lamda2:0.70 Mean Accuracy:0.84%"
       ]
      },
      {
       "output_type": "stream",
       "stream": "stdout",
       "text": [
        "\n",
        "Lamda1:1.60 Lamda2:0.80 Mean Accuracy:0.84%"
       ]
      },
      {
       "output_type": "stream",
       "stream": "stdout",
       "text": [
        "\n",
        "Lamda1:1.60 Lamda2:0.90 Mean Accuracy:0.84%"
       ]
      },
      {
       "output_type": "stream",
       "stream": "stdout",
       "text": [
        "\n",
        "Lamda1:1.60 Lamda2:1.00 Mean Accuracy:0.82%"
       ]
      },
      {
       "output_type": "stream",
       "stream": "stdout",
       "text": [
        "\n",
        "Lamda1:1.60 Lamda2:1.10 Mean Accuracy:0.82%"
       ]
      },
      {
       "output_type": "stream",
       "stream": "stdout",
       "text": [
        "\n",
        "Lamda1:1.60 Lamda2:1.20 Mean Accuracy:0.82%"
       ]
      },
      {
       "output_type": "stream",
       "stream": "stdout",
       "text": [
        "\n",
        "Lamda1:1.60 Lamda2:1.30 Mean Accuracy:0.82%"
       ]
      },
      {
       "output_type": "stream",
       "stream": "stdout",
       "text": [
        "\n",
        "Lamda1:1.60 Lamda2:1.40 Mean Accuracy:0.82%"
       ]
      },
      {
       "output_type": "stream",
       "stream": "stdout",
       "text": [
        "\n",
        "Lamda1:1.60 Lamda2:1.50 Mean Accuracy:0.82%"
       ]
      },
      {
       "output_type": "stream",
       "stream": "stdout",
       "text": [
        "\n",
        "Lamda1:1.60 Lamda2:1.60 Mean Accuracy:0.83%"
       ]
      },
      {
       "output_type": "stream",
       "stream": "stdout",
       "text": [
        "\n",
        "Lamda1:1.60 Lamda2:1.70 Mean Accuracy:0.82%"
       ]
      },
      {
       "output_type": "stream",
       "stream": "stdout",
       "text": [
        "\n",
        "Lamda1:1.60 Lamda2:1.80 Mean Accuracy:0.82%"
       ]
      },
      {
       "output_type": "stream",
       "stream": "stdout",
       "text": [
        "\n",
        "Lamda1:1.60 Lamda2:1.90 Mean Accuracy:0.83%"
       ]
      },
      {
       "output_type": "stream",
       "stream": "stdout",
       "text": [
        "\n",
        "Lamda1:1.70 Lamda2:0.00 Mean Accuracy:0.82%"
       ]
      },
      {
       "output_type": "stream",
       "stream": "stdout",
       "text": [
        "\n",
        "Lamda1:1.70 Lamda2:0.10 Mean Accuracy:0.81%"
       ]
      },
      {
       "output_type": "stream",
       "stream": "stdout",
       "text": [
        "\n",
        "Lamda1:1.70 Lamda2:0.20 Mean Accuracy:0.83%"
       ]
      },
      {
       "output_type": "stream",
       "stream": "stdout",
       "text": [
        "\n",
        "Lamda1:1.70 Lamda2:0.30 Mean Accuracy:0.82%"
       ]
      },
      {
       "output_type": "stream",
       "stream": "stdout",
       "text": [
        "\n",
        "Lamda1:1.70 Lamda2:0.40 Mean Accuracy:0.82%"
       ]
      },
      {
       "output_type": "stream",
       "stream": "stdout",
       "text": [
        "\n",
        "Lamda1:1.70 Lamda2:0.50 Mean Accuracy:0.82%"
       ]
      },
      {
       "output_type": "stream",
       "stream": "stdout",
       "text": [
        "\n",
        "Lamda1:1.70 Lamda2:0.60 Mean Accuracy:0.82%"
       ]
      },
      {
       "output_type": "stream",
       "stream": "stdout",
       "text": [
        "\n",
        "Lamda1:1.70 Lamda2:0.70 Mean Accuracy:0.82%"
       ]
      },
      {
       "output_type": "stream",
       "stream": "stdout",
       "text": [
        "\n",
        "Lamda1:1.70 Lamda2:0.80 Mean Accuracy:0.80%"
       ]
      },
      {
       "output_type": "stream",
       "stream": "stdout",
       "text": [
        "\n",
        "Lamda1:1.70 Lamda2:0.90 Mean Accuracy:0.84%"
       ]
      },
      {
       "output_type": "stream",
       "stream": "stdout",
       "text": [
        "\n",
        "Lamda1:1.70 Lamda2:1.00 Mean Accuracy:0.81%"
       ]
      },
      {
       "output_type": "stream",
       "stream": "stdout",
       "text": [
        "\n",
        "Lamda1:1.70 Lamda2:1.10 Mean Accuracy:0.81%"
       ]
      },
      {
       "output_type": "stream",
       "stream": "stdout",
       "text": [
        "\n",
        "Lamda1:1.70 Lamda2:1.20 Mean Accuracy:0.80%"
       ]
      },
      {
       "output_type": "stream",
       "stream": "stdout",
       "text": [
        "\n",
        "Lamda1:1.70 Lamda2:1.30 Mean Accuracy:0.82%"
       ]
      },
      {
       "output_type": "stream",
       "stream": "stdout",
       "text": [
        "\n",
        "Lamda1:1.70 Lamda2:1.40 Mean Accuracy:0.82%"
       ]
      },
      {
       "output_type": "stream",
       "stream": "stdout",
       "text": [
        "\n",
        "Lamda1:1.70 Lamda2:1.50 Mean Accuracy:0.80%"
       ]
      },
      {
       "output_type": "stream",
       "stream": "stdout",
       "text": [
        "\n",
        "Lamda1:1.70 Lamda2:1.60 Mean Accuracy:0.77%"
       ]
      },
      {
       "output_type": "stream",
       "stream": "stdout",
       "text": [
        "\n",
        "Lamda1:1.70 Lamda2:1.70 Mean Accuracy:0.80%"
       ]
      },
      {
       "output_type": "stream",
       "stream": "stdout",
       "text": [
        "\n",
        "Lamda1:1.70 Lamda2:1.80 Mean Accuracy:0.80%"
       ]
      },
      {
       "output_type": "stream",
       "stream": "stdout",
       "text": [
        "\n",
        "Lamda1:1.70 Lamda2:1.90 Mean Accuracy:0.78%"
       ]
      },
      {
       "output_type": "stream",
       "stream": "stdout",
       "text": [
        "\n",
        "Lamda1:1.80 Lamda2:0.00 Mean Accuracy:0.82%"
       ]
      },
      {
       "output_type": "stream",
       "stream": "stdout",
       "text": [
        "\n",
        "Lamda1:1.80 Lamda2:0.10 Mean Accuracy:0.81%"
       ]
      },
      {
       "output_type": "stream",
       "stream": "stdout",
       "text": [
        "\n",
        "Lamda1:1.80 Lamda2:0.20 Mean Accuracy:0.77%"
       ]
      },
      {
       "output_type": "stream",
       "stream": "stdout",
       "text": [
        "\n",
        "Lamda1:1.80 Lamda2:0.30 Mean Accuracy:0.77%"
       ]
      },
      {
       "output_type": "stream",
       "stream": "stdout",
       "text": [
        "\n",
        "Lamda1:1.80 Lamda2:0.40 Mean Accuracy:0.81%"
       ]
      },
      {
       "output_type": "stream",
       "stream": "stdout",
       "text": [
        "\n",
        "Lamda1:1.80 Lamda2:0.50 Mean Accuracy:0.81%"
       ]
      },
      {
       "output_type": "stream",
       "stream": "stdout",
       "text": [
        "\n",
        "Lamda1:1.80 Lamda2:0.60 Mean Accuracy:0.77%"
       ]
      },
      {
       "output_type": "stream",
       "stream": "stdout",
       "text": [
        "\n",
        "Lamda1:1.80 Lamda2:0.70 Mean Accuracy:0.79%"
       ]
      },
      {
       "output_type": "stream",
       "stream": "stdout",
       "text": [
        "\n",
        "Lamda1:1.80 Lamda2:0.80 Mean Accuracy:0.79%"
       ]
      },
      {
       "output_type": "stream",
       "stream": "stdout",
       "text": [
        "\n",
        "Lamda1:1.80 Lamda2:0.90 Mean Accuracy:0.83%"
       ]
      },
      {
       "output_type": "stream",
       "stream": "stdout",
       "text": [
        "\n",
        "Lamda1:1.80 Lamda2:1.00 Mean Accuracy:0.81%"
       ]
      },
      {
       "output_type": "stream",
       "stream": "stdout",
       "text": [
        "\n",
        "Lamda1:1.80 Lamda2:1.10 Mean Accuracy:0.80%"
       ]
      },
      {
       "output_type": "stream",
       "stream": "stdout",
       "text": [
        "\n",
        "Lamda1:1.80 Lamda2:1.20 Mean Accuracy:0.80%"
       ]
      },
      {
       "output_type": "stream",
       "stream": "stdout",
       "text": [
        "\n",
        "Lamda1:1.80 Lamda2:1.30 Mean Accuracy:0.79%"
       ]
      },
      {
       "output_type": "stream",
       "stream": "stdout",
       "text": [
        "\n",
        "Lamda1:1.80 Lamda2:1.40 Mean Accuracy:0.79%"
       ]
      },
      {
       "output_type": "stream",
       "stream": "stdout",
       "text": [
        "\n",
        "Lamda1:1.80 Lamda2:1.50 Mean Accuracy:0.79%"
       ]
      },
      {
       "output_type": "stream",
       "stream": "stdout",
       "text": [
        "\n",
        "Lamda1:1.80 Lamda2:1.60 Mean Accuracy:0.78%"
       ]
      },
      {
       "output_type": "stream",
       "stream": "stdout",
       "text": [
        "\n",
        "Lamda1:1.80 Lamda2:1.70 Mean Accuracy:0.78%"
       ]
      },
      {
       "output_type": "stream",
       "stream": "stdout",
       "text": [
        "\n",
        "Lamda1:1.80 Lamda2:1.80 Mean Accuracy:0.82%"
       ]
      },
      {
       "output_type": "stream",
       "stream": "stdout",
       "text": [
        "\n",
        "Lamda1:1.80 Lamda2:1.90 Mean Accuracy:0.81%"
       ]
      },
      {
       "output_type": "stream",
       "stream": "stdout",
       "text": [
        "\n",
        "Lamda1:1.90 Lamda2:0.00 Mean Accuracy:0.77%"
       ]
      },
      {
       "output_type": "stream",
       "stream": "stdout",
       "text": [
        "\n",
        "Lamda1:1.90 Lamda2:0.10 Mean Accuracy:0.80%"
       ]
      },
      {
       "output_type": "stream",
       "stream": "stdout",
       "text": [
        "\n",
        "Lamda1:1.90 Lamda2:0.20 Mean Accuracy:0.81%"
       ]
      },
      {
       "output_type": "stream",
       "stream": "stdout",
       "text": [
        "\n",
        "Lamda1:1.90 Lamda2:0.30 Mean Accuracy:0.77%"
       ]
      },
      {
       "output_type": "stream",
       "stream": "stdout",
       "text": [
        "\n",
        "Lamda1:1.90 Lamda2:0.40 Mean Accuracy:0.77%"
       ]
      },
      {
       "output_type": "stream",
       "stream": "stdout",
       "text": [
        "\n",
        "Lamda1:1.90 Lamda2:0.50 Mean Accuracy:0.79%"
       ]
      },
      {
       "output_type": "stream",
       "stream": "stdout",
       "text": [
        "\n",
        "Lamda1:1.90 Lamda2:0.60 Mean Accuracy:0.83%"
       ]
      },
      {
       "output_type": "stream",
       "stream": "stdout",
       "text": [
        "\n",
        "Lamda1:1.90 Lamda2:0.70 Mean Accuracy:0.83%"
       ]
      },
      {
       "output_type": "stream",
       "stream": "stdout",
       "text": [
        "\n",
        "Lamda1:1.90 Lamda2:0.80 Mean Accuracy:0.80%"
       ]
      },
      {
       "output_type": "stream",
       "stream": "stdout",
       "text": [
        "\n",
        "Lamda1:1.90 Lamda2:0.90 Mean Accuracy:0.77%"
       ]
      },
      {
       "output_type": "stream",
       "stream": "stdout",
       "text": [
        "\n",
        "Lamda1:1.90 Lamda2:1.00 Mean Accuracy:0.77%"
       ]
      },
      {
       "output_type": "stream",
       "stream": "stdout",
       "text": [
        "\n",
        "Lamda1:1.90 Lamda2:1.10 Mean Accuracy:0.79%"
       ]
      },
      {
       "output_type": "stream",
       "stream": "stdout",
       "text": [
        "\n",
        "Lamda1:1.90 Lamda2:1.20 Mean Accuracy:0.79%"
       ]
      },
      {
       "output_type": "stream",
       "stream": "stdout",
       "text": [
        "\n",
        "Lamda1:1.90 Lamda2:1.30 Mean Accuracy:0.79%"
       ]
      },
      {
       "output_type": "stream",
       "stream": "stdout",
       "text": [
        "\n",
        "Lamda1:1.90 Lamda2:1.40 Mean Accuracy:0.81%"
       ]
      },
      {
       "output_type": "stream",
       "stream": "stdout",
       "text": [
        "\n",
        "Lamda1:1.90 Lamda2:1.50 Mean Accuracy:0.81%"
       ]
      },
      {
       "output_type": "stream",
       "stream": "stdout",
       "text": [
        "\n",
        "Lamda1:1.90 Lamda2:1.60 Mean Accuracy:0.83%"
       ]
      },
      {
       "output_type": "stream",
       "stream": "stdout",
       "text": [
        "\n",
        "Lamda1:1.90 Lamda2:1.70 Mean Accuracy:0.84%"
       ]
      },
      {
       "output_type": "stream",
       "stream": "stdout",
       "text": [
        "\n",
        "Lamda1:1.90 Lamda2:1.80 Mean Accuracy:0.81%"
       ]
      },
      {
       "output_type": "stream",
       "stream": "stdout",
       "text": [
        "\n",
        "Lamda1:1.90 Lamda2:1.90 Mean Accuracy:0.79%"
       ]
      },
      {
       "output_type": "stream",
       "stream": "stdout",
       "text": [
        "\n"
       ]
      },
      {
       "metadata": {},
       "output_type": "display_data",
       "png": "[encoded data removed]",
       "text": [
        "<matplotlib.figure.Figure at 0x8f7e190>"
       ]
      }
     ],
     "prompt_number": 10
    },
    {
     "cell_type": "heading",
     "level": 1,
     "metadata": {},
     "source": [
      "5. Etude du mod\u00e8le Lasoo"
     ]
    },
    {
     "cell_type": "markdown",
     "metadata": {},
     "source": [
      "la fonction d'optimisation utilis\u00e9 es la suivante :\n",
      "    (1 / (2 * n_samples)) * ||y - Xw||^2_2 + alpha * ||w||_1\n",
      "\n",
      "L'estimation Lasso r\u00e9sout ainsi la minimisation de la fonction des moindres carr\u00e9s avec \"Alpha*|| w || _1\"  ajout\u00e9, o\u00f9 alpha  est une constante et || W || _1  est la norme L1 du vecteur de param\u00e8tre. \n",
      "\n",
      "le mod\u00e8le Lasso optimise cette fonction , il es entrain\u00e9 avec la norme L1(aucune p\u00e9nalit\u00e9 de L2). \n"
     ]
    },
    {
     "cell_type": "code",
     "collapsed": false,
     "input": [
      "#Implementation du modele Lasso \n",
      "%matplotlib inline\n",
      "from __future__ import division \n",
      "import numpy as np\n",
      "import sys\n",
      "from sklearn import datasets\n",
      "from sklearn import metrics\n",
      "from sklearn import cross_validation\n",
      "from sklearn.base import BaseEstimator,ClassifierMixin\n",
      "from sklearn.grid_search import GridSearchCV\n",
      "from sklearn import linear_model\n",
      "import matplotlib.pyplot as plt\n",
      "\n",
      "class Lasso_model(linear_model.Lasso):    \n",
      "    def predict(self,X):\n",
      "        pred= super(Lasso_model, self).predict(X)\n",
      "        pred = np.sign(pred.reshape(pred.shape[0] , 1))\n",
      "        return(pred)\n",
      "        \n",
      " \n",
      "\n",
      "breast_cancer_scale = datasets.fetch_mldata('breast-cancer_scale')\n",
      "X=breast_cancer_scale.data\n",
      "y=breast_cancer_scale.target\n",
      "y[np.where(y == 4)] = 1.0\n",
      "y[np.where(y == 2)] = -1.0\n",
      "X = np.array(X)\n",
      "y = y.reshape(y.shape[0] , 1)\n",
      "\n",
      "alpha=0.1\n",
      "model = Lasso_model(alpha)\n",
      "xtrain, xtest, ytrain, ytest = cross_validation.train_test_split(X, y, test_size=0.2, random_state=0)\n",
      "model.fit(xtrain , ytrain)    \n",
      "pred = model.predict(xtest)\n",
      "acc=metrics.accuracy_score(ytest, pred)\n",
      "print('alpha:{0:.2f} Accuracy:{1:.2f}%'.format(alpha,acc))\n",
      "print model.coef_\n",
      "\n"
     ],
     "language": "python",
     "metadata": {},
     "outputs": [
      {
       "output_type": "stream",
       "stream": "stdout",
       "text": [
        "alpha:0.10 Accuracy:0.94%\n",
        "[-0.          0.08920918  0.341893    0.05575758  0.          0.\n",
        "  0.46068981  0.          0.16394762  0.        ]\n"
       ]
      }
     ],
     "prompt_number": 108
    },
    {
     "cell_type": "code",
     "collapsed": false,
     "input": [
      "#Evaluer les performances en fonction de alpha\n",
      "alpha_values=[0.1, 0.2, 0.3, 0.4, 0.5, 0.6, 0.7, 0.8, 0.9]\n",
      "acc=np.zeros(len(alpha_values))\n",
      "\n",
      "for i in xrange(0,len(alpha_values)):\n",
      "    model = Lasso_model(alpha_values[i])\n",
      "    scores = cross_validation.cross_val_score(model, X, y.reshape(len(y)), cv=5, scoring='accuracy')\n",
      "    acc[i]=np.mean(scores)  \n",
      "    print('alpha:{0:.2f} Mean Accuracy:{1:.2f}%'.format(alpha_values[i],acc[i]))\n",
      "\n",
      "plt.plot(alpha_values,acc)\n",
      "plt.title('Performances en  en fonction de la sparsite (Model Lasso)')\n",
      "plt.xlabel('alpha')\n",
      "plt.ylabel('Accuracy')\n",
      "plt.show()"
     ],
     "language": "python",
     "metadata": {},
     "outputs": [
      {
       "output_type": "stream",
       "stream": "stdout",
       "text": [
        "alpha:0.10 Mean Accuracy:0.95%\n",
        "alpha:0.20 Mean Accuracy:0.92%\n",
        "alpha:0.30 Mean Accuracy:0.89%\n",
        "alpha:0.40 Mean Accuracy:0.86%\n",
        "alpha:0.50 Mean Accuracy:0.70%\n",
        "alpha:0.60 Mean Accuracy:0.65%\n",
        "alpha:0.70 Mean Accuracy:0.65%\n",
        "alpha:0.80 Mean Accuracy:0.65%"
       ]
      },
      {
       "output_type": "stream",
       "stream": "stdout",
       "text": [
        "\n",
        "alpha:0.90 Mean Accuracy:0.65%\n"
       ]
      },
      {
       "metadata": {},
       "output_type": "display_data",
       "png": "[encoded data removed]",
       "text": [
        "<matplotlib.figure.Figure at 0x13c9bac8>"
       ]
      }
     ],
     "prompt_number": 55
    }
   ],
   "metadata": {}
  }
 ]
}