{
 "metadata": {
  "kernelspec": {
   "display_name": "Python 2",
   "language": "python",
   "name": "python2"
  },
  "language_info": {
   "codemirror_mode": {
    "name": "ipython",
    "version": 2
   },
   "file_extension": ".py",
   "mimetype": "text/x-python",
   "name": "python",
   "nbconvert_exporter": "python",
   "pygments_lexer": "ipython2",
   "version": "2.7.9"
  },
  "name": "",
  "signature": "sha256:e7aff12da509932f8583eae899571aca85fa1101f53c97a1b200802dc7bcadd0"
 },
 "nbformat": 3,
 "nbformat_minor": 0,
 "worksheets": [
  {
   "cells": [
    {
     "cell_type": "heading",
     "level": 1,
     "metadata": {},
     "source": [
      "TME1 - FDMS - Regularisation L1"
     ]
    },
    {
     "cell_type": "code",
     "collapsed": false,
     "input": [
      "#Chargement des donn\u00e9es\n",
      "%matplotlib inline\n",
      "from __future__ import division \n",
      "import numpy as np\n",
      "from sklearn import datasets\n",
      "from sklearn import metrics\n",
      "from sklearn import cross_validation\n",
      "from sklearn.base import BaseEstimator,ClassifierMixin\n",
      "from sklearn.grid_search import GridSearchCV\n",
      "\n",
      "import matplotlib.pyplot as plt\n",
      "\n",
      "\n",
      "class regularisationL1(BaseEstimator,ClassifierMixin):\n",
      "    \n",
      "    def __init__(self,dim,lamda=0 , eps=0.01, maxiter=200):\n",
      "        self.maxiter= maxiter\n",
      "        self.dim = dim\n",
      "        self.w = np.random.rand(1,dim)\n",
      "        self.lamda = lamda\n",
      "        self.eps = eps\n",
      "        \n",
      "    def MSE(self,X,Y):\n",
      "        return np.mean((np.dot(X , self.w.T) - Y)**2)/2.0 + (self.lamda*np.linalg.norm(self.w))\n",
      "    \n",
      "    def grad(self, X, Y):\n",
      "        #return np.dot((Y - np.dot(X, self.w.T)).T,X)\n",
      "        return np.dot(((np.dot(X , self.w.T) - Y)).T , X) / len(X)\n",
      "   \n",
      "    def fit(self, X,Y):\n",
      "        \n",
      "        n = X.shape[1]\n",
      "        \n",
      "        self.log_grad = np.zeros((self.maxiter , self.dim))\n",
      "        self.log_cout = np.zeros((self.maxiter , 1))\n",
      "        \n",
      "        self.log_grad[0] = self.w\n",
      "        self.log_cout[0] = self.MSE(X , Y)\n",
      "        \n",
      "        for it in xrange(1,self.maxiter):\n",
      "            for i in xrange(1,n):\n",
      "                idx = np.random.randint(n)\n",
      "                x = X[idx].reshape(1 , self.dim)\n",
      "                y = Y[idx].reshape(1 ,1)\n",
      "                self.w = self.w - self.eps*self.grad(x ,y) \n",
      "                self.w = self.w - self.eps*self.lamda*np.sign(self.w)  #De temps en temps car la mise \u00e0 jour de w est lente\n",
      "                self.log_grad[it] = self.w\n",
      " \n",
      "                #Verification du signe du grandient\n",
      "                temp = np.sign(self.log_grad[it-1] * self.log_grad[it])\n",
      "                ind = np.where(temp == -1)[0]\n",
      "                self.w[0][ind] = 0\n",
      "                \n",
      "            self.log_cout[it]=self.MSE(X,Y)\n",
      "            \n",
      "        return self.log_cout\n",
      "\n",
      "        \n",
      "    def predict(self, X):\n",
      "        pred = np.dot(X , self.w.T)\n",
      "        pred[np.where(pred > 0)] = 1\n",
      "        pred[np.where(pred <= 0)] = -1\n",
      "        return pred\n",
      "    \n",
      "    def accuracy2(self, pred , Y):\n",
      "        acc = pred - Y\n",
      "        return 100.0*len(np.where(acc == 0)[0])/len(pred)  \n",
      "    \n",
      "    \n",
      "breast_cancer_scale = datasets.fetch_mldata('breast-cancer_scale')\n",
      "X=breast_cancer_scale.data\n",
      "y=breast_cancer_scale.target\n",
      "y[np.where(y == 4)] = 1\n",
      "y[np.where(y == 2)] = -1\n",
      "X = np.array(X)\n",
      "y = y.reshape(y.shape[0] , 1)\n",
      "\n",
      "xtrain, xtest, ytrain, ytest = cross_validation.train_test_split(X, y, test_size=0.2, random_state=0)\n",
      "lamda=0.5\n",
      "model = regularisationL1(X.shape[1],lamda)\n",
      "cout=model.fit(xtrain , ytrain)\n",
      "pred = model.predict(xtest)\n",
      "\n",
      "acc = model.accuracy2(pred,ytest)\n",
      "\n",
      "plt.plot(np.linspace(0,model.maxiter,model.maxiter),cout.reshape(model.maxiter,1))\n",
      "plt.show()"
     ],
     "language": "python",
     "metadata": {},
     "outputs": [
      {
       "output_type": "stream",
       "stream": "stdout",
       "text": [
        "Accuracy:93.43%\n",
        "Used features: 9/10\n"
       ]
      },
      {
       "metadata": {},
       "output_type": "display_data",
       "png": "[encoded data removed]",
       "text": [
        "<matplotlib.figure.Figure at 0xc01b210>"
       ]
      }
     ],
     "prompt_number": 24
    },
    {
     "cell_type": "code",
     "collapsed": false,
     "input": [
      "scores = cross_validation.cross_val_score(model, X, y.reshape(len(y)), cv=5\n",
      ",scoring=\"accuracy\")\n",
      "print np.mean(scores)"
     ],
     "language": "python",
     "metadata": {},
     "outputs": [
      {
       "output_type": "stream",
       "stream": "stdout",
       "text": [
        "0.732435793458\n"
       ]
      }
     ],
     "prompt_number": 22
    },
    {
     "cell_type": "code",
     "collapsed": false,
     "input": [
      "parameter_grid = {\n",
      "    'lamda': [0.05,0.1, 0.2, 0.3, 0.4, 0.5, 0.6]\n",
      "}\n",
      "\n",
      "grid_search = GridSearchCV(model, parameter_grid,\n",
      "                            cv=5, verbose=3)\n",
      "\n",
      "grid_search.fit(xtest, ytest.reshape(len(ytest)))"
     ],
     "language": "python",
     "metadata": {},
     "outputs": [
      {
       "output_type": "stream",
       "stream": "stdout",
       "text": [
        "Fitting 5 folds for each of 7 candidates, totalling 35 fits\n",
        "[CV] lamda=0.05 ......................................................\n",
        "[CV] ............................. lamda=0.05, score=0.957143 -   1.1s"
       ]
      },
      {
       "output_type": "stream",
       "stream": "stdout",
       "text": [
        "\n",
        "[CV] lamda=0.05 ......................................................\n",
        "[CV] ............................. lamda=0.05, score=0.985294 -   1.1s"
       ]
      },
      {
       "output_type": "stream",
       "stream": "stdout",
       "text": [
        "\n",
        "[CV] lamda=0.05 ......................................................\n",
        "[CV] ............................. lamda=0.05, score=0.970588 -   1.1s"
       ]
      },
      {
       "output_type": "stream",
       "stream": "stdout",
       "text": [
        "\n",
        "[CV] lamda=0.05 ......................................................\n",
        "[CV] ............................. lamda=0.05, score=0.970588 -   1.1s"
       ]
      },
      {
       "output_type": "stream",
       "stream": "stdout",
       "text": [
        "\n",
        "[CV] lamda=0.05 ......................................................\n",
        "[CV] ............................. lamda=0.05, score=0.985294 -   1.1s"
       ]
      },
      {
       "output_type": "stream",
       "stream": "stdout",
       "text": [
        "\n",
        "[CV] lamda=0.1 .......................................................\n",
        "[CV] .............................. lamda=0.1, score=0.942857 -   1.1s"
       ]
      },
      {
       "output_type": "stream",
       "stream": "stdout",
       "text": [
        "\n",
        "[CV] lamda=0.1 .......................................................\n",
        "[CV] .............................. lamda=0.1, score=0.985294 -   1.1s"
       ]
      },
      {
       "output_type": "stream",
       "stream": "stdout",
       "text": [
        "\n",
        "[CV] lamda=0.1 .......................................................\n",
        "[CV] .............................. lamda=0.1, score=0.970588 -   1.1s"
       ]
      },
      {
       "output_type": "stream",
       "stream": "stdout",
       "text": [
        "\n",
        "[CV] lamda=0.1 .......................................................\n",
        "[CV] .............................. lamda=0.1, score=0.970588 -   1.1s"
       ]
      },
      {
       "output_type": "stream",
       "stream": "stdout",
       "text": [
        "\n",
        "[CV] lamda=0.1 .......................................................\n",
        "[CV] .............................. lamda=0.1, score=0.985294 -   1.1s"
       ]
      },
      {
       "output_type": "stream",
       "stream": "stdout",
       "text": [
        "\n",
        "[CV] lamda=0.2 .......................................................\n",
        "[CV] .............................. lamda=0.2, score=0.928571 -   1.1s"
       ]
      },
      {
       "output_type": "stream",
       "stream": "stdout",
       "text": [
        "\n",
        "[CV] lamda=0.2 .......................................................\n",
        "[CV] .............................. lamda=0.2, score=0.955882 -   1.1s"
       ]
      },
      {
       "output_type": "stream",
       "stream": "stdout",
       "text": [
        "\n",
        "[CV] lamda=0.2 .......................................................\n",
        "[CV] .............................. lamda=0.2, score=0.955882 -   1.1s"
       ]
      },
      {
       "output_type": "stream",
       "stream": "stdout",
       "text": [
        "\n",
        "[CV] lamda=0.2 .......................................................\n",
        "[CV] .............................. lamda=0.2, score=0.955882 -   1.1s"
       ]
      },
      {
       "output_type": "stream",
       "stream": "stdout",
       "text": [
        "\n",
        "[CV] lamda=0.2 .......................................................\n",
        "[CV] .............................. lamda=0.2, score=0.985294 -   1.1s"
       ]
      },
      {
       "output_type": "stream",
       "stream": "stdout",
       "text": [
        "\n",
        "[CV] lamda=0.3 .......................................................\n",
        "[CV] .............................. lamda=0.3, score=0.900000 -   1.2s"
       ]
      },
      {
       "output_type": "stream",
       "stream": "stdout",
       "text": [
        "\n",
        "[CV] lamda=0.3 .......................................................\n",
        "[CV] .............................. lamda=0.3, score=0.970588 -   1.2s"
       ]
      },
      {
       "output_type": "stream",
       "stream": "stdout",
       "text": [
        "\n",
        "[CV] lamda=0.3 .......................................................\n",
        "[CV] .............................. lamda=0.3, score=0.955882 -   1.1s"
       ]
      },
      {
       "output_type": "stream",
       "stream": "stdout",
       "text": [
        "\n",
        "[CV] lamda=0.3 .......................................................\n",
        "[CV] .............................. lamda=0.3, score=0.955882 -   1.1s"
       ]
      },
      {
       "output_type": "stream",
       "stream": "stdout",
       "text": [
        "\n",
        "[CV] lamda=0.3 .......................................................\n",
        "[CV] .............................. lamda=0.3, score=0.985294 -   1.1s"
       ]
      },
      {
       "output_type": "stream",
       "stream": "stdout",
       "text": [
        "\n",
        "[CV] lamda=0.4 .......................................................\n",
        "[CV] .............................. lamda=0.4, score=0.928571 -   1.2s"
       ]
      },
      {
       "output_type": "stream",
       "stream": "stdout",
       "text": [
        "\n",
        "[CV] lamda=0.4 .......................................................\n",
        "[CV] .............................. lamda=0.4, score=0.955882 -   1.2s"
       ]
      },
      {
       "output_type": "stream",
       "stream": "stdout",
       "text": [
        "\n",
        "[CV] lamda=0.4 .......................................................\n",
        "[CV] .............................. lamda=0.4, score=0.955882 -   1.1s"
       ]
      },
      {
       "output_type": "stream",
       "stream": "stdout",
       "text": [
        "\n",
        "[CV] lamda=0.4 .......................................................\n",
        "[CV] .............................. lamda=0.4, score=0.941176 -   1.2s"
       ]
      },
      {
       "output_type": "stream",
       "stream": "stdout",
       "text": [
        "\n",
        "[CV] lamda=0.4 .......................................................\n",
        "[CV] .............................. lamda=0.4, score=0.970588 -   1.1s"
       ]
      },
      {
       "output_type": "stream",
       "stream": "stdout",
       "text": [
        "\n",
        "[CV] lamda=0.5 .......................................................\n",
        "[CV] .............................. lamda=0.5, score=0.928571 -   1.1s"
       ]
      },
      {
       "output_type": "stream",
       "stream": "stdout",
       "text": [
        "\n",
        "[CV] lamda=0.5 .......................................................\n",
        "[CV] .............................. lamda=0.5, score=0.970588 -   1.1s"
       ]
      },
      {
       "output_type": "stream",
       "stream": "stdout",
       "text": [
        "\n",
        "[CV] lamda=0.5 .......................................................\n",
        "[CV] .............................. lamda=0.5, score=0.926471 -   1.1s"
       ]
      },
      {
       "output_type": "stream",
       "stream": "stdout",
       "text": [
        "\n",
        "[CV] lamda=0.5 .......................................................\n",
        "[CV] .............................. lamda=0.5, score=0.941176 -   1.1s"
       ]
      },
      {
       "output_type": "stream",
       "stream": "stdout",
       "text": [
        "\n",
        "[CV] lamda=0.5 .......................................................\n",
        "[CV] .............................. lamda=0.5, score=1.000000 -   1.1s"
       ]
      },
      {
       "output_type": "stream",
       "stream": "stdout",
       "text": [
        "\n",
        "[CV] lamda=0.6 .......................................................\n",
        "[CV] .............................. lamda=0.6, score=0.942857 -   1.1s"
       ]
      },
      {
       "output_type": "stream",
       "stream": "stdout",
       "text": [
        "\n",
        "[CV] lamda=0.6 .......................................................\n",
        "[CV] .............................. lamda=0.6, score=0.867647 -   1.1s"
       ]
      },
      {
       "output_type": "stream",
       "stream": "stdout",
       "text": [
        "\n",
        "[CV] lamda=0.6 .......................................................\n",
        "[CV] .............................. lamda=0.6, score=0.882353 -   1.1s"
       ]
      },
      {
       "output_type": "stream",
       "stream": "stdout",
       "text": [
        "\n",
        "[CV] lamda=0.6 .......................................................\n",
        "[CV] .............................. lamda=0.6, score=0.955882 -   1.1s"
       ]
      },
      {
       "output_type": "stream",
       "stream": "stdout",
       "text": [
        "\n",
        "[CV] lamda=0.6 .......................................................\n",
        "[CV] .............................. lamda=0.6, score=0.970588 -   1.1s"
       ]
      },
      {
       "output_type": "stream",
       "stream": "stderr",
       "text": [
        "[Parallel(n_jobs=1)]: Done  31 tasks       | elapsed:   37.1s\n",
        "[Parallel(n_jobs=1)]: Done  35 out of  35 | elapsed:   41.9s finished\n"
       ]
      },
      {
       "output_type": "stream",
       "stream": "stdout",
       "text": [
        "\n"
       ]
      },
      {
       "metadata": {},
       "output_type": "pyout",
       "prompt_number": 9,
       "text": [
        "GridSearchCV(cv=5, error_score='raise',\n",
        "       estimator=regularisationL1(dim=10, eps=0.01, lamda=1, maxiter=1000),\n",
        "       fit_params={}, iid=True, n_jobs=1,\n",
        "       param_grid={'lamda': [0.05, 0.1, 0.2, 0.3, 0.4, 0.5, 0.6]},\n",
        "       pre_dispatch='2*n_jobs', refit=True, scoring=None, verbose=3)"
       ]
      }
     ],
     "prompt_number": 9
    },
    {
     "cell_type": "code",
     "collapsed": false,
     "input": [
      "sorted(grid_search.grid_scores_, key=lambda x: x.mean_validation_score)\n",
      "grid_search.best_score_\n",
      "grid_search.best_params_"
     ],
     "language": "python",
     "metadata": {},
     "outputs": [
      {
       "metadata": {},
       "output_type": "pyout",
       "prompt_number": 10,
       "text": [
        "{'lamda': 0.05}"
       ]
      }
     ],
     "prompt_number": 10
    },
    {
     "cell_type": "code",
     "collapsed": false,
     "input": [],
     "language": "python",
     "metadata": {},
     "outputs": [
      {
       "output_type": "stream",
       "stream": "stdout",
       "text": [
        "[0 1 2 3 4 5 6 7 8 9]\n"
       ]
      }
     ],
     "prompt_number": 8
    },
    {
     "cell_type": "code",
     "collapsed": false,
     "input": [],
     "language": "python",
     "metadata": {},
     "outputs": []
    }
   ],
   "metadata": {}
  }
 ]
}