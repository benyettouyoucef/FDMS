{
 "metadata": {
  "kernelspec": {
   "display_name": "Python 2",
   "language": "python",
   "name": "python2"
  },
  "language_info": {
   "codemirror_mode": {
    "name": "ipython",
    "version": 2
   },
   "file_extension": ".py",
   "mimetype": "text/x-python",
   "name": "python",
   "nbconvert_exporter": "python",
   "pygments_lexer": "ipython2",
   "version": "2.7.12"
  },
  "name": "",
  "signature": "sha256:627ee401c6d692d700a8c670e3d1e3fe2f7cf44e0d784bc0b83e955eb968c26c"
 },
 "nbformat": 3,
 "nbformat_minor": 0,
 "worksheets": [
  {
   "cells": [
    {
     "cell_type": "markdown",
     "metadata": {},
     "source": [
      "# chargement de donn\u00e9es\n"
     ]
    },
    {
     "cell_type": "code",
     "collapsed": false,
     "input": [
      "%matplotlib inline\n",
      "from sklearn.datasets import load_digits\n",
      "from sklearn.cross_validation import train_test_split\n",
      "import matplotlib.pyplot as plt\n",
      "import numpy as np\n",
      "from mpl_toolkits.mplot3d import Axes3D\n",
      "\n",
      "\n",
      "\n",
      "# chargement \n",
      "digits = load_digits()\n",
      "x = digits.data\n",
      "y = digits.target\n",
      "\n",
      "\n",
      "#\u00a0devision des data en train et test\n",
      "X_train, X_test, Y_train, Y_test = train_test_split(x, y, test_size=0.1)\n"
     ],
     "language": "python",
     "metadata": {},
     "outputs": [],
     "prompt_number": 13
    },
    {
     "cell_type": "heading",
     "level": 1,
     "metadata": {},
     "source": [
      "fonction calculant les k voisins les plus proches pour chaque points "
     ]
    },
    {
     "cell_type": "code",
     "collapsed": false,
     "input": [
      "def PlusProcheVoisins(X,K):\n",
      "    voisins = []\n",
      "    N = len(X)\n",
      "    for i in xrange(N):\n",
      "        dist = np.linalg.norm(X[i]-X, axis =1) # N x 1\n",
      "        idx = dist.argsort() # index tri\u00e9 par ordre d\u00e9croissant selon la distance    \n",
      "        voisins.append(idx[:K+1]) #garde les indexe des plus proches voisins \n",
      "    return np.array(voisins)"
     ],
     "language": "python",
     "metadata": {},
     "outputs": [],
     "prompt_number": 14
    },
    {
     "cell_type": "heading",
     "level": 1,
     "metadata": {},
     "source": [
      "Algothime LLE"
     ]
    },
    {
     "cell_type": "code",
     "collapsed": false,
     "input": [
      "from scipy.linalg import solve\n",
      "from scipy.sparse import linalg, eye\n",
      "import numpy as np \n",
      "\n",
      "def LLE (X,K):\n",
      " #Recherche des Poids optimaux   \n",
      "     \n",
      "    N,M = X.shape\n",
      "    n = PlusProcheVoisins(X,K)\n",
      "    W = np.zeros((N,K))\n",
      "    point = np.zeros((K,M))\n",
      "    voisins = np.zeros((K,M)) \n",
      "    W_final = np.zeros((N,N))\n",
      "    \n",
      "    for ii in range(N):\n",
      "        # le point original repeter k fois \n",
      "        for i in range(K):\n",
      "            point[i,:] = X[ii,:] \n",
      "            \n",
      "        # les voisins du point original     \n",
      "        for j in range(K):\n",
      "            kk = n[ii][j]\n",
      "            voisins[j,:] = X[kk,:]\n",
      "            \n",
      " #  create matrix Z consisting of all neighbours of Xi\n",
      " #  subtract Xi from every column of Z\n",
      "         \n",
      "        z = point-voisins  \n",
      " #  compute the local covariance C=Z'*Z\n",
      "        C = z.dot(z.T)   \n",
      "        # r\u00e9soudre C*w=1\n",
      "        B = np.ones(K)\n",
      "        W[ii,:] = solve(C,B)\n",
      " # set the remaining elements in the ith row of W equal to w/sum(w)          \n",
      "        W[ii,:] = W[ii,:]/np.sum(W[ii,:])  \n",
      "        W_final[ii][n[ii]] = W[ii]\n",
      "        \n",
      " # Compute embedding coordinates Y using weights W       \n",
      " # sparse matrix => matrice = (I-W)'*(I-W)       \n",
      "    M = np.identity(N)-W_final\n",
      "    matrice = M.T.dot(M)\n",
      " # trouver d + 1 vecteur propre de matrice   \n",
      "    u,sigma,v = np.linalg.svd(matrice,full_matrices=0)\n",
      "    indice = np.argsort(sigma)[1:4]\n",
      "    Y = np.array(v[indice,:].T) \n",
      "\n",
      "    return Y    \n",
      "\n"
     ],
     "language": "python",
     "metadata": {
      "scrolled": true
     },
     "outputs": [],
     "prompt_number": 16
    },
    {
     "cell_type": "heading",
     "level": 1,
     "metadata": {},
     "source": [
      "Algorithme  t-SNE"
     ]
    },
    {
     "cell_type": "code",
     "collapsed": true,
     "input": [
      "from scipy import stats\n",
      "import numpy\n",
      "\n",
      "class TSNE2():\n",
      "    def __init__(self, n_components=2, perplexity=30.0, learning_rate=1000.0, n_iter=1000, alpha=0):\n",
      "        self.perplexity = perplexity # entre 5 et 50\n",
      "        self.eta = learning_rate\n",
      "        self.dim = n_components\n",
      "        self.n_iter = n_iter\n",
      "        self.alpha = alpha\n",
      "\n",
      "    def fit_transform(self,x):\n",
      "        self.x = x\n",
      "        n,m = self.x.shape\n",
      "\n",
      "        # Recherche dichotomique du sigma (entre le max des distances et le min)\n",
      "        \n",
      "        # Utiliser la d\u00e9composition matriciel pour calculer la norm ||xi-xj||\u00b2 = <xi-xj; xi-xj> \n",
      "        x_norm = np.sum(self.x**2,axis=1).reshape(1, n)\n",
      "        distancex = x_norm + x_norm.T - 2 * np.dot(self.x,self.x.T)\n",
      "        \n",
      "        inf = np.zeros((n,1))\n",
      "        sup = np.ones((n,1)) * np.max(distancex)\n",
      "        self.sigma = (inf+sup)/2.0\n",
      "        \n",
      "        self.lperp = np.log2(self.perplexity)\n",
      "\n",
      "\n",
      "        #dichotomie        \n",
      "        while True:\n",
      "            self.pcond = np.exp( -distancex /(2.0*self.sigma**2) )\n",
      "            self.pcond = self.pcond / (( self.pcond-np.eye(n) ).sum(axis=1) ).reshape( n,1 ) # ne pas compter si k=i,n\n",
      "\n",
      "            self.H = - np.sum(  self.pcond * np.log2(self.pcond), axis=0 )\n",
      "            self.perp = 2**self.H\n",
      "            \n",
      "            for i in xrange(n):\n",
      "                if ( self.perp[i] < self.lperp ):\n",
      "                    inf[i] = self.sigma[i]\n",
      "                else:\n",
      "                    sup[i] = self.sigma[i]\n",
      "            sigma_old = self.sigma\n",
      "            self.sigma = ((sup + inf) / 2.)\n",
      "            if np.max(np.abs(sigma_old - self.sigma)) < 1e-5:\n",
      "               break\n",
      "\n",
      "\n",
      "        self.pij = (self.pcond+self.pcond.T) / (2.0*n)\n",
      "        np.fill_diagonal(self.pij, 0)\n",
      "        \n",
      "        # init y\n",
      "        self.y = np.zeros( (self.n_iter+2,n,self.dim) )\n",
      "        self.y[1] =  numpy.random.normal(0, 1e-4, (n, self.dim))#1\n",
      "\n",
      "        loss = []\n",
      "        for t in xrange( 1, self.n_iter + 1 ):\n",
      "            # qij\n",
      "            y_norm = np.sum(self.y[t]**2,axis=1).reshape(1, n)\n",
      "            distance_y = y_norm + y_norm.T - 2 * np.dot(self.y[t],self.y[t].T)\n",
      "            \n",
      "            self.qij = 1 / ( 1 + distance_y )\n",
      "            np.fill_diagonal(self.qij, 0)\n",
      "            self.qij = self.qij/self.qij.sum()\n",
      "\n",
      "            yt = self.y[t]\n",
      "            grad = 4 * ( (self.pij-self.qij) / (1 + distance_y)).reshape(n,n,1)\n",
      "            for i in range(n):\n",
      "                grad_i = ( grad[i] * (yt[i] - yt) ).sum(0)\n",
      "                self.y[t+1][i] = yt[i] - self.eta * grad_i + self.alpha * (yt[i] - self.y[t-1][i])            \n",
      "            \n",
      "            l = stats.entropy(self.pij, self.qij, 2).mean()\n",
      "            loss.append(l)\n",
      "            if (t % 1 == 30):\n",
      "                print t,l, self.pij.mean(), self.qij.mean(), yt.mean()\n",
      "        return self.y\n",
      "       \n",
      "        \n",
      "\n",
      "     \n"
     ],
     "language": "python",
     "metadata": {},
     "outputs": [],
     "prompt_number": 17
    },
    {
     "cell_type": "heading",
     "level": 1,
     "metadata": {},
     "source": [
      "Visualisation des points en 3D"
     ]
    },
    {
     "cell_type": "code",
     "collapsed": false,
     "input": [
      "def plot_LLE_3D (Y,Y_train):\n",
      "    \n",
      "    fig = plt.figure()\n",
      "    ax = fig.add_subplot(111, projection='3d')\n",
      "    categories = Y_train\n",
      "    colormap = np.array(['r', 'g', 'b','#16B84E','y','#87591A','c','m','#FF00FF','#D473D4'])\n",
      "    t = ax.scatter(Y[:,0], Y[:,1] ,Y[:,2], s=80 , c=colormap[categories])\n",
      "    plt.show()\n",
      "    \n",
      "\n"
     ],
     "language": "python",
     "metadata": {},
     "outputs": [],
     "prompt_number": 18
    },
    {
     "cell_type": "heading",
     "level": 1,
     "metadata": {},
     "source": [
      "Visualisation des points en 2D"
     ]
    },
    {
     "cell_type": "code",
     "collapsed": true,
     "input": [
      "def plot_LLE_2D (Y,Y_train):\n",
      "    \n",
      "    fig = plt.figure()\n",
      "    categories = Y_train\n",
      "    colormap = np.array(['r', 'g', 'b','#16B84E','y','#87591A','c','m','#FF00FF','#D473D4'])\n",
      "    plt.scatter(Y[:,0], Y[:,1] , s=80 , c=colormap[categories])\n",
      "    plt.show()\n",
      "    "
     ],
     "language": "python",
     "metadata": {},
     "outputs": [],
     "prompt_number": 19
    },
    {
     "cell_type": "heading",
     "level": 1,
     "metadata": {},
     "source": [
      "TEST LLE"
     ]
    },
    {
     "cell_type": "code",
     "collapsed": false,
     "input": [
      "Y_LLE = LLE (X_train,17)\n",
      "\n",
      "plot_LLE_3D (Y_LLE,Y_train)\n",
      "\n",
      "#plot_LLE_2D(Y_LLE,Y_train)"
     ],
     "language": "python",
     "metadata": {},
     "outputs": [
      {
       "ename": "NameError",
       "evalue": "global name 'N' is not defined",
       "output_type": "pyerr",
       "traceback": [
        "\u001b[1;31m---------------------------------------------------------------------------\u001b[0m\n\u001b[1;31mNameError\u001b[0m                                 Traceback (most recent call last)",
        "\u001b[1;32m<ipython-input-20-22b0483730bd>\u001b[0m in \u001b[0;36m<module>\u001b[1;34m()\u001b[0m\n\u001b[1;32m----> 1\u001b[1;33m \u001b[0mY_LLE\u001b[0m \u001b[1;33m=\u001b[0m \u001b[0mLLE\u001b[0m \u001b[1;33m(\u001b[0m\u001b[0mX_train\u001b[0m\u001b[1;33m,\u001b[0m\u001b[1;36m17\u001b[0m\u001b[1;33m)\u001b[0m\u001b[1;33m\u001b[0m\u001b[0m\n\u001b[0m\u001b[0;32m      2\u001b[0m \u001b[1;33m\u001b[0m\u001b[0m\n\u001b[0;32m      3\u001b[0m \u001b[0mplot_LLE_3D\u001b[0m \u001b[1;33m(\u001b[0m\u001b[0mY_LLE\u001b[0m\u001b[1;33m,\u001b[0m\u001b[0mY_train\u001b[0m\u001b[1;33m)\u001b[0m\u001b[1;33m\u001b[0m\u001b[0m\n\u001b[0;32m      4\u001b[0m \u001b[1;33m\u001b[0m\u001b[0m\n\u001b[0;32m      5\u001b[0m \u001b[1;31m#plot_LLE_2D(Y_LLE,Y_train)\u001b[0m\u001b[1;33m\u001b[0m\u001b[1;33m\u001b[0m\u001b[0m\n",
        "\u001b[1;32m<ipython-input-16-bc10a344608e>\u001b[0m in \u001b[0;36mLLE\u001b[1;34m(X, K)\u001b[0m\n\u001b[0;32m      7\u001b[0m \u001b[1;33m\u001b[0m\u001b[0m\n\u001b[0;32m      8\u001b[0m     \u001b[0mN\u001b[0m\u001b[1;33m,\u001b[0m\u001b[0mM\u001b[0m \u001b[1;33m=\u001b[0m \u001b[0mX\u001b[0m\u001b[1;33m.\u001b[0m\u001b[0mshape\u001b[0m\u001b[1;33m\u001b[0m\u001b[0m\n\u001b[1;32m----> 9\u001b[1;33m     \u001b[0mn\u001b[0m \u001b[1;33m=\u001b[0m \u001b[0mPlusProcheVoisins\u001b[0m\u001b[1;33m(\u001b[0m\u001b[0mX\u001b[0m\u001b[1;33m,\u001b[0m\u001b[0mK\u001b[0m\u001b[1;33m)\u001b[0m\u001b[1;33m\u001b[0m\u001b[0m\n\u001b[0m\u001b[0;32m     10\u001b[0m     \u001b[0mW\u001b[0m \u001b[1;33m=\u001b[0m \u001b[0mnp\u001b[0m\u001b[1;33m.\u001b[0m\u001b[0mzeros\u001b[0m\u001b[1;33m(\u001b[0m\u001b[1;33m(\u001b[0m\u001b[0mN\u001b[0m\u001b[1;33m,\u001b[0m\u001b[0mK\u001b[0m\u001b[1;33m)\u001b[0m\u001b[1;33m)\u001b[0m\u001b[1;33m\u001b[0m\u001b[0m\n\u001b[0;32m     11\u001b[0m     \u001b[0mpoint\u001b[0m \u001b[1;33m=\u001b[0m \u001b[0mnp\u001b[0m\u001b[1;33m.\u001b[0m\u001b[0mzeros\u001b[0m\u001b[1;33m(\u001b[0m\u001b[1;33m(\u001b[0m\u001b[0mK\u001b[0m\u001b[1;33m,\u001b[0m\u001b[0mM\u001b[0m\u001b[1;33m)\u001b[0m\u001b[1;33m)\u001b[0m\u001b[1;33m\u001b[0m\u001b[0m\n",
        "\u001b[1;32m<ipython-input-14-56a85b735307>\u001b[0m in \u001b[0;36mPlusProcheVoisins\u001b[1;34m(X, K)\u001b[0m\n\u001b[0;32m      1\u001b[0m \u001b[1;32mdef\u001b[0m \u001b[0mPlusProcheVoisins\u001b[0m\u001b[1;33m(\u001b[0m\u001b[0mX\u001b[0m\u001b[1;33m,\u001b[0m\u001b[0mK\u001b[0m\u001b[1;33m)\u001b[0m\u001b[1;33m:\u001b[0m\u001b[1;33m\u001b[0m\u001b[0m\n\u001b[0;32m      2\u001b[0m     \u001b[0mvoisins\u001b[0m \u001b[1;33m=\u001b[0m \u001b[1;33m[\u001b[0m\u001b[1;33m]\u001b[0m\u001b[1;33m\u001b[0m\u001b[0m\n\u001b[1;32m----> 3\u001b[1;33m     \u001b[1;32mfor\u001b[0m \u001b[0mi\u001b[0m \u001b[1;32min\u001b[0m \u001b[0mxrange\u001b[0m\u001b[1;33m(\u001b[0m\u001b[0mN\u001b[0m\u001b[1;33m)\u001b[0m\u001b[1;33m:\u001b[0m\u001b[1;33m\u001b[0m\u001b[0m\n\u001b[0m\u001b[0;32m      4\u001b[0m         \u001b[0mdist\u001b[0m \u001b[1;33m=\u001b[0m \u001b[0mnp\u001b[0m\u001b[1;33m.\u001b[0m\u001b[0mlinalg\u001b[0m\u001b[1;33m.\u001b[0m\u001b[0mnorm\u001b[0m\u001b[1;33m(\u001b[0m\u001b[0mX\u001b[0m\u001b[1;33m[\u001b[0m\u001b[0mi\u001b[0m\u001b[1;33m]\u001b[0m\u001b[1;33m-\u001b[0m\u001b[0mX\u001b[0m\u001b[1;33m,\u001b[0m \u001b[0maxis\u001b[0m \u001b[1;33m=\u001b[0m\u001b[1;36m1\u001b[0m\u001b[1;33m)\u001b[0m \u001b[1;31m# N x 1\u001b[0m\u001b[1;33m\u001b[0m\u001b[0m\n\u001b[0;32m      5\u001b[0m         \u001b[0midx\u001b[0m \u001b[1;33m=\u001b[0m \u001b[0mdist\u001b[0m\u001b[1;33m.\u001b[0m\u001b[0margsort\u001b[0m\u001b[1;33m(\u001b[0m\u001b[1;33m)\u001b[0m \u001b[1;31m# index tri\u00e9 par ordre d\u00e9croissant selon la distance\u001b[0m\u001b[1;33m\u001b[0m\u001b[0m\n",
        "\u001b[1;31mNameError\u001b[0m: global name 'N' is not defined"
       ]
      }
     ],
     "prompt_number": 20
    },
    {
     "cell_type": "heading",
     "level": 1,
     "metadata": {},
     "source": [
      "TEST t_SNE"
     ]
    },
    {
     "cell_type": "code",
     "collapsed": false,
     "input": [
      "\n",
      "Y_t_SNE = TSNE2(n_components=2, perplexity=30.0, learning_rate=1000.0, n_iter=1000, alpha=0).fit_transform(X_train)\n",
      "\n",
      "plot_LLE_2D (Y_t_SNE,Y_train)\n",
      "\n",
      "#plot_LLE_2D(Y_t_SNE,Y_train)"
     ],
     "language": "python",
     "metadata": {},
     "outputs": [],
     "prompt_number": 10
    },
    {
     "cell_type": "code",
     "collapsed": false,
     "input": [],
     "language": "python",
     "metadata": {},
     "outputs": []
    }
   ],
   "metadata": {}
  }
 ]
}